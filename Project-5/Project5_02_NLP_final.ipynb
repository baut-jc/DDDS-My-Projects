{
"widgets": 
  { 
    "application/vnd.jupyter.widget-state+json": { 
      "state": {
        }, 
      "version_major": 2,
      "version_minor": 0. }
  }  
"cells": [
    {
      "cell_type": "markdown",
      "metadata": {
        "id": "view-in-github",
        "colab_type": "text"
      },
      "source": [
        "<a href=\"https://colab.research.google.com/github/baut-jc/DDDS-My-Projects/blob/main/Project-5/Project5_02_NLP_final.ipynb\" target=\"_parent\"><img src=\"https://colab.research.google.com/assets/colab-badge.svg\" alt=\"Open In Colab\"/></a>"
      ]
    },
    {
      "cell_type": "markdown",
      "source": [
        "# Overview\n"
      ],
      "metadata": {
        "id": "qC-cVgp_4y2E"
      }
    },
    {
      "cell_type": "markdown",
      "metadata": {
        "id": "CxYSWPCsM0YU"
      },
      "source": [
        "# Natural Language Processing\n",
        "\n"
      ]
    },
    {
      "cell_type": "markdown",
      "metadata": {
        "id": "FGQCPUEuNezI"
      },
      "source": [
        "This project will give you practical experience using Natural Language Processing techniques. This project is in three parts:\n",
        "- in part 1) you will use a dataset in a CSV file\n",
        "- in part 2) you will use the Wikipedia API to directly access content\n",
        "on Wikipedia.\n",
        "- in part 3) you will make your notebook interactive\n"
      ]
    },
    {
      "cell_type": "code",
      "source": [
        "%%html\n",
        "<iframe\n",
        "  src=\"https://gamma.app/embed/iawes63vbzwbk2b\"\n",
        "  style=\"width: 800px; max-width: 150%; height: 470px\"\n",
        "  allow=\"widescreen\"\n",
        "  title=\"Finding Similar Famous People: An NLP-Based Recommender System\">\n",
        "</iframe>\n"
      ],
      "metadata": {
        "colab": {
          "base_uri": "https://localhost:8080/",
          "height": 495
        },
        "id": "fsh5YmwP5F6g",
        "outputId": "a5b299a4-57ff-4599-fbf9-290a735576bf"
      },
      "execution_count": 1,
      "outputs": [
        {
          "output_type": "display_data",
          "data": {
            "text/plain": [
              "<IPython.core.display.HTML object>"
            ],
            "text/html": [
              "<iframe \n",
              "  src=\"https://gamma.app/embed/iawes63vbzwbk2b\" \n",
              "  style=\"width: 800px; max-width: 150%; height: 470px\" \n",
              "  allow=\"widescreen\" \n",
              "  title=\"Finding Similar Famous People: An NLP-Based Recommender System\">\n",
              "</iframe>\n"
            ]
          },
          "metadata": {}
        }
      ]
    },
    {
      "cell_type": "code",
      "source": [
        "%%capture output\n",
        "#install Wikipedia API\n",
        "!pip3 install wikipedia-api"
      ],
      "metadata": {
        "id": "NgAGLWCV-M7A"
      },
      "execution_count": 2,
      "outputs": []
    },
    {
      "cell_type": "code",
      "source": [
        "import pandas as pd\n",
        "import numpy as np\n",
        "import re\n",
        "\n",
        "from textblob import TextBlob\n",
        "from sklearn.feature_extraction.text import CountVectorizer\n",
        "from sklearn.feature_extraction.text import TfidfTransformer\n",
        "from sklearn.feature_extraction.text import TfidfVectorizer\n",
        "from sklearn.metrics.pairwise import cosine_similarity\n",
        "from sklearn.neighbors import NearestNeighbors\n",
        "\n",
        "import matplotlib.pyplot as plt\n",
        "import seaborn as sns\n",
        "\n",
        "import wikipediaapi\n",
        "import ipywidgets as widgets # ipywidgets are used for creating interactive user interface elements in Jupyter Notebooks.\n",
        "import nltk\n",
        "\n",
        "nltk.download('punkt_tab')\n",
        "pd.options.display.max_columns = 100\n"
      ],
      "metadata": {
        "colab": {
          "base_uri": "https://localhost:8080/"
        },
        "id": "5SUBhs6G55Fi",
        "outputId": "c69ed8a4-57ac-4aaf-c34d-180778c03207"
      },
      "execution_count": 3,
      "outputs": [
        {
          "output_type": "stream",
          "name": "stderr",
          "text": [
            "[nltk_data] Downloading package punkt_tab to /root/nltk_data...\n",
            "[nltk_data]   Package punkt_tab is already up-to-date!\n"
          ]
        }
      ]
    },
    {
      "cell_type": "markdown",
      "source": [
        "##Data Collection and Sources"
      ],
      "metadata": {
        "id": "FIvFDd5iq45Q"
      }
    },
    {
      "cell_type": "code",
      "source": [
        "df=pd.read_csv('https://ddc-datascience.s3.amazonaws.com/Projects/Project.5-NLP/Data/NLP.csv')"
      ],
      "metadata": {
        "id": "Ek2V9Qgb6Be_"
      },
      "execution_count": 4,
      "outputs": []
    },
    {
      "cell_type": "code",
      "source": [
        "df.shape, df.info()"
      ],
      "metadata": {
        "colab": {
          "base_uri": "https://localhost:8080/"
        },
        "id": "ATV-_x-86HxW",
        "outputId": "870cc0d0-7d3e-467f-b9c8-a02b4fbd642a"
      },
      "execution_count": 5,
      "outputs": [
        {
          "output_type": "stream",
          "name": "stdout",
          "text": [
            "<class 'pandas.core.frame.DataFrame'>\n",
            "RangeIndex: 42786 entries, 0 to 42785\n",
            "Data columns (total 3 columns):\n",
            " #   Column  Non-Null Count  Dtype \n",
            "---  ------  --------------  ----- \n",
            " 0   URI     42786 non-null  object\n",
            " 1   name    42786 non-null  object\n",
            " 2   text    42786 non-null  object\n",
            "dtypes: object(3)\n",
            "memory usage: 1002.9+ KB\n"
          ]
        },
        {
          "output_type": "execute_result",
          "data": {
            "text/plain": [
              "((42786, 3), None)"
            ]
          },
          "metadata": {},
          "execution_count": 5
        }
      ]
    },
    {
      "cell_type": "code",
      "source": [
        "df.head()"
      ],
      "metadata": {
        "colab": {
          "base_uri": "https://localhost:8080/",
          "height": 206
        },
        "id": "w4t3s4tg6Eaw",
        "outputId": "748f1148-fd91-4e5b-d7f1-cfbd9f9c32d8"
      },
      "execution_count": 6,
      "outputs": [
        {
          "output_type": "execute_result",
          "data": {
            "text/plain": [
              "                                                 URI                 name  \\\n",
              "0        <http://dbpedia.org/resource/Digby_Morrell>        Digby Morrell   \n",
              "1       <http://dbpedia.org/resource/Alfred_J._Lewy>       Alfred J. Lewy   \n",
              "2        <http://dbpedia.org/resource/Harpdog_Brown>        Harpdog Brown   \n",
              "3  <http://dbpedia.org/resource/Franz_Rottensteiner>  Franz Rottensteiner   \n",
              "4               <http://dbpedia.org/resource/G-Enka>               G-Enka   \n",
              "\n",
              "                                                text  \n",
              "0  digby morrell born 10 october 1979 is a former...  \n",
              "1  alfred j lewy aka sandy lewy graduated from un...  \n",
              "2  harpdog brown is a singer and harmonica player...  \n",
              "3  franz rottensteiner born in waidmannsfeld lowe...  \n",
              "4  henry krvits born 30 december 1974 in tallinn ...  "
            ],
            "text/html": [
              "\n",
              "  <div id=\"df-e6b6a1bd-8253-49fd-bd70-7e7f3e755cbf\" class=\"colab-df-container\">\n",
              "    <div>\n",
              "<style scoped>\n",
              "    .dataframe tbody tr th:only-of-type {\n",
              "        vertical-align: middle;\n",
              "    }\n",
              "\n",
              "    .dataframe tbody tr th {\n",
              "        vertical-align: top;\n",
              "    }\n",
              "\n",
              "    .dataframe thead th {\n",
              "        text-align: right;\n",
              "    }\n",
              "</style>\n",
              "<table border=\"1\" class=\"dataframe\">\n",
              "  <thead>\n",
              "    <tr style=\"text-align: right;\">\n",
              "      <th></th>\n",
              "      <th>URI</th>\n",
              "      <th>name</th>\n",
              "      <th>text</th>\n",
              "    </tr>\n",
              "  </thead>\n",
              "  <tbody>\n",
              "    <tr>\n",
              "      <th>0</th>\n",
              "      <td>&lt;http://dbpedia.org/resource/Digby_Morrell&gt;</td>\n",
              "      <td>Digby Morrell</td>\n",
              "      <td>digby morrell born 10 october 1979 is a former...</td>\n",
              "    </tr>\n",
              "    <tr>\n",
              "      <th>1</th>\n",
              "      <td>&lt;http://dbpedia.org/resource/Alfred_J._Lewy&gt;</td>\n",
              "      <td>Alfred J. Lewy</td>\n",
              "      <td>alfred j lewy aka sandy lewy graduated from un...</td>\n",
              "    </tr>\n",
              "    <tr>\n",
              "      <th>2</th>\n",
              "      <td>&lt;http://dbpedia.org/resource/Harpdog_Brown&gt;</td>\n",
              "      <td>Harpdog Brown</td>\n",
              "      <td>harpdog brown is a singer and harmonica player...</td>\n",
              "    </tr>\n",
              "    <tr>\n",
              "      <th>3</th>\n",
              "      <td>&lt;http://dbpedia.org/resource/Franz_Rottensteiner&gt;</td>\n",
              "      <td>Franz Rottensteiner</td>\n",
              "      <td>franz rottensteiner born in waidmannsfeld lowe...</td>\n",
              "    </tr>\n",
              "    <tr>\n",
              "      <th>4</th>\n",
              "      <td>&lt;http://dbpedia.org/resource/G-Enka&gt;</td>\n",
              "      <td>G-Enka</td>\n",
              "      <td>henry krvits born 30 december 1974 in tallinn ...</td>\n",
              "    </tr>\n",
              "  </tbody>\n",
              "</table>\n",
              "</div>\n",
              "    <div class=\"colab-df-buttons\">\n",
              "\n",
              "  <div class=\"colab-df-container\">\n",
              "    <button class=\"colab-df-convert\" onclick=\"convertToInteractive('df-e6b6a1bd-8253-49fd-bd70-7e7f3e755cbf')\"\n",
              "            title=\"Convert this dataframe to an interactive table.\"\n",
              "            style=\"display:none;\">\n",
              "\n",
              "  <svg xmlns=\"http://www.w3.org/2000/svg\" height=\"24px\" viewBox=\"0 -960 960 960\">\n",
              "    <path d=\"M120-120v-720h720v720H120Zm60-500h600v-160H180v160Zm220 220h160v-160H400v160Zm0 220h160v-160H400v160ZM180-400h160v-160H180v160Zm440 0h160v-160H620v160ZM180-180h160v-160H180v160Zm440 0h160v-160H620v160Z\"/>\n",
              "  </svg>\n",
              "    </button>\n",
              "\n",
              "  <style>\n",
              "    .colab-df-container {\n",
              "      display:flex;\n",
              "      gap: 12px;\n",
              "    }\n",
              "\n",
              "    .colab-df-convert {\n",
              "      background-color: #E8F0FE;\n",
              "      border: none;\n",
              "      border-radius: 50%;\n",
              "      cursor: pointer;\n",
              "      display: none;\n",
              "      fill: #1967D2;\n",
              "      height: 32px;\n",
              "      padding: 0 0 0 0;\n",
              "      width: 32px;\n",
              "    }\n",
              "\n",
              "    .colab-df-convert:hover {\n",
              "      background-color: #E2EBFA;\n",
              "      box-shadow: 0px 1px 2px rgba(60, 64, 67, 0.3), 0px 1px 3px 1px rgba(60, 64, 67, 0.15);\n",
              "      fill: #174EA6;\n",
              "    }\n",
              "\n",
              "    .colab-df-buttons div {\n",
              "      margin-bottom: 4px;\n",
              "    }\n",
              "\n",
              "    [theme=dark] .colab-df-convert {\n",
              "      background-color: #3B4455;\n",
              "      fill: #D2E3FC;\n",
              "    }\n",
              "\n",
              "    [theme=dark] .colab-df-convert:hover {\n",
              "      background-color: #434B5C;\n",
              "      box-shadow: 0px 1px 3px 1px rgba(0, 0, 0, 0.15);\n",
              "      filter: drop-shadow(0px 1px 2px rgba(0, 0, 0, 0.3));\n",
              "      fill: #FFFFFF;\n",
              "    }\n",
              "  </style>\n",
              "\n",
              "    <script>\n",
              "      const buttonEl =\n",
              "        document.querySelector('#df-e6b6a1bd-8253-49fd-bd70-7e7f3e755cbf button.colab-df-convert');\n",
              "      buttonEl.style.display =\n",
              "        google.colab.kernel.accessAllowed ? 'block' : 'none';\n",
              "\n",
              "      async function convertToInteractive(key) {\n",
              "        const element = document.querySelector('#df-e6b6a1bd-8253-49fd-bd70-7e7f3e755cbf');\n",
              "        const dataTable =\n",
              "          await google.colab.kernel.invokeFunction('convertToInteractive',\n",
              "                                                    [key], {});\n",
              "        if (!dataTable) return;\n",
              "\n",
              "        const docLinkHtml = 'Like what you see? Visit the ' +\n",
              "          '<a target=\"_blank\" href=https://colab.research.google.com/notebooks/data_table.ipynb>data table notebook</a>'\n",
              "          + ' to learn more about interactive tables.';\n",
              "        element.innerHTML = '';\n",
              "        dataTable['output_type'] = 'display_data';\n",
              "        await google.colab.output.renderOutput(dataTable, element);\n",
              "        const docLink = document.createElement('div');\n",
              "        docLink.innerHTML = docLinkHtml;\n",
              "        element.appendChild(docLink);\n",
              "      }\n",
              "    </script>\n",
              "  </div>\n",
              "\n",
              "\n",
              "    <div id=\"df-ab25f042-67d9-4a6b-9855-a7e86a16db09\">\n",
              "      <button class=\"colab-df-quickchart\" onclick=\"quickchart('df-ab25f042-67d9-4a6b-9855-a7e86a16db09')\"\n",
              "                title=\"Suggest charts\"\n",
              "                style=\"display:none;\">\n",
              "\n",
              "<svg xmlns=\"http://www.w3.org/2000/svg\" height=\"24px\"viewBox=\"0 0 24 24\"\n",
              "     width=\"24px\">\n",
              "    <g>\n",
              "        <path d=\"M19 3H5c-1.1 0-2 .9-2 2v14c0 1.1.9 2 2 2h14c1.1 0 2-.9 2-2V5c0-1.1-.9-2-2-2zM9 17H7v-7h2v7zm4 0h-2V7h2v10zm4 0h-2v-4h2v4z\"/>\n",
              "    </g>\n",
              "</svg>\n",
              "      </button>\n",
              "\n",
              "<style>\n",
              "  .colab-df-quickchart {\n",
              "      --bg-color: #E8F0FE;\n",
              "      --fill-color: #1967D2;\n",
              "      --hover-bg-color: #E2EBFA;\n",
              "      --hover-fill-color: #174EA6;\n",
              "      --disabled-fill-color: #AAA;\n",
              "      --disabled-bg-color: #DDD;\n",
              "  }\n",
              "\n",
              "  [theme=dark] .colab-df-quickchart {\n",
              "      --bg-color: #3B4455;\n",
              "      --fill-color: #D2E3FC;\n",
              "      --hover-bg-color: #434B5C;\n",
              "      --hover-fill-color: #FFFFFF;\n",
              "      --disabled-bg-color: #3B4455;\n",
              "      --disabled-fill-color: #666;\n",
              "  }\n",
              "\n",
              "  .colab-df-quickchart {\n",
              "    background-color: var(--bg-color);\n",
              "    border: none;\n",
              "    border-radius: 50%;\n",
              "    cursor: pointer;\n",
              "    display: none;\n",
              "    fill: var(--fill-color);\n",
              "    height: 32px;\n",
              "    padding: 0;\n",
              "    width: 32px;\n",
              "  }\n",
              "\n",
              "  .colab-df-quickchart:hover {\n",
              "    background-color: var(--hover-bg-color);\n",
              "    box-shadow: 0 1px 2px rgba(60, 64, 67, 0.3), 0 1px 3px 1px rgba(60, 64, 67, 0.15);\n",
              "    fill: var(--button-hover-fill-color);\n",
              "  }\n",
              "\n",
              "  .colab-df-quickchart-complete:disabled,\n",
              "  .colab-df-quickchart-complete:disabled:hover {\n",
              "    background-color: var(--disabled-bg-color);\n",
              "    fill: var(--disabled-fill-color);\n",
              "    box-shadow: none;\n",
              "  }\n",
              "\n",
              "  .colab-df-spinner {\n",
              "    border: 2px solid var(--fill-color);\n",
              "    border-color: transparent;\n",
              "    border-bottom-color: var(--fill-color);\n",
              "    animation:\n",
              "      spin 1s steps(1) infinite;\n",
              "  }\n",
              "\n",
              "  @keyframes spin {\n",
              "    0% {\n",
              "      border-color: transparent;\n",
              "      border-bottom-color: var(--fill-color);\n",
              "      border-left-color: var(--fill-color);\n",
              "    }\n",
              "    20% {\n",
              "      border-color: transparent;\n",
              "      border-left-color: var(--fill-color);\n",
              "      border-top-color: var(--fill-color);\n",
              "    }\n",
              "    30% {\n",
              "      border-color: transparent;\n",
              "      border-left-color: var(--fill-color);\n",
              "      border-top-color: var(--fill-color);\n",
              "      border-right-color: var(--fill-color);\n",
              "    }\n",
              "    40% {\n",
              "      border-color: transparent;\n",
              "      border-right-color: var(--fill-color);\n",
              "      border-top-color: var(--fill-color);\n",
              "    }\n",
              "    60% {\n",
              "      border-color: transparent;\n",
              "      border-right-color: var(--fill-color);\n",
              "    }\n",
              "    80% {\n",
              "      border-color: transparent;\n",
              "      border-right-color: var(--fill-color);\n",
              "      border-bottom-color: var(--fill-color);\n",
              "    }\n",
              "    90% {\n",
              "      border-color: transparent;\n",
              "      border-bottom-color: var(--fill-color);\n",
              "    }\n",
              "  }\n",
              "</style>\n",
              "\n",
              "      <script>\n",
              "        async function quickchart(key) {\n",
              "          const quickchartButtonEl =\n",
              "            document.querySelector('#' + key + ' button');\n",
              "          quickchartButtonEl.disabled = true;  // To prevent multiple clicks.\n",
              "          quickchartButtonEl.classList.add('colab-df-spinner');\n",
              "          try {\n",
              "            const charts = await google.colab.kernel.invokeFunction(\n",
              "                'suggestCharts', [key], {});\n",
              "          } catch (error) {\n",
              "            console.error('Error during call to suggestCharts:', error);\n",
              "          }\n",
              "          quickchartButtonEl.classList.remove('colab-df-spinner');\n",
              "          quickchartButtonEl.classList.add('colab-df-quickchart-complete');\n",
              "        }\n",
              "        (() => {\n",
              "          let quickchartButtonEl =\n",
              "            document.querySelector('#df-ab25f042-67d9-4a6b-9855-a7e86a16db09 button');\n",
              "          quickchartButtonEl.style.display =\n",
              "            google.colab.kernel.accessAllowed ? 'block' : 'none';\n",
              "        })();\n",
              "      </script>\n",
              "    </div>\n",
              "\n",
              "    </div>\n",
              "  </div>\n"
            ],
            "application/vnd.google.colaboratory.intrinsic+json": {
              "type": "dataframe",
              "variable_name": "df",
              "summary": "{\n  \"name\": \"df\",\n  \"rows\": 42786,\n  \"fields\": [\n    {\n      \"column\": \"URI\",\n      \"properties\": {\n        \"dtype\": \"string\",\n        \"num_unique_values\": 42786,\n        \"samples\": [\n          \"<http://dbpedia.org/resource/Tom_Bancroft>\",\n          \"<http://dbpedia.org/resource/Bart_Zeller>\",\n          \"<http://dbpedia.org/resource/Caitlin_Morrall>\"\n        ],\n        \"semantic_type\": \"\",\n        \"description\": \"\"\n      }\n    },\n    {\n      \"column\": \"name\",\n      \"properties\": {\n        \"dtype\": \"string\",\n        \"num_unique_values\": 42785,\n        \"samples\": [\n          \"Tom Bancroft\",\n          \"James Holt (scholar)\",\n          \"Chen Tze-chung\"\n        ],\n        \"semantic_type\": \"\",\n        \"description\": \"\"\n      }\n    },\n    {\n      \"column\": \"text\",\n      \"properties\": {\n        \"dtype\": \"string\",\n        \"num_unique_values\": 42786,\n        \"samples\": [\n          \"tom bancroft born 1967 london is a british jazz drummer and composer he began drumming aged seven and started off playing jazz with his father and identical twin brother phil after studying medicine at cambridge university he spent a year studying composition and arranging at mcgill university in montreal canada qualifying as a doctor in 1992 he then worked as a jazz musician and composer supporting his music income with locum work as a hospital doctor until 1998 when he began starting music related companies he is married to singer gina rae and has two children sam and sophie in 2004 he received the creative scotland awardin 1998 he launched caber music with support from the national lottery fund which went on to release over thirty cds over the next seven years to critical acclaim including two bbc jazz awards for best cd and numerous album of the year placings he has subsequently started the company abc creative music with his twin brother phil bancroft which develops creative music education resources which are now being used in more than 500 schools in scotlandas a drummer he has studied with jo morello joey baron and andrew cyrille and played with many musicians including sun ra joakim milder charlie mariano hamiett bluiett liane carroll oliver lake george colligan david berkman tommy smith julian argelles emil vicklicky martin taylor sheila jordan shooglenifty karen mathieson reid anderson billy jenkins bill wells geri allen mr mcfalls chamber and martyn bennetthe is currently the drummer with the dave milligan trio the chick lyall trio and kevin mackenzies vital signs the laura macdonald quartet and octet and plays in an improvising duo with the italian guitarist enzo roccohe is drummer and coleader of trio aab whose first album cold fusion was named an album of 1999 by bbc radio 3 and whose second album wherever i lay my home thats my hat was an album of 2001 in the guardian and picked in a list of 100 essential all time jazz albums by mojo magazine in 2001 they also released stranger things happen at c in 2002 reactivated in 2011 trio aab performed at the delhi jazz festivalas a band leader and composer he has led orchestro interrupto formerly the tom bancroft orchestra a contemporary jazz big band producing the album pieology in 1998 many festival performances a uk tour and a live concert broadcast on bbc radio 3 in 2004 the band toured the uk with geri allen and the tour was broadcast on bbc radio 3 and received five star reviews in the guardian and the scotsman and was voted jazz gig of the year in manchesters city limits and londons time out magazines orchestri interrupto released a cd in 2009 of the music from the geri allen tour with chick lyall on piano entitled the ballad of linda crawford bancroft has also composed for smaller groups including the orange ear ensemble octet and kilt couture a collaboration with french group arfi in 2006 he launched the new tom bancroft 6 pack as well as a spinoff childrens focussed band from the orchestra called kidsamonium which premiered at the gateshead international jazz festival at the sage gateshead and also at the cheltenham jazz festival in 2006 and went on to perform all over europebancrofts compositions have been used in radio film dance television and theatre he has been commissioned by bbc scotland bbc radio 3 glasgow international jazz festival assembly direct birmingham jazz and the national youth jazz orchestra of scotland he has danced in played and composed music for life on the planets surface with kelsey michael and a case for a picnic pt2 tracing houdini and hoops hats acrobats with the choreographer ruby worthhe has led many large scale community and education projects including 150 primary school children performing at the london jazz festival 200 at perth concert hall with classical percussionist colin currie and 100 parents grandparents and children playing drums and percussion at the big stix project at the gateshead jazz festivalbancroft is an active teacher and educator from private drum students to teaching composition and leading big bands he is an apple distinguished educator he has always been active in setting up new ways to promote jazz and improvisation he curated a series of mini festivals for uk and european musicians inside the glasgow jazz festival in the 1990s called clandemonium and europhonium he was active in setting up the scottish jazz federationin 2010 he was musical director of major dance show off kilter which played in major venues across scotland toured scotland with the dave milligan trio and premiered the band of eden malefemale big band to critical acclaimin late 2010 in his role at abc creative music bancroft launched the website abc creative music online to allow scottish schools to teach creative music by smartboard\",\n          \"barton wallace zeller born july 22 1941 is a former professional baseball catcher he played one game in major league baseball in 1970 for the st louis cardinals he recently served as manager of the joliet slammers of the frontier league but was released on september 10 2012zeller was signed by the cardinals in 1963 and spent four years in the cardinals farm system after missing the 1967 season he spent 1968 and 1969 with the lewiston broncs and arkansas travelers respectively zeller played in his only major league game on may 21 1970 against the philadelphia phillies he was inserted to catch the bottom of the ninth inning zeller never had a plate appearance but was credited with one put out on billy mccools strikeout of jim hutto zeller batted and threw righthanded his jersey number was 29 at the time of play he was 6 ft 1 in tall and weighed 185 lbzeller was released as an active player by the cardinals on june 8 but stayed on as a coach for the balance of the 1970 season he played in the minors in 1971 in the milwaukee brewers and new york yankees organizationszeller was the hitting coachthird base coach for the southern illinois miners of the frontier league an independent baseball league zeller began working for the miners in their inaugural 2007 season before coming to the miners zeller spent two seasons with the sioux falls canaries as a bench coach zeller was named as the first manager of slammers in january 2011zeller is currently managing the washington wild things of the frontier league\",\n          \"caitlin shea morrall machol born may 2 1983 is a beauty queen from burlington wisconsin who competed in the 2008 miss usa pageantmorrall who had previously competed in the miss wisconsin america system won the miss wisconsin usa 2007 title in the state pageant held at richland center on 2 september 2006 she competed in the nationally televised miss usa 2007 pageant which was broadcast live from the kodak theatre in hollywood california on march 23 2007 where she placed in top 15 this was the best finish by a contestant from wisconsin in 28 yearsin june 2006 morrall placed first runnerup in the miss wisconsin competition where she competed as miss burlington area chocolatefest she had previously placed 3rd runnerup in 2004 1st runnerup in 2003 and 2nd runnerup in 2002 morrall has held other local titles such as miss racine in 2002 miss milwaukee in 2003 and miss southern wisconsin in 2004 despite being eligible to compete in the miss america system for one more year morrall made the decision to compete in the miss wisconsin usa pageant one week before applications for the pageant closedmorrall is a 2001 graduate of burlington high school wisconsin and is a 2008 graduate of alverno college in milwaukee with a bachelor of arts degree in professional communicationcaitlin is currently the traffic reporter in the morning for wtmjtv 4\"\n        ],\n        \"semantic_type\": \"\",\n        \"description\": \"\"\n      }\n    }\n  ]\n}"
            }
          },
          "metadata": {},
          "execution_count": 6
        }
      ]
    },
    {
      "cell_type": "code",
      "source": [
        "df['name'].unique()[:10] # Displaying first 10 for brevity"
      ],
      "metadata": {
        "colab": {
          "base_uri": "https://localhost:8080/"
        },
        "id": "OtL7hM_d6ZUA",
        "outputId": "3b1a8b91-9f31-404d-855a-fb3bd0907064"
      },
      "execution_count": 7,
      "outputs": [
        {
          "output_type": "execute_result",
          "data": {
            "text/plain": [
              "array(['Digby Morrell', 'Alfred J. Lewy', 'Harpdog Brown',\n",
              "       'Franz Rottensteiner', 'G-Enka', 'Sam Henderson', 'Aaron LaCrate',\n",
              "       'Trevor Ferguson', 'Grant Nelson', 'Cathy Caruth'], dtype=object)"
            ]
          },
          "metadata": {},
          "execution_count": 7
        }
      ]
    },
    {
      "cell_type": "markdown",
      "source": [
        "## Data Cleaning"
      ],
      "metadata": {
        "id": "B_TrTRLzrBu9"
      }
    },
    {
      "cell_type": "code",
      "source": [
        "# Making a copy of 'original_column' (name) for potential later use.\n",
        "df['copied_name'] = df['name'].copy()"
      ],
      "metadata": {
        "id": "ZxOzMwhjsZDB"
      },
      "execution_count": 8,
      "outputs": []
    },
    {
      "cell_type": "code",
      "source": [
        "# Create a copy of the DataFrame to store cleaned text, preserving the original.\n",
        "df_cleaned = df.copy()"
      ],
      "metadata": {
        "id": "WZ7rn43_svu_"
      },
      "execution_count": 9,
      "outputs": []
    },
    {
      "cell_type": "code",
      "source": [
        "# Select the target person\n",
        "# target_names = df_cleaned['name'].sample() #random famous person\n",
        "\n",
        "target_name = \"Dave Bautista\" # --> just another 'Bautista ;)'\n",
        "target_index = df_cleaned[df['name'] == target_name].index[0]"
      ],
      "metadata": {
        "id": "kMAGaW21o4H2"
      },
      "execution_count": 10,
      "outputs": []
    },
    {
      "cell_type": "code",
      "source": [
        "# Define the `clean_text` function to preprocess text strings. --> 2b-Text.Representation\n",
        "def clean_text(text):\n",
        "    text = str(text).lower()                            # Convert text to string and lowercase for normalization (2b-Text.Representation.end (1).ipynb)\n",
        "    text = re.sub(r'\\[.*?\\]', '', text)                 # Remove text within square brackets (e.g., citations)\n",
        "    text = re.sub(r'https?://\\S+|www\\.\\S+', '', text)   # Remove URLs\n",
        "    text = re.sub(r'<.*?>+', '', text)                  # Remove HTML tags\n",
        "    text = re.sub(r'[%s]' % re.escape('!\"#$%&\\'()*+,-./:;<=>?@[\\\\]^_`{|}~'), '', text)  # Remove punctuation (general text cleaning, aligns with concepts in 2b-Text.Representation.end (1).ipynb on tokenization)\n",
        "    text = re.sub(r'\\n', '', text)                      # Remove newline characters\n",
        "    text = re.sub(r'\\w*\\d\\w*', '', text)\n",
        "    return text"
      ],
      "metadata": {
        "id": "bhpTf4Zfs54h"
      },
      "execution_count": 11,
      "outputs": []
    },
    {
      "cell_type": "code",
      "source": [
        "# Apply the cleaning function to the 'text' column to create 'cleaned_text'.\n",
        "df_cleaned['Overview'] = df_cleaned['text'].apply(clean_text)"
      ],
      "metadata": {
        "id": "0tg8L8X9tpu_"
      },
      "execution_count": 12,
      "outputs": []
    },
    {
      "cell_type": "markdown",
      "metadata": {
        "id": "IP5iaS9lNamW"
      },
      "source": [
        "## Part 1: Processing DS for NLP"
      ]
    },
    {
      "cell_type": "markdown",
      "metadata": {
        "id": "twaXGmp6OAPK"
      },
      "source": [
        "- The CSV file is available at https://ddc-datascience.s3.amazonaws.com/Projects/Project.5-NLP/Data/NLP.csv\n",
        "- The file contains a list of famous people and a brief overview.\n",
        "- The goal of part 1) is to ...\n",
        "  1. Pick one person from the list ( the target person ) and output 10 other people who's overview are \"closest\" to the target person in a Natural Language Processing sense\n",
        "  1. Also output the sentiment of the overview of the target person\n",
        "\n"
      ]
    },
    {
      "cell_type": "markdown",
      "source": [
        "### 1.1 Natural Language Processing"
      ],
      "metadata": {
        "id": "wlvP6dD33tcK"
      }
    },
    {
      "cell_type": "code",
      "source": [
        "# ----> Bag of Words\n",
        "# Perform the count transformation\n",
        "vectorizer = CountVectorizer(stop_words='english')\n",
        "bow_vec = vectorizer.fit_transform(df_cleaned['Overview'])\n",
        "bow_vec # <Compressed Sparse Row sparse matrix of dtype 'int64' with 5372283 stored elements and shape (42786, 397235)>\n",
        "# bow_vec.toarray() ---> too dense for the RAM with the .shape of things!!"
      ],
      "metadata": {
        "colab": {
          "base_uri": "https://localhost:8080/"
        },
        "id": "Gy1wIUYt34WD",
        "outputId": "ecc5e0ae-526c-4eed-d64e-4bb8ef03f212"
      },
      "execution_count": 13,
      "outputs": [
        {
          "output_type": "execute_result",
          "data": {
            "text/plain": [
              "<Compressed Sparse Row sparse matrix of dtype 'int64'\n",
              "\twith 5372283 stored elements and shape (42786, 397235)>"
            ]
          },
          "metadata": {},
          "execution_count": 13
        }
      ]
    },
    {
      "cell_type": "code",
      "source": [
        "# Perform the TF-IDF transformation - Option 1 (TfidfVectorizer)\n",
        "tf_idf_vec = TfidfVectorizer(stop_words = 'english')\n",
        "tf_idf_fame = tf_idf_vec.fit_transform(df_cleaned['Overview'])\n",
        "tf_idf_fame"
      ],
      "metadata": {
        "colab": {
          "base_uri": "https://localhost:8080/"
        },
        "id": "3tbj0CN0zzO1",
        "outputId": "220c4b0f-c6a0-43c1-ec8f-dcece9852d6b"
      },
      "execution_count": 14,
      "outputs": [
        {
          "output_type": "execute_result",
          "data": {
            "text/plain": [
              "<Compressed Sparse Row sparse matrix of dtype 'float64'\n",
              "\twith 5372283 stored elements and shape (42786, 397235)>"
            ]
          },
          "metadata": {},
          "execution_count": 14
        }
      ]
    },
    {
      "cell_type": "code",
      "source": [
        "# Get a data frame with the TF-IDF values sorted for document 0\n",
        "df = pd.DataFrame(tf_idf_fame[0].T.todense(), index=tf_idf_vec.get_feature_names_out(), columns=[\"TF-IDF\"])\n",
        "df = df.sort_values('TF-IDF', ascending=False)\n",
        "df"
      ],
      "metadata": {
        "colab": {
          "base_uri": "https://localhost:8080/",
          "height": 424
        },
        "id": "IiawcdBt2Qh5",
        "outputId": "381f753e-bc89-468d-b29d-394ec994b54b"
      },
      "execution_count": 15,
      "outputs": [
        {
          "output_type": "execute_result",
          "data": {
            "text/plain": [
              "             TF-IDF\n",
              "morrell    0.568121\n",
              "football   0.394940\n",
              "kangaroos  0.261344\n",
              "club       0.177284\n",
              "carlton    0.140973\n",
              "...             ...\n",
              "galion     0.000000\n",
              "galinsky   0.000000\n",
              "galinhas   0.000000\n",
              "galing     0.000000\n",
              "galla      0.000000\n",
              "\n",
              "[397235 rows x 1 columns]"
            ],
            "text/html": [
              "\n",
              "  <div id=\"df-249fb5dd-bf76-49a0-8dc7-44abc3ecf0ed\" class=\"colab-df-container\">\n",
              "    <div>\n",
              "<style scoped>\n",
              "    .dataframe tbody tr th:only-of-type {\n",
              "        vertical-align: middle;\n",
              "    }\n",
              "\n",
              "    .dataframe tbody tr th {\n",
              "        vertical-align: top;\n",
              "    }\n",
              "\n",
              "    .dataframe thead th {\n",
              "        text-align: right;\n",
              "    }\n",
              "</style>\n",
              "<table border=\"1\" class=\"dataframe\">\n",
              "  <thead>\n",
              "    <tr style=\"text-align: right;\">\n",
              "      <th></th>\n",
              "      <th>TF-IDF</th>\n",
              "    </tr>\n",
              "  </thead>\n",
              "  <tbody>\n",
              "    <tr>\n",
              "      <th>morrell</th>\n",
              "      <td>0.568121</td>\n",
              "    </tr>\n",
              "    <tr>\n",
              "      <th>football</th>\n",
              "      <td>0.394940</td>\n",
              "    </tr>\n",
              "    <tr>\n",
              "      <th>kangaroos</th>\n",
              "      <td>0.261344</td>\n",
              "    </tr>\n",
              "    <tr>\n",
              "      <th>club</th>\n",
              "      <td>0.177284</td>\n",
              "    </tr>\n",
              "    <tr>\n",
              "      <th>carlton</th>\n",
              "      <td>0.140973</td>\n",
              "    </tr>\n",
              "    <tr>\n",
              "      <th>...</th>\n",
              "      <td>...</td>\n",
              "    </tr>\n",
              "    <tr>\n",
              "      <th>galion</th>\n",
              "      <td>0.000000</td>\n",
              "    </tr>\n",
              "    <tr>\n",
              "      <th>galinsky</th>\n",
              "      <td>0.000000</td>\n",
              "    </tr>\n",
              "    <tr>\n",
              "      <th>galinhas</th>\n",
              "      <td>0.000000</td>\n",
              "    </tr>\n",
              "    <tr>\n",
              "      <th>galing</th>\n",
              "      <td>0.000000</td>\n",
              "    </tr>\n",
              "    <tr>\n",
              "      <th>galla</th>\n",
              "      <td>0.000000</td>\n",
              "    </tr>\n",
              "  </tbody>\n",
              "</table>\n",
              "<p>397235 rows × 1 columns</p>\n",
              "</div>\n",
              "    <div class=\"colab-df-buttons\">\n",
              "\n",
              "  <div class=\"colab-df-container\">\n",
              "    <button class=\"colab-df-convert\" onclick=\"convertToInteractive('df-249fb5dd-bf76-49a0-8dc7-44abc3ecf0ed')\"\n",
              "            title=\"Convert this dataframe to an interactive table.\"\n",
              "            style=\"display:none;\">\n",
              "\n",
              "  <svg xmlns=\"http://www.w3.org/2000/svg\" height=\"24px\" viewBox=\"0 -960 960 960\">\n",
              "    <path d=\"M120-120v-720h720v720H120Zm60-500h600v-160H180v160Zm220 220h160v-160H400v160Zm0 220h160v-160H400v160ZM180-400h160v-160H180v160Zm440 0h160v-160H620v160ZM180-180h160v-160H180v160Zm440 0h160v-160H620v160Z\"/>\n",
              "  </svg>\n",
              "    </button>\n",
              "\n",
              "  <style>\n",
              "    .colab-df-container {\n",
              "      display:flex;\n",
              "      gap: 12px;\n",
              "    }\n",
              "\n",
              "    .colab-df-convert {\n",
              "      background-color: #E8F0FE;\n",
              "      border: none;\n",
              "      border-radius: 50%;\n",
              "      cursor: pointer;\n",
              "      display: none;\n",
              "      fill: #1967D2;\n",
              "      height: 32px;\n",
              "      padding: 0 0 0 0;\n",
              "      width: 32px;\n",
              "    }\n",
              "\n",
              "    .colab-df-convert:hover {\n",
              "      background-color: #E2EBFA;\n",
              "      box-shadow: 0px 1px 2px rgba(60, 64, 67, 0.3), 0px 1px 3px 1px rgba(60, 64, 67, 0.15);\n",
              "      fill: #174EA6;\n",
              "    }\n",
              "\n",
              "    .colab-df-buttons div {\n",
              "      margin-bottom: 4px;\n",
              "    }\n",
              "\n",
              "    [theme=dark] .colab-df-convert {\n",
              "      background-color: #3B4455;\n",
              "      fill: #D2E3FC;\n",
              "    }\n",
              "\n",
              "    [theme=dark] .colab-df-convert:hover {\n",
              "      background-color: #434B5C;\n",
              "      box-shadow: 0px 1px 3px 1px rgba(0, 0, 0, 0.15);\n",
              "      filter: drop-shadow(0px 1px 2px rgba(0, 0, 0, 0.3));\n",
              "      fill: #FFFFFF;\n",
              "    }\n",
              "  </style>\n",
              "\n",
              "    <script>\n",
              "      const buttonEl =\n",
              "        document.querySelector('#df-249fb5dd-bf76-49a0-8dc7-44abc3ecf0ed button.colab-df-convert');\n",
              "      buttonEl.style.display =\n",
              "        google.colab.kernel.accessAllowed ? 'block' : 'none';\n",
              "\n",
              "      async function convertToInteractive(key) {\n",
              "        const element = document.querySelector('#df-249fb5dd-bf76-49a0-8dc7-44abc3ecf0ed');\n",
              "        const dataTable =\n",
              "          await google.colab.kernel.invokeFunction('convertToInteractive',\n",
              "                                                    [key], {});\n",
              "        if (!dataTable) return;\n",
              "\n",
              "        const docLinkHtml = 'Like what you see? Visit the ' +\n",
              "          '<a target=\"_blank\" href=https://colab.research.google.com/notebooks/data_table.ipynb>data table notebook</a>'\n",
              "          + ' to learn more about interactive tables.';\n",
              "        element.innerHTML = '';\n",
              "        dataTable['output_type'] = 'display_data';\n",
              "        await google.colab.output.renderOutput(dataTable, element);\n",
              "        const docLink = document.createElement('div');\n",
              "        docLink.innerHTML = docLinkHtml;\n",
              "        element.appendChild(docLink);\n",
              "      }\n",
              "    </script>\n",
              "  </div>\n",
              "\n",
              "\n",
              "    <div id=\"df-e843f3a3-f563-445a-9396-c03538d7dd2a\">\n",
              "      <button class=\"colab-df-quickchart\" onclick=\"quickchart('df-e843f3a3-f563-445a-9396-c03538d7dd2a')\"\n",
              "                title=\"Suggest charts\"\n",
              "                style=\"display:none;\">\n",
              "\n",
              "<svg xmlns=\"http://www.w3.org/2000/svg\" height=\"24px\"viewBox=\"0 0 24 24\"\n",
              "     width=\"24px\">\n",
              "    <g>\n",
              "        <path d=\"M19 3H5c-1.1 0-2 .9-2 2v14c0 1.1.9 2 2 2h14c1.1 0 2-.9 2-2V5c0-1.1-.9-2-2-2zM9 17H7v-7h2v7zm4 0h-2V7h2v10zm4 0h-2v-4h2v4z\"/>\n",
              "    </g>\n",
              "</svg>\n",
              "      </button>\n",
              "\n",
              "<style>\n",
              "  .colab-df-quickchart {\n",
              "      --bg-color: #E8F0FE;\n",
              "      --fill-color: #1967D2;\n",
              "      --hover-bg-color: #E2EBFA;\n",
              "      --hover-fill-color: #174EA6;\n",
              "      --disabled-fill-color: #AAA;\n",
              "      --disabled-bg-color: #DDD;\n",
              "  }\n",
              "\n",
              "  [theme=dark] .colab-df-quickchart {\n",
              "      --bg-color: #3B4455;\n",
              "      --fill-color: #D2E3FC;\n",
              "      --hover-bg-color: #434B5C;\n",
              "      --hover-fill-color: #FFFFFF;\n",
              "      --disabled-bg-color: #3B4455;\n",
              "      --disabled-fill-color: #666;\n",
              "  }\n",
              "\n",
              "  .colab-df-quickchart {\n",
              "    background-color: var(--bg-color);\n",
              "    border: none;\n",
              "    border-radius: 50%;\n",
              "    cursor: pointer;\n",
              "    display: none;\n",
              "    fill: var(--fill-color);\n",
              "    height: 32px;\n",
              "    padding: 0;\n",
              "    width: 32px;\n",
              "  }\n",
              "\n",
              "  .colab-df-quickchart:hover {\n",
              "    background-color: var(--hover-bg-color);\n",
              "    box-shadow: 0 1px 2px rgba(60, 64, 67, 0.3), 0 1px 3px 1px rgba(60, 64, 67, 0.15);\n",
              "    fill: var(--button-hover-fill-color);\n",
              "  }\n",
              "\n",
              "  .colab-df-quickchart-complete:disabled,\n",
              "  .colab-df-quickchart-complete:disabled:hover {\n",
              "    background-color: var(--disabled-bg-color);\n",
              "    fill: var(--disabled-fill-color);\n",
              "    box-shadow: none;\n",
              "  }\n",
              "\n",
              "  .colab-df-spinner {\n",
              "    border: 2px solid var(--fill-color);\n",
              "    border-color: transparent;\n",
              "    border-bottom-color: var(--fill-color);\n",
              "    animation:\n",
              "      spin 1s steps(1) infinite;\n",
              "  }\n",
              "\n",
              "  @keyframes spin {\n",
              "    0% {\n",
              "      border-color: transparent;\n",
              "      border-bottom-color: var(--fill-color);\n",
              "      border-left-color: var(--fill-color);\n",
              "    }\n",
              "    20% {\n",
              "      border-color: transparent;\n",
              "      border-left-color: var(--fill-color);\n",
              "      border-top-color: var(--fill-color);\n",
              "    }\n",
              "    30% {\n",
              "      border-color: transparent;\n",
              "      border-left-color: var(--fill-color);\n",
              "      border-top-color: var(--fill-color);\n",
              "      border-right-color: var(--fill-color);\n",
              "    }\n",
              "    40% {\n",
              "      border-color: transparent;\n",
              "      border-right-color: var(--fill-color);\n",
              "      border-top-color: var(--fill-color);\n",
              "    }\n",
              "    60% {\n",
              "      border-color: transparent;\n",
              "      border-right-color: var(--fill-color);\n",
              "    }\n",
              "    80% {\n",
              "      border-color: transparent;\n",
              "      border-right-color: var(--fill-color);\n",
              "      border-bottom-color: var(--fill-color);\n",
              "    }\n",
              "    90% {\n",
              "      border-color: transparent;\n",
              "      border-bottom-color: var(--fill-color);\n",
              "    }\n",
              "  }\n",
              "</style>\n",
              "\n",
              "      <script>\n",
              "        async function quickchart(key) {\n",
              "          const quickchartButtonEl =\n",
              "            document.querySelector('#' + key + ' button');\n",
              "          quickchartButtonEl.disabled = true;  // To prevent multiple clicks.\n",
              "          quickchartButtonEl.classList.add('colab-df-spinner');\n",
              "          try {\n",
              "            const charts = await google.colab.kernel.invokeFunction(\n",
              "                'suggestCharts', [key], {});\n",
              "          } catch (error) {\n",
              "            console.error('Error during call to suggestCharts:', error);\n",
              "          }\n",
              "          quickchartButtonEl.classList.remove('colab-df-spinner');\n",
              "          quickchartButtonEl.classList.add('colab-df-quickchart-complete');\n",
              "        }\n",
              "        (() => {\n",
              "          let quickchartButtonEl =\n",
              "            document.querySelector('#df-e843f3a3-f563-445a-9396-c03538d7dd2a button');\n",
              "          quickchartButtonEl.style.display =\n",
              "            google.colab.kernel.accessAllowed ? 'block' : 'none';\n",
              "        })();\n",
              "      </script>\n",
              "    </div>\n",
              "\n",
              "  <div id=\"id_41f43e51-b400-4e2a-8855-0093b40d96c7\">\n",
              "    <style>\n",
              "      .colab-df-generate {\n",
              "        background-color: #E8F0FE;\n",
              "        border: none;\n",
              "        border-radius: 50%;\n",
              "        cursor: pointer;\n",
              "        display: none;\n",
              "        fill: #1967D2;\n",
              "        height: 32px;\n",
              "        padding: 0 0 0 0;\n",
              "        width: 32px;\n",
              "      }\n",
              "\n",
              "      .colab-df-generate:hover {\n",
              "        background-color: #E2EBFA;\n",
              "        box-shadow: 0px 1px 2px rgba(60, 64, 67, 0.3), 0px 1px 3px 1px rgba(60, 64, 67, 0.15);\n",
              "        fill: #174EA6;\n",
              "      }\n",
              "\n",
              "      [theme=dark] .colab-df-generate {\n",
              "        background-color: #3B4455;\n",
              "        fill: #D2E3FC;\n",
              "      }\n",
              "\n",
              "      [theme=dark] .colab-df-generate:hover {\n",
              "        background-color: #434B5C;\n",
              "        box-shadow: 0px 1px 3px 1px rgba(0, 0, 0, 0.15);\n",
              "        filter: drop-shadow(0px 1px 2px rgba(0, 0, 0, 0.3));\n",
              "        fill: #FFFFFF;\n",
              "      }\n",
              "    </style>\n",
              "    <button class=\"colab-df-generate\" onclick=\"generateWithVariable('df')\"\n",
              "            title=\"Generate code using this dataframe.\"\n",
              "            style=\"display:none;\">\n",
              "\n",
              "  <svg xmlns=\"http://www.w3.org/2000/svg\" height=\"24px\"viewBox=\"0 0 24 24\"\n",
              "       width=\"24px\">\n",
              "    <path d=\"M7,19H8.4L18.45,9,17,7.55,7,17.6ZM5,21V16.75L18.45,3.32a2,2,0,0,1,2.83,0l1.4,1.43a1.91,1.91,0,0,1,.58,1.4,1.91,1.91,0,0,1-.58,1.4L9.25,21ZM18.45,9,17,7.55Zm-12,3A5.31,5.31,0,0,0,4.9,8.1,5.31,5.31,0,0,0,1,6.5,5.31,5.31,0,0,0,4.9,4.9,5.31,5.31,0,0,0,6.5,1,5.31,5.31,0,0,0,8.1,4.9,5.31,5.31,0,0,0,12,6.5,5.46,5.46,0,0,0,6.5,12Z\"/>\n",
              "  </svg>\n",
              "    </button>\n",
              "    <script>\n",
              "      (() => {\n",
              "      const buttonEl =\n",
              "        document.querySelector('#id_41f43e51-b400-4e2a-8855-0093b40d96c7 button.colab-df-generate');\n",
              "      buttonEl.style.display =\n",
              "        google.colab.kernel.accessAllowed ? 'block' : 'none';\n",
              "\n",
              "      buttonEl.onclick = () => {\n",
              "        google.colab.notebook.generateWithVariable('df');\n",
              "      }\n",
              "      })();\n",
              "    </script>\n",
              "  </div>\n",
              "\n",
              "    </div>\n",
              "  </div>\n"
            ],
            "application/vnd.google.colaboratory.intrinsic+json": {
              "type": "dataframe",
              "variable_name": "df"
            }
          },
          "metadata": {},
          "execution_count": 15
        }
      ]
    },
    {
      "cell_type": "code",
      "source": [
        "# Pick one person from the list ( the target person )\n",
        "target_text = df_cleaned.iloc[target_index]['Overview']"
      ],
      "metadata": {
        "collapsed": true,
        "id": "TQj7wULcX7FF"
      },
      "execution_count": 16,
      "outputs": []
    },
    {
      "cell_type": "code",
      "source": [
        "#  K-Nearest --> 10 other people who's overview are \"closest\" to the target person\n",
        "nn = NearestNeighbors().fit(tf_idf_fame)"
      ],
      "metadata": {
        "id": "lVKU3ZXc-USV"
      },
      "execution_count": 17,
      "outputs": []
    },
    {
      "cell_type": "code",
      "source": [
        "fame_person = tf_idf_fame[target_index]\n",
        "fame_person.shape"
      ],
      "metadata": {
        "colab": {
          "base_uri": "https://localhost:8080/"
        },
        "collapsed": true,
        "id": "I8X-MYyDAyI8",
        "outputId": "3c934647-5105-4c23-ee36-8ad80a994c58"
      },
      "execution_count": 18,
      "outputs": [
        {
          "output_type": "execute_result",
          "data": {
            "text/plain": [
              "(1, 397235)"
            ]
          },
          "metadata": {},
          "execution_count": 18
        }
      ]
    },
    {
      "cell_type": "code",
      "source": [
        "distances, indices = nn.kneighbors(\n",
        "  X = fame_person,\n",
        "  n_neighbors = 11,\n",
        ")\n",
        "\n",
        "distances, indices"
      ],
      "metadata": {
        "colab": {
          "base_uri": "https://localhost:8080/"
        },
        "collapsed": true,
        "id": "fsdQUA5_BBlg",
        "outputId": "2b37c2bc-373c-4225-e5d9-8bdb20528899"
      },
      "execution_count": 19,
      "outputs": [
        {
          "output_type": "execute_result",
          "data": {
            "text/plain": [
              "(array([[0.        , 1.09164226, 1.09427749, 1.09709832, 1.10704627,\n",
              "         1.10878842, 1.11770999, 1.11959947, 1.12000911, 1.14675295,\n",
              "         1.14697472]]),\n",
              " array([[ 5327,  6879, 29541, 32332, 15787, 42003, 25656, 33284, 38664,\n",
              "         36932, 13862]]))"
            ]
          },
          "metadata": {},
          "execution_count": 19
        }
      ]
    },
    {
      "cell_type": "code",
      "source": [
        "for i, idx in enumerate(indices[0]):\n",
        "        if idx != target_index:  # Exclude the target person itself, as their distance to themselves is 0.\n",
        "            similarity = 1 - distances[0][i]  # Convert cosine distance to similarity score (3c-K-Nearest.Neighbors.end (1).ipynb)\n",
        "            print(f\"  {df_cleaned.iloc[idx]['name']} (Similarity Score: {similarity:.4f})\")"
      ],
      "metadata": {
        "colab": {
          "base_uri": "https://localhost:8080/"
        },
        "id": "7wPW9QYfxVyr",
        "outputId": "6bf43a5c-c345-422c-f17f-6b31a6780429"
      },
      "execution_count": 20,
      "outputs": [
        {
          "output_type": "stream",
          "name": "stdout",
          "text": [
            "  CM Punk (Similarity Score: -0.0916)\n",
            "  John Cena (Similarity Score: -0.0943)\n",
            "  Edge (wrestler) (Similarity Score: -0.0971)\n",
            "  Rey Mysterio (Similarity Score: -0.1070)\n",
            "  The Miz (Similarity Score: -0.1088)\n",
            "  Randy Orton (Similarity Score: -0.1177)\n",
            "  Big Show (Similarity Score: -0.1196)\n",
            "  Daniel Bryan (Similarity Score: -0.1200)\n",
            "  Beth Phoenix (Similarity Score: -0.1468)\n",
            "  Kane (wrestler) (Similarity Score: -0.1470)\n"
          ]
        }
      ]
    },
    {
      "cell_type": "code",
      "source": [
        "print(df_cleaned.iloc[idx]['name'])"
      ],
      "metadata": {
        "colab": {
          "base_uri": "https://localhost:8080/"
        },
        "id": "gyj7sLgz8Ntl",
        "outputId": "5ea9f7f7-9eba-4a13-b29e-a582de12088a"
      },
      "execution_count": 21,
      "outputs": [
        {
          "output_type": "stream",
          "name": "stdout",
          "text": [
            "Kane (wrestler)\n"
          ]
        }
      ]
    },
    {
      "cell_type": "markdown",
      "source": [
        "### 1.3.3 Sentiment"
      ],
      "metadata": {
        "id": "Jg5KyZDsAunx"
      }
    },
    {
      "cell_type": "code",
      "source": [
        "df_cleaned.iloc[target_index]['name']"
      ],
      "metadata": {
        "colab": {
          "base_uri": "https://localhost:8080/",
          "height": 35
        },
        "id": "G5epvx1myRra",
        "outputId": "67d06a2d-4083-4bf9-f327-726305986335"
      },
      "execution_count": 22,
      "outputs": [
        {
          "output_type": "execute_result",
          "data": {
            "text/plain": [
              "'Dave Bautista'"
            ],
            "application/vnd.google.colaboratory.intrinsic+json": {
              "type": "string"
            }
          },
          "metadata": {},
          "execution_count": 22
        }
      ]
    },
    {
      "cell_type": "code",
      "source": [
        "sentiment = TextBlob(target_text).sentiment\n",
        "f'Sentiment for {target_name} is {sentiment}!'"
      ],
      "metadata": {
        "colab": {
          "base_uri": "https://localhost:8080/",
          "height": 35
        },
        "id": "YznQYH3B14pP",
        "outputId": "a0ba5816-4e94-49bb-ac75-a06a1a163e59"
      },
      "execution_count": 23,
      "outputs": [
        {
          "output_type": "execute_result",
          "data": {
            "text/plain": [
              "'Sentiment for Dave Bautista is Sentiment(polarity=0.13480392156862744, subjectivity=0.20735294117647057)!'"
            ],
            "application/vnd.google.colaboratory.intrinsic+json": {
              "type": "string"
            }
          },
          "metadata": {},
          "execution_count": 23
        }
      ]
    },
    {
      "cell_type": "markdown",
      "metadata": {
        "id": "SyoC6PWeN9un"
      },
      "source": [
        "## Part 2: Using Wikipedia API\n",
        "\n"
      ]
    },
    {
      "cell_type": "markdown",
      "metadata": {
        "id": "AJxfrb48N-v9"
      },
      "source": [
        "- For the same target person that you chose in Part 1), use the Wikipedia API to access the whole content of the target person's Wikipedia page.\n",
        "- The goal of Part 2) is to ...\n",
        "  1. Print out the text of the Wikipedia article for the target person\n",
        "  1. Determine the sentiment of the text of the Wikipedia page for the target person\n",
        "  1. Collect the text of the Wikipedia pages from the 10 nearest neighbors from Part 1)\n",
        "  1. Determine the nearness ranking of these 10 people to your target person based on their entire Wikipedia page\n",
        "  1. Compare, i.e. plot,  the nearest ranking from Step 1) with the Wikipedia page nearness ranking.  A difference of the rank is one means of comparison.\n",
        "\n"
      ]
    },
    {
      "cell_type": "markdown",
      "source": [
        "### 2.1 Target's Article"
      ],
      "metadata": {
        "id": "6Yh9lcbXAD4q"
      }
    },
    {
      "cell_type": "code",
      "source": [
        "# Pull out the Dave Bautista page from wikipedia - https://en.wikipedia.org/wiki/\n",
        "topic = 'Dave Bautista'\n",
        "target_index = df_cleaned[df_cleaned['name'] == topic].index[0]\n",
        "wikip = wikipediaapi.Wikipedia(user_agent = 'foobar')\n",
        "page_ex = wikip.page(topic)\n",
        "wiki_text = page_ex.text\n",
        "# wiki_text"
      ],
      "metadata": {
        "id": "7unpvDudU7Ow"
      },
      "execution_count": 24,
      "outputs": []
    },
    {
      "cell_type": "code",
      "source": [
        "# Replace newline chars with spaces before doing any processing. Strip the ' and \"s\" from possessives\n",
        "wiki_text_clean = (\n",
        "    wiki_text\n",
        "    .lower()\n",
        "    .replace(\"\\n\",\" \")\n",
        "    .replace(\"'s\",'')\n",
        "    .replace(\"'\",'')\n",
        ")\n",
        "# wiki_text_clean"
      ],
      "metadata": {
        "id": "MwDZAOnE_UDW"
      },
      "execution_count": 25,
      "outputs": []
    },
    {
      "cell_type": "code",
      "source": [
        "# Break up single string into separate sentences\n",
        "wiki_blob = TextBlob(wiki_text_clean)\n",
        "len(wiki_blob.sentences)"
      ],
      "metadata": {
        "colab": {
          "base_uri": "https://localhost:8080/"
        },
        "id": "Jt09Fi8Q-iT_",
        "outputId": "ddc635ce-5b68-4867-8650-7008a1039561"
      },
      "execution_count": 26,
      "outputs": [
        {
          "output_type": "execute_result",
          "data": {
            "text/plain": [
              "283"
            ]
          },
          "metadata": {},
          "execution_count": 26
        }
      ]
    },
    {
      "cell_type": "code",
      "source": [
        "# Only look at first 10 sentences\n",
        "target_blob = wiki_blob.sentences[0:10]\n",
        "target_blob"
      ],
      "metadata": {
        "colab": {
          "base_uri": "https://localhost:8080/"
        },
        "collapsed": true,
        "id": "hFZErMlP_YtA",
        "outputId": "cd1f82f3-71c1-4c3e-f8f5-e3d160d76fcf"
      },
      "execution_count": 27,
      "outputs": [
        {
          "output_type": "execute_result",
          "data": {
            "text/plain": [
              "[Sentence(\"david michael bautista jr. (born january 18, 1969) is an american actor and retired professional wrestler.\"),\n",
              " Sentence(\"regarded as one of the most prolific professional wrestlers of his generation, he rose to fame for his multiple stints in wwe between 2002 and 2019. bautista began his wrestling career in 1999 and signed with wwe (then wwf) in 2000. from 2002 to 2010, he gained fame under the ring name batista, initially as a member of evolution.\"),\n",
              " Sentence(\"he would go on to win the wwe championship twice, the world heavyweight championship four times (with his first reign remaining the longest in history at 282 days), the world tag team championship three times (twice with ric flair and once with john cena), and the wwe tag team championship once (with rey mysterio).\"),\n",
              " Sentence(\"he also won the 2005 and 2014 royal rumble matches and subsequently headlined wrestlemania 21 and wrestlemania xxx, with the former being one of the top five highest-grossing ppv events in wrestling history.\"),\n",
              " Sentence(\"he retired from professional wrestling after wrestlemania 35 in 2019. as an actor, bautista is known for portraying drax in the marvel cinematic universe (2014–2023) and rabban in dune (2021) and its 2024 sequel.\"),\n",
              " Sentence(\"bautista has additionally starred in spectre (2015), blade runner 2049 (2017), final score, master z: ip man legacy (both 2018), army of the dead (2021), glass onion: a knives out mystery (2022), knock at the cabin, and parachute (both 2023).\"),\n",
              " Sentence(\"early life david michael bautista jr. was born in washington, d.c., on january 18, 1969, the son of donna raye (née mullins) and hairdresser david michael bautista.\"),\n",
              " Sentence(\"his mother is of greek descent, while his father was born to filipino immigrants.\"),\n",
              " Sentence(\"his paternal grandfather served in the philippine military, worked as a taxi driver and barber, and held other jobs to feed the family.\"),\n",
              " Sentence(\"bautista mother later came out as a lesbian.\")]"
            ]
          },
          "metadata": {},
          "execution_count": 27
        }
      ]
    },
    {
      "cell_type": "markdown",
      "source": [
        "### 2.2 Target's Sentiment"
      ],
      "metadata": {
        "id": "dsSYLTEmAPNc"
      }
    },
    {
      "cell_type": "code",
      "source": [
        "# Sentiment Analysis using the same function from Part 1 (get_sentiment from 1b-Intro.to.NLP.using.TextBlob.end (1).ipynb)\n",
        "sentiment = TextBlob(wiki_text_clean).sentiment\n",
        "f'{sentiment} for {target_name}!'"
      ],
      "metadata": {
        "colab": {
          "base_uri": "https://localhost:8080/",
          "height": 35
        },
        "id": "ur-z6LRRAOol",
        "outputId": "858e5cee-2a49-40ac-82fe-eadc17ffb853"
      },
      "execution_count": 28,
      "outputs": [
        {
          "output_type": "execute_result",
          "data": {
            "text/plain": [
              "'Sentiment(polarity=0.059599167773986696, subjectivity=0.36244615556209775) for Dave Bautista!'"
            ],
            "application/vnd.google.colaboratory.intrinsic+json": {
              "type": "string"
            }
          },
          "metadata": {},
          "execution_count": 28
        }
      ]
    },
    {
      "cell_type": "markdown",
      "source": [
        "### 2.3 Nearest Neighbors"
      ],
      "metadata": {
        "id": "rjBpMjlPClMH"
      }
    },
    {
      "cell_type": "code",
      "source": [
        "# Names of the 10 nearest neighbors from Part 1 (extracted from your In[36] output)\n",
        "target_index = df_cleaned[df_cleaned['name'] == target_name].index[0]"
      ],
      "metadata": {
        "id": "IE3dZ6DrDWS6"
      },
      "execution_count": 29,
      "outputs": []
    },
    {
      "cell_type": "code",
      "source": [
        "neighbor_names = [\n",
        "    'CM Punk', 'John Cena', 'Edge (wrestler)', 'Rey Mysterio', 'The Miz',\n",
        "    'Randy Orton', 'Big Show', 'Daniel Bryan', 'Beth Phoenix', 'Kane (wrestler)'\n",
        "]"
      ],
      "metadata": {
        "id": "w3wTVLnwDd0X"
      },
      "execution_count": 30,
      "outputs": []
    },
    {
      "cell_type": "code",
      "source": [
        "# Create a dictionary to store Wikipedia texts for all relevant people (target + neighbors)\n",
        "all_wiki_texts = {topic: wiki_text} # 'wiki_text' is Dave Bautista's Wikipedia content\n"
      ],
      "metadata": {
        "id": "FG-x_FX4CnN6"
      },
      "execution_count": 31,
      "outputs": []
    },
    {
      "cell_type": "code",
      "source": [
        "for name in neighbor_names:\n",
        "    page = wikip.page(name)\n",
        "    if page.exists():\n",
        "        all_wiki_texts[name] = page.text\n",
        "        print(f\"  Fetched: {name}\")\n",
        "    else:\n",
        "        print(f\"  Wikipedia page not found for {name}. Storing empty string.\")\n",
        "        all_wiki_texts[name] = \"\""
      ],
      "metadata": {
        "colab": {
          "base_uri": "https://localhost:8080/"
        },
        "id": "D1L7sOW49Yi5",
        "outputId": "e5b8312d-b148-4a8d-d3c0-e5da28647b8a"
      },
      "execution_count": 32,
      "outputs": [
        {
          "output_type": "stream",
          "name": "stdout",
          "text": [
            "  Fetched: CM Punk\n",
            "  Fetched: John Cena\n",
            "  Fetched: Edge (wrestler)\n",
            "  Fetched: Rey Mysterio\n",
            "  Fetched: The Miz\n",
            "  Fetched: Randy Orton\n",
            "  Fetched: Big Show\n",
            "  Fetched: Daniel Bryan\n",
            "  Fetched: Beth Phoenix\n",
            "  Fetched: Kane (wrestler)\n"
          ]
        }
      ]
    },
    {
      "cell_type": "markdown",
      "source": [
        "### 2.4 Nearness Ranking"
      ],
      "metadata": {
        "id": "RWOcql6zER0b"
      }
    },
    {
      "cell_type": "code",
      "source": [
        "# Prepare the corpus for new TF-IDF vectorization\n",
        "wiki_corpus_documents = list(all_wiki_texts.values())\n",
        "wiki_corpus_names = list(all_wiki_texts.keys())"
      ],
      "metadata": {
        "id": "3VqTu1iaEREm"
      },
      "execution_count": 33,
      "outputs": []
    },
    {
      "cell_type": "code",
      "source": [
        "# Initialize a new TF-IDF Vectorizer for the Wikipedia corpus\n",
        "tfidf_vectorizer_wiki = TfidfVectorizer(stop_words='english')"
      ],
      "metadata": {
        "id": "REDFWhivEdIZ"
      },
      "execution_count": 34,
      "outputs": []
    },
    {
      "cell_type": "code",
      "source": [
        "# Fit and transform the Wikipedia corpus\n",
        "tfidf_matrix_wiki = tfidf_vectorizer_wiki.fit_transform(wiki_corpus_documents)"
      ],
      "metadata": {
        "id": "RWeNDGK8Egac"
      },
      "execution_count": 35,
      "outputs": []
    },
    {
      "cell_type": "code",
      "source": [
        "# Get the TF-IDF vector for the target person (Dave Bautista) from the new Wikipedia matrix\n",
        "try:\n",
        "    target_wiki_vector_index = wiki_corpus_names.index(target_name)\n",
        "    target_wiki_vector = tfidf_matrix_wiki[target_wiki_vector_index]\n",
        "except ValueError:\n",
        "    print(f\"Error: Target person '{target_name}' not found in the collected Wikipedia texts for TF-IDF calculation.\")\n",
        "    target_wiki_vector = None"
      ],
      "metadata": {
        "id": "7KMg66aBHTBr"
      },
      "execution_count": 36,
      "outputs": []
    },
    {
      "cell_type": "code",
      "source": [
        "new_wiki_rankings = []\n",
        "if target_wiki_vector is not None:\n",
        "    print(\"\\n--- Part 2.3: Calculating new rankings based on Wikipedia content ---\")\n",
        "    # Calculate cosine similarity of target_wiki_vector with all other vectors in tfidf_matrix_wiki\n",
        "    # The output will be a 1xN array of similarities\n",
        "    similarities = cosine_similarity(target_wiki_vector, tfidf_matrix_wiki).flatten()\n",
        "\n",
        "    for i, name in enumerate(wiki_corpus_names):\n",
        "        if name != target_name: # Exclude the target person from neighbor rankings\n",
        "            similarity_score_wiki = similarities[i]\n",
        "            new_wiki_rankings.append({'name': name, 'similarity_wiki': similarity_score_wiki})\n",
        "\n",
        "# Convert to DataFrame and rank by similarity\n",
        "wiki_rank_df = pd.DataFrame(new_wiki_rankings)"
      ],
      "metadata": {
        "colab": {
          "base_uri": "https://localhost:8080/"
        },
        "id": "cmew8NIwFl-Q",
        "outputId": "2b74f0e6-9f5e-4084-b457-26dfbe2a6ca8"
      },
      "execution_count": 37,
      "outputs": [
        {
          "output_type": "stream",
          "name": "stdout",
          "text": [
            "\n",
            "--- Part 2.3: Calculating new rankings based on Wikipedia content ---\n"
          ]
        }
      ]
    },
    {
      "cell_type": "code",
      "source": [
        "if not wiki_rank_df.empty:\n",
        "    # Sort by similarity in descending order to get the closest ones as rank 1, 2, etc.\n",
        "    wiki_rank_df = wiki_rank_df.sort_values(by='similarity_wiki', ascending=False).reset_index(drop=True)\n",
        "    wiki_rank_df['rank_wiki'] = wiki_rank_df.index + 1\n",
        "\n",
        "    print(\"\\nNew Ranking based on Wikipedia Content:\")\n",
        "    print(wiki_rank_df)\n",
        "else:\n",
        "    print(\"\\nCould not calculate new Wikipedia rankings. Check if Wikipedia articles were fetched correctly or if there are enough neighbors.\")\n"
      ],
      "metadata": {
        "colab": {
          "base_uri": "https://localhost:8080/"
        },
        "id": "sUa0RmO2HwNZ",
        "outputId": "3354695d-7163-4a2d-dd90-36e49196096d"
      },
      "execution_count": 38,
      "outputs": [
        {
          "output_type": "stream",
          "name": "stdout",
          "text": [
            "\n",
            "New Ranking based on Wikipedia Content:\n",
            "              name  similarity_wiki  rank_wiki\n",
            "0      Randy Orton         0.474326          1\n",
            "1  Edge (wrestler)         0.433887          2\n",
            "2     Rey Mysterio         0.427601          3\n",
            "3        John Cena         0.424817          4\n",
            "4         Big Show         0.408955          5\n",
            "5  Kane (wrestler)         0.395248          6\n",
            "6          CM Punk         0.360328          7\n",
            "7     Daniel Bryan         0.338974          8\n",
            "8          The Miz         0.332123          9\n",
            "9     Beth Phoenix         0.235855         10\n"
          ]
        }
      ]
    },
    {
      "cell_type": "markdown",
      "source": [
        "### 2.5 Compare and Plot Rankings"
      ],
      "metadata": {
        "id": "MQjFwCXZH-4M"
      }
    },
    {
      "cell_type": "code",
      "source": [
        "# Create a DataFrame for Part 1's rankings using the names and similarity scores from your In[36] output\n",
        "part1_data = {\n",
        "    'name': ['CM Punk', 'John Cena', 'Edge (wrestler)', 'Rey Mysterio', 'The Miz',\n",
        "             'Randy Orton', 'Big Show', 'Daniel Bryan', 'Beth Phoenix', 'Kane (wrestler)'],\n",
        "    'similarity_nlp_csv': [-0.0916, -0.0943, -0.0971, -0.1070, -0.1088,\n",
        "                           -0.1177, -0.1196, -0.1200, -0.1468, -0.1470]\n",
        "}\n",
        "part1_df = pd.DataFrame(part1_data)\n",
        "# Rank them based on similarity_nlp_csv (higher similarity = lower rank number). Use 'min' for tie-breaking.\n",
        "part1_df['rank_nlp_csv'] = part1_df['similarity_nlp_csv'].rank(ascending=False, method='min').astype(int)\n",
        "part1_df = part1_df.sort_values(by='rank_nlp_csv').reset_index(drop=True)\n",
        "\n",
        "# print(\"\\n--- Part 2.4: Original Ranking based on NLP.csv ---\")\n",
        "# print(part1_df)\n",
        "df_part1 = pd.DataFrame(part1_df)\n",
        "df_part1"
      ],
      "metadata": {
        "colab": {
          "base_uri": "https://localhost:8080/",
          "height": 363
        },
        "id": "q8DQUwEHJExO",
        "outputId": "63a9f445-d9ba-4936-d495-095a95f4843e"
      },
      "execution_count": 39,
      "outputs": [
        {
          "output_type": "execute_result",
          "data": {
            "text/plain": [
              "              name  similarity_nlp_csv  rank_nlp_csv\n",
              "0          CM Punk             -0.0916             1\n",
              "1        John Cena             -0.0943             2\n",
              "2  Edge (wrestler)             -0.0971             3\n",
              "3     Rey Mysterio             -0.1070             4\n",
              "4          The Miz             -0.1088             5\n",
              "5      Randy Orton             -0.1177             6\n",
              "6         Big Show             -0.1196             7\n",
              "7     Daniel Bryan             -0.1200             8\n",
              "8     Beth Phoenix             -0.1468             9\n",
              "9  Kane (wrestler)             -0.1470            10"
            ],
            "text/html": [
              "\n",
              "  <div id=\"df-00837d8d-2416-4982-9961-1d27dffb5731\" class=\"colab-df-container\">\n",
              "    <div>\n",
              "<style scoped>\n",
              "    .dataframe tbody tr th:only-of-type {\n",
              "        vertical-align: middle;\n",
              "    }\n",
              "\n",
              "    .dataframe tbody tr th {\n",
              "        vertical-align: top;\n",
              "    }\n",
              "\n",
              "    .dataframe thead th {\n",
              "        text-align: right;\n",
              "    }\n",
              "</style>\n",
              "<table border=\"1\" class=\"dataframe\">\n",
              "  <thead>\n",
              "    <tr style=\"text-align: right;\">\n",
              "      <th></th>\n",
              "      <th>name</th>\n",
              "      <th>similarity_nlp_csv</th>\n",
              "      <th>rank_nlp_csv</th>\n",
              "    </tr>\n",
              "  </thead>\n",
              "  <tbody>\n",
              "    <tr>\n",
              "      <th>0</th>\n",
              "      <td>CM Punk</td>\n",
              "      <td>-0.0916</td>\n",
              "      <td>1</td>\n",
              "    </tr>\n",
              "    <tr>\n",
              "      <th>1</th>\n",
              "      <td>John Cena</td>\n",
              "      <td>-0.0943</td>\n",
              "      <td>2</td>\n",
              "    </tr>\n",
              "    <tr>\n",
              "      <th>2</th>\n",
              "      <td>Edge (wrestler)</td>\n",
              "      <td>-0.0971</td>\n",
              "      <td>3</td>\n",
              "    </tr>\n",
              "    <tr>\n",
              "      <th>3</th>\n",
              "      <td>Rey Mysterio</td>\n",
              "      <td>-0.1070</td>\n",
              "      <td>4</td>\n",
              "    </tr>\n",
              "    <tr>\n",
              "      <th>4</th>\n",
              "      <td>The Miz</td>\n",
              "      <td>-0.1088</td>\n",
              "      <td>5</td>\n",
              "    </tr>\n",
              "    <tr>\n",
              "      <th>5</th>\n",
              "      <td>Randy Orton</td>\n",
              "      <td>-0.1177</td>\n",
              "      <td>6</td>\n",
              "    </tr>\n",
              "    <tr>\n",
              "      <th>6</th>\n",
              "      <td>Big Show</td>\n",
              "      <td>-0.1196</td>\n",
              "      <td>7</td>\n",
              "    </tr>\n",
              "    <tr>\n",
              "      <th>7</th>\n",
              "      <td>Daniel Bryan</td>\n",
              "      <td>-0.1200</td>\n",
              "      <td>8</td>\n",
              "    </tr>\n",
              "    <tr>\n",
              "      <th>8</th>\n",
              "      <td>Beth Phoenix</td>\n",
              "      <td>-0.1468</td>\n",
              "      <td>9</td>\n",
              "    </tr>\n",
              "    <tr>\n",
              "      <th>9</th>\n",
              "      <td>Kane (wrestler)</td>\n",
              "      <td>-0.1470</td>\n",
              "      <td>10</td>\n",
              "    </tr>\n",
              "  </tbody>\n",
              "</table>\n",
              "</div>\n",
              "    <div class=\"colab-df-buttons\">\n",
              "\n",
              "  <div class=\"colab-df-container\">\n",
              "    <button class=\"colab-df-convert\" onclick=\"convertToInteractive('df-00837d8d-2416-4982-9961-1d27dffb5731')\"\n",
              "            title=\"Convert this dataframe to an interactive table.\"\n",
              "            style=\"display:none;\">\n",
              "\n",
              "  <svg xmlns=\"http://www.w3.org/2000/svg\" height=\"24px\" viewBox=\"0 -960 960 960\">\n",
              "    <path d=\"M120-120v-720h720v720H120Zm60-500h600v-160H180v160Zm220 220h160v-160H400v160Zm0 220h160v-160H400v160ZM180-400h160v-160H180v160Zm440 0h160v-160H620v160ZM180-180h160v-160H180v160Zm440 0h160v-160H620v160Z\"/>\n",
              "  </svg>\n",
              "    </button>\n",
              "\n",
              "  <style>\n",
              "    .colab-df-container {\n",
              "      display:flex;\n",
              "      gap: 12px;\n",
              "    }\n",
              "\n",
              "    .colab-df-convert {\n",
              "      background-color: #E8F0FE;\n",
              "      border: none;\n",
              "      border-radius: 50%;\n",
              "      cursor: pointer;\n",
              "      display: none;\n",
              "      fill: #1967D2;\n",
              "      height: 32px;\n",
              "      padding: 0 0 0 0;\n",
              "      width: 32px;\n",
              "    }\n",
              "\n",
              "    .colab-df-convert:hover {\n",
              "      background-color: #E2EBFA;\n",
              "      box-shadow: 0px 1px 2px rgba(60, 64, 67, 0.3), 0px 1px 3px 1px rgba(60, 64, 67, 0.15);\n",
              "      fill: #174EA6;\n",
              "    }\n",
              "\n",
              "    .colab-df-buttons div {\n",
              "      margin-bottom: 4px;\n",
              "    }\n",
              "\n",
              "    [theme=dark] .colab-df-convert {\n",
              "      background-color: #3B4455;\n",
              "      fill: #D2E3FC;\n",
              "    }\n",
              "\n",
              "    [theme=dark] .colab-df-convert:hover {\n",
              "      background-color: #434B5C;\n",
              "      box-shadow: 0px 1px 3px 1px rgba(0, 0, 0, 0.15);\n",
              "      filter: drop-shadow(0px 1px 2px rgba(0, 0, 0, 0.3));\n",
              "      fill: #FFFFFF;\n",
              "    }\n",
              "  </style>\n",
              "\n",
              "    <script>\n",
              "      const buttonEl =\n",
              "        document.querySelector('#df-00837d8d-2416-4982-9961-1d27dffb5731 button.colab-df-convert');\n",
              "      buttonEl.style.display =\n",
              "        google.colab.kernel.accessAllowed ? 'block' : 'none';\n",
              "\n",
              "      async function convertToInteractive(key) {\n",
              "        const element = document.querySelector('#df-00837d8d-2416-4982-9961-1d27dffb5731');\n",
              "        const dataTable =\n",
              "          await google.colab.kernel.invokeFunction('convertToInteractive',\n",
              "                                                    [key], {});\n",
              "        if (!dataTable) return;\n",
              "\n",
              "        const docLinkHtml = 'Like what you see? Visit the ' +\n",
              "          '<a target=\"_blank\" href=https://colab.research.google.com/notebooks/data_table.ipynb>data table notebook</a>'\n",
              "          + ' to learn more about interactive tables.';\n",
              "        element.innerHTML = '';\n",
              "        dataTable['output_type'] = 'display_data';\n",
              "        await google.colab.output.renderOutput(dataTable, element);\n",
              "        const docLink = document.createElement('div');\n",
              "        docLink.innerHTML = docLinkHtml;\n",
              "        element.appendChild(docLink);\n",
              "      }\n",
              "    </script>\n",
              "  </div>\n",
              "\n",
              "\n",
              "    <div id=\"df-c96c1512-bf5d-4c52-bab6-8ea5cbdedb23\">\n",
              "      <button class=\"colab-df-quickchart\" onclick=\"quickchart('df-c96c1512-bf5d-4c52-bab6-8ea5cbdedb23')\"\n",
              "                title=\"Suggest charts\"\n",
              "                style=\"display:none;\">\n",
              "\n",
              "<svg xmlns=\"http://www.w3.org/2000/svg\" height=\"24px\"viewBox=\"0 0 24 24\"\n",
              "     width=\"24px\">\n",
              "    <g>\n",
              "        <path d=\"M19 3H5c-1.1 0-2 .9-2 2v14c0 1.1.9 2 2 2h14c1.1 0 2-.9 2-2V5c0-1.1-.9-2-2-2zM9 17H7v-7h2v7zm4 0h-2V7h2v10zm4 0h-2v-4h2v4z\"/>\n",
              "    </g>\n",
              "</svg>\n",
              "      </button>\n",
              "\n",
              "<style>\n",
              "  .colab-df-quickchart {\n",
              "      --bg-color: #E8F0FE;\n",
              "      --fill-color: #1967D2;\n",
              "      --hover-bg-color: #E2EBFA;\n",
              "      --hover-fill-color: #174EA6;\n",
              "      --disabled-fill-color: #AAA;\n",
              "      --disabled-bg-color: #DDD;\n",
              "  }\n",
              "\n",
              "  [theme=dark] .colab-df-quickchart {\n",
              "      --bg-color: #3B4455;\n",
              "      --fill-color: #D2E3FC;\n",
              "      --hover-bg-color: #434B5C;\n",
              "      --hover-fill-color: #FFFFFF;\n",
              "      --disabled-bg-color: #3B4455;\n",
              "      --disabled-fill-color: #666;\n",
              "  }\n",
              "\n",
              "  .colab-df-quickchart {\n",
              "    background-color: var(--bg-color);\n",
              "    border: none;\n",
              "    border-radius: 50%;\n",
              "    cursor: pointer;\n",
              "    display: none;\n",
              "    fill: var(--fill-color);\n",
              "    height: 32px;\n",
              "    padding: 0;\n",
              "    width: 32px;\n",
              "  }\n",
              "\n",
              "  .colab-df-quickchart:hover {\n",
              "    background-color: var(--hover-bg-color);\n",
              "    box-shadow: 0 1px 2px rgba(60, 64, 67, 0.3), 0 1px 3px 1px rgba(60, 64, 67, 0.15);\n",
              "    fill: var(--button-hover-fill-color);\n",
              "  }\n",
              "\n",
              "  .colab-df-quickchart-complete:disabled,\n",
              "  .colab-df-quickchart-complete:disabled:hover {\n",
              "    background-color: var(--disabled-bg-color);\n",
              "    fill: var(--disabled-fill-color);\n",
              "    box-shadow: none;\n",
              "  }\n",
              "\n",
              "  .colab-df-spinner {\n",
              "    border: 2px solid var(--fill-color);\n",
              "    border-color: transparent;\n",
              "    border-bottom-color: var(--fill-color);\n",
              "    animation:\n",
              "      spin 1s steps(1) infinite;\n",
              "  }\n",
              "\n",
              "  @keyframes spin {\n",
              "    0% {\n",
              "      border-color: transparent;\n",
              "      border-bottom-color: var(--fill-color);\n",
              "      border-left-color: var(--fill-color);\n",
              "    }\n",
              "    20% {\n",
              "      border-color: transparent;\n",
              "      border-left-color: var(--fill-color);\n",
              "      border-top-color: var(--fill-color);\n",
              "    }\n",
              "    30% {\n",
              "      border-color: transparent;\n",
              "      border-left-color: var(--fill-color);\n",
              "      border-top-color: var(--fill-color);\n",
              "      border-right-color: var(--fill-color);\n",
              "    }\n",
              "    40% {\n",
              "      border-color: transparent;\n",
              "      border-right-color: var(--fill-color);\n",
              "      border-top-color: var(--fill-color);\n",
              "    }\n",
              "    60% {\n",
              "      border-color: transparent;\n",
              "      border-right-color: var(--fill-color);\n",
              "    }\n",
              "    80% {\n",
              "      border-color: transparent;\n",
              "      border-right-color: var(--fill-color);\n",
              "      border-bottom-color: var(--fill-color);\n",
              "    }\n",
              "    90% {\n",
              "      border-color: transparent;\n",
              "      border-bottom-color: var(--fill-color);\n",
              "    }\n",
              "  }\n",
              "</style>\n",
              "\n",
              "      <script>\n",
              "        async function quickchart(key) {\n",
              "          const quickchartButtonEl =\n",
              "            document.querySelector('#' + key + ' button');\n",
              "          quickchartButtonEl.disabled = true;  // To prevent multiple clicks.\n",
              "          quickchartButtonEl.classList.add('colab-df-spinner');\n",
              "          try {\n",
              "            const charts = await google.colab.kernel.invokeFunction(\n",
              "                'suggestCharts', [key], {});\n",
              "          } catch (error) {\n",
              "            console.error('Error during call to suggestCharts:', error);\n",
              "          }\n",
              "          quickchartButtonEl.classList.remove('colab-df-spinner');\n",
              "          quickchartButtonEl.classList.add('colab-df-quickchart-complete');\n",
              "        }\n",
              "        (() => {\n",
              "          let quickchartButtonEl =\n",
              "            document.querySelector('#df-c96c1512-bf5d-4c52-bab6-8ea5cbdedb23 button');\n",
              "          quickchartButtonEl.style.display =\n",
              "            google.colab.kernel.accessAllowed ? 'block' : 'none';\n",
              "        })();\n",
              "      </script>\n",
              "    </div>\n",
              "\n",
              "  <div id=\"id_7928afb8-c423-4a11-a680-0bec1d5197c9\">\n",
              "    <style>\n",
              "      .colab-df-generate {\n",
              "        background-color: #E8F0FE;\n",
              "        border: none;\n",
              "        border-radius: 50%;\n",
              "        cursor: pointer;\n",
              "        display: none;\n",
              "        fill: #1967D2;\n",
              "        height: 32px;\n",
              "        padding: 0 0 0 0;\n",
              "        width: 32px;\n",
              "      }\n",
              "\n",
              "      .colab-df-generate:hover {\n",
              "        background-color: #E2EBFA;\n",
              "        box-shadow: 0px 1px 2px rgba(60, 64, 67, 0.3), 0px 1px 3px 1px rgba(60, 64, 67, 0.15);\n",
              "        fill: #174EA6;\n",
              "      }\n",
              "\n",
              "      [theme=dark] .colab-df-generate {\n",
              "        background-color: #3B4455;\n",
              "        fill: #D2E3FC;\n",
              "      }\n",
              "\n",
              "      [theme=dark] .colab-df-generate:hover {\n",
              "        background-color: #434B5C;\n",
              "        box-shadow: 0px 1px 3px 1px rgba(0, 0, 0, 0.15);\n",
              "        filter: drop-shadow(0px 1px 2px rgba(0, 0, 0, 0.3));\n",
              "        fill: #FFFFFF;\n",
              "      }\n",
              "    </style>\n",
              "    <button class=\"colab-df-generate\" onclick=\"generateWithVariable('df_part1')\"\n",
              "            title=\"Generate code using this dataframe.\"\n",
              "            style=\"display:none;\">\n",
              "\n",
              "  <svg xmlns=\"http://www.w3.org/2000/svg\" height=\"24px\"viewBox=\"0 0 24 24\"\n",
              "       width=\"24px\">\n",
              "    <path d=\"M7,19H8.4L18.45,9,17,7.55,7,17.6ZM5,21V16.75L18.45,3.32a2,2,0,0,1,2.83,0l1.4,1.43a1.91,1.91,0,0,1,.58,1.4,1.91,1.91,0,0,1-.58,1.4L9.25,21ZM18.45,9,17,7.55Zm-12,3A5.31,5.31,0,0,0,4.9,8.1,5.31,5.31,0,0,0,1,6.5,5.31,5.31,0,0,0,4.9,4.9,5.31,5.31,0,0,0,6.5,1,5.31,5.31,0,0,0,8.1,4.9,5.31,5.31,0,0,0,12,6.5,5.46,5.46,0,0,0,6.5,12Z\"/>\n",
              "  </svg>\n",
              "    </button>\n",
              "    <script>\n",
              "      (() => {\n",
              "      const buttonEl =\n",
              "        document.querySelector('#id_7928afb8-c423-4a11-a680-0bec1d5197c9 button.colab-df-generate');\n",
              "      buttonEl.style.display =\n",
              "        google.colab.kernel.accessAllowed ? 'block' : 'none';\n",
              "\n",
              "      buttonEl.onclick = () => {\n",
              "        google.colab.notebook.generateWithVariable('df_part1');\n",
              "      }\n",
              "      })();\n",
              "    </script>\n",
              "  </div>\n",
              "\n",
              "    </div>\n",
              "  </div>\n"
            ],
            "application/vnd.google.colaboratory.intrinsic+json": {
              "type": "dataframe",
              "variable_name": "df_part1",
              "summary": "{\n  \"name\": \"df_part1\",\n  \"rows\": 10,\n  \"fields\": [\n    {\n      \"column\": \"name\",\n      \"properties\": {\n        \"dtype\": \"string\",\n        \"num_unique_values\": 10,\n        \"samples\": [\n          \"Beth Phoenix\",\n          \"John Cena\",\n          \"Randy Orton\"\n        ],\n        \"semantic_type\": \"\",\n        \"description\": \"\"\n      }\n    },\n    {\n      \"column\": \"similarity_nlp_csv\",\n      \"properties\": {\n        \"dtype\": \"number\",\n        \"std\": 0.01968527086145601,\n        \"min\": -0.147,\n        \"max\": -0.0916,\n        \"num_unique_values\": 10,\n        \"samples\": [\n          -0.1468,\n          -0.0943,\n          -0.1177\n        ],\n        \"semantic_type\": \"\",\n        \"description\": \"\"\n      }\n    },\n    {\n      \"column\": \"rank_nlp_csv\",\n      \"properties\": {\n        \"dtype\": \"number\",\n        \"std\": 3,\n        \"min\": 1,\n        \"max\": 10,\n        \"num_unique_values\": 10,\n        \"samples\": [\n          9,\n          2,\n          6\n        ],\n        \"semantic_type\": \"\",\n        \"description\": \"\"\n      }\n    }\n  ]\n}"
            }
          },
          "metadata": {},
          "execution_count": 39
        }
      ]
    },
    {
      "cell_type": "code",
      "source": [
        "# Merge the two ranking DataFrames on the 'name' column\n",
        "comparison_df = pd.merge(part1_df, wiki_rank_df, on='name', how='inner')\n",
        "\n",
        "# Calculate the difference in ranks (positive means NLP.csv rank was numerically higher/worse)\n",
        "comparison_df['rank_difference'] = comparison_df['rank_nlp_csv'] - comparison_df['rank_wiki']\n",
        "\n",
        "# Sort the comparison DataFrame by the Part 1 rank for consistent plotting\n",
        "comparison_df = comparison_df.sort_values(by='rank_nlp_csv').reset_index(drop=True)\n",
        "\n",
        "print(\"\\nComparison Table (NLP.csv Rank vs. Wikipedia Rank):\")\n",
        "print(comparison_df[['name', 'rank_nlp_csv', 'rank_wiki', 'rank_difference']])\n",
        "\n",
        "# Plot the comparison\n",
        "plt.figure(figsize=(14, 8))\n",
        "bar_width = 0.35\n",
        "index = np.arange(len(comparison_df))\n",
        "\n",
        "plt.bar(index, comparison_df['rank_nlp_csv'], bar_width, label='Rank (NLP.csv)', color='skyblue')\n",
        "plt.bar(index + bar_width, comparison_df['rank_wiki'], bar_width, label='Rank (Wikipedia)', color='lightcoral')\n",
        "\n",
        "plt.xlabel('Neighbor')\n",
        "plt.ylabel('Rank')\n",
        "plt.title(f'Comparison of Nearest Neighbor Ranks for \"{target_name}\"\\n(NLP.csv Overview vs. Full Wikipedia Content)')\n",
        "plt.xticks(index + bar_width / 2, comparison_df['name'], rotation=45, ha='right')\n",
        "plt.legend()\n",
        "plt.grid(axis='y', linestyle='--', alpha=0.7)\n",
        "plt.tight_layout() # Adjust layout to prevent labels from overlapping\n",
        "plt.show()"
      ],
      "metadata": {
        "colab": {
          "base_uri": "https://localhost:8080/",
          "height": 813
        },
        "id": "wudldFXiKM14",
        "outputId": "904d8cf9-aaf3-4447-f04a-f57e076c420e"
      },
      "execution_count": 40,
      "outputs": [
        {
          "output_type": "stream",
          "name": "stdout",
          "text": [
            "\n",
            "Comparison Table (NLP.csv Rank vs. Wikipedia Rank):\n",
            "              name  rank_nlp_csv  rank_wiki  rank_difference\n",
            "0          CM Punk             1          7               -6\n",
            "1        John Cena             2          4               -2\n",
            "2  Edge (wrestler)             3          2                1\n",
            "3     Rey Mysterio             4          3                1\n",
            "4          The Miz             5          9               -4\n",
            "5      Randy Orton             6          1                5\n",
            "6         Big Show             7          5                2\n",
            "7     Daniel Bryan             8          8                0\n",
            "8     Beth Phoenix             9         10               -1\n",
            "9  Kane (wrestler)            10          6                4\n"
          ]
        },
        {
          "output_type": "display_data",
          "data": {
            "text/plain": [
              "<Figure size 1400x800 with 1 Axes>"
            ],
            "image/png": "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\n"
          },
          "metadata": {}
        }
      ]
    },
    {
      "cell_type": "markdown",
      "metadata": {
        "id": "xEIw9hfFObw7"
      },
      "source": [
        "## Part 3: Interactive Notebook\n"
      ]
    },
    {
      "cell_type": "markdown",
      "metadata": {
        "id": "SVW0y4Axty7A"
      },
      "source": [
        "Make an interactive notebook where a user can choose or enter a name and the notebook displays the 10 closest individuals.\n",
        "\n",
        "In addition to presenting the project slides, at the end of the presentation each student will demonstrate their code using a famous person suggested by the other students that exists in the DBpedia set.\n"
      ]
    },
    {
      "cell_type": "code",
      "source": [
        "!curl -s https://ddc-datascience.s3.amazonaws.com/Projects/Project.5-NLP/Data/NLP.csv | wc -l"
      ],
      "metadata": {
        "colab": {
          "base_uri": "https://localhost:8080/"
        },
        "id": "t6dopgR3vfDU",
        "outputId": "6200baa8-7ad1-4b25-c258-737adb144e33"
      },
      "execution_count": 41,
      "outputs": [
        {
          "output_type": "stream",
          "name": "stdout",
          "text": [
            "42786\n"
          ]
        }
      ]
    },
    {
      "cell_type": "code",
      "source": [
        "from IPython.display import HTML, clear_output # <-- Crucial for clear_output and interactive display"
      ],
      "metadata": {
        "id": "ezz64xY9kUIw"
      },
      "execution_count": 42,
      "outputs": []
    },
    {
      "cell_type": "code",
      "source": [
        "# --- Pre-requisite Setup (from your earlier notebook cells) ---\n",
        "# This block attempts to load and clean the DataFrame.\n",
        "# If you are running your notebook sequentially from Part 1, `df_cleaned`\n",
        "# would already be defined, and this block will simply re-confirm it.\n",
        "try:\n",
        "    df = pd.read_csv('https://ddc-datascience.s3.amazonaws.com/Projects/Project.5-NLP/Data/NLP.csv')\n",
        "    df_cleaned = df.copy()\n",
        "\n",
        "    # Text cleaning function (as defined in your notebook)\n",
        "    def clean_text(text):\n",
        "        text = str(text).lower()\n",
        "        text = re.sub(r'\\[.*?\\]', '', text)\n",
        "        text = re.sub(r'https?://\\S+|www\\.\\S+', '', text)\n",
        "        text = re.sub(r'<.*?>+', '', text)\n",
        "        text = re.sub(r'[%s]' % re.escape('!\"#$%&\\'()*+,-./:;<=>?@[\\\\]^_`{|}~'), '', text)\n",
        "        text = re.sub(r'\\n', '', text)\n",
        "        text = re.sub(r'\\w*\\d\\w*', '', text)\n",
        "        return text\n",
        "    df_cleaned['Overview'] = df_cleaned['text'].apply(clean_text)\n",
        "\n",
        "except Exception as e:\n",
        "    print(f\"Error: Could not load or clean DataFrame. Make sure NLP.csv is accessible. Error: {e}\")\n",
        "    # In a production notebook, you might halt execution or provide more robust error handling here.\n",
        "\n",
        "\n",
        "# --- Interactive Elements Setup ---\n",
        "\n",
        "# Create an input text box widget\n",
        "input_box = widgets.Text(\n",
        "    value='Dave Bautista', # Default person name for easy testing\n",
        "    placeholder='Enter a person\\'s name (e.g., John Cena, The Rock)',\n",
        "    description='Person Name:',\n",
        "    disabled=False,\n",
        "    layout=widgets.Layout(width='auto') # Allows the widget to adjust its width\n",
        ")\n",
        "\n",
        "# Create a button widget\n",
        "search_button = widgets.Button(\n",
        "    description='Find Similar People and Compare Ranks',\n",
        "    disabled=False,\n",
        "    button_style='success', # Visually appealing style\n",
        "    tooltip='Click to find similar people and compare their ranks from two data sources',\n",
        "    icon='search', # Adds a search icon\n",
        "    layout=widgets.Layout(width='auto')\n",
        ")\n",
        "\n",
        "# Create an output area widget where results and plots will be displayed\n",
        "output_area = widgets.Output()\n",
        "\n"
      ],
      "metadata": {
        "id": "T7UojE2mmHrk"
      },
      "execution_count": 43,
      "outputs": []
    },
    {
      "cell_type": "code",
      "source": [
        "# --- Main Function to Find Similar People and Plot Ranks ---\n",
        "def find_similar_people_and_plot(person_name):\n",
        "    with output_area:\n",
        "        # Clear previous output within the output_area. `wait=True` prevents flickering.\n",
        "        clear_output(wait=True)\n",
        "\n",
        "        if not person_name:\n",
        "            print(\"Please enter a name to search.\")\n",
        "            return\n",
        "\n",
        "        # --- 1. Identify Target Person and Find Neighbors from NLP.csv Overview ---\n",
        "        # Perform a case-insensitive search for the person's name in the DataFrame\n",
        "        target_row = df_cleaned[df_cleaned['name'].str.lower() == person_name.lower()]\n",
        "\n",
        "        if target_row.empty:\n",
        "            print(f\"'{person_name}' not found in the dataset. Please try another name or check spelling.\")\n",
        "            return\n",
        "\n",
        "        target_index_nlp_csv = target_row.index[0] # Get the DataFrame index of the target\n",
        "        # Get the properly cased name from the DataFrame for consistent display and Wikipedia lookup\n",
        "        display_target_name = df_cleaned.loc[target_index_nlp_csv, 'name']\n",
        "\n",
        "        print(f\"\\n--- Searching for people similar to: {display_target_name} ---\")\n",
        "        print(\"\\nStep 1: Finding neighbors based on NLP.csv Overview (Part 1 Ranking)...\")\n",
        "\n",
        "        # Re-initialize and fit TF-IDF Vectorizer for the NLP.csv 'Overview' text\n",
        "        # This re-computes on each click, which is acceptable for typical project dataset sizes.\n",
        "        tfidf_vectorizer_nlp = TfidfVectorizer(stop_words='english')\n",
        "        tfidf_matrix_nlp = tfidf_vectorizer_nlp.fit_transform(df_cleaned['Overview'])\n",
        "\n",
        "        # Initialize NearestNeighbors to find 10 closest neighbors (n_neighbors=11 includes the target itself)\n",
        "        knn_nlp = NearestNeighbors(n_neighbors=11, metric='cosine')\n",
        "        knn_nlp.fit(tfidf_matrix_nlp)\n",
        "\n",
        "        # Find distances and indices of the nearest neighbors to the target person's vector\n",
        "        distances_nlp, indices_nlp = knn_nlp.kneighbors(tfidf_matrix_nlp[target_index_nlp_csv])\n",
        "\n",
        "        # Prepare data to create a DataFrame for Part 1 rankings\n",
        "        part1_rankings_data = []\n",
        "        nlp_csv_neighbor_names = [] # List to store names of neighbors for Wikipedia fetching\n",
        "        for i, idx in enumerate(indices_nlp[0]):\n",
        "            if idx != target_index_nlp_csv: # Exclude the target person from the list of neighbors\n",
        "                similarity_nlp = 1 - distances_nlp[0][i]  # Convert cosine distance to similarity score (1 - distance)\n",
        "                neighbor_name = df_cleaned.iloc[idx]['name']\n",
        "                part1_rankings_data.append({'name': neighbor_name, 'similarity_nlp_csv': similarity_nlp})\n",
        "                nlp_csv_neighbor_names.append(neighbor_name)\n",
        "\n",
        "        part1_df = pd.DataFrame(part1_rankings_data)\n",
        "        if part1_df.empty:\n",
        "            print(\"Could not find any neighbors based on NLP.csv data for comparison. (Is the dataset very small?)\")\n",
        "            return\n",
        "\n",
        "        # Sort by similarity and assign ranks for Part 1\n",
        "        part1_df = part1_df.sort_values(by='similarity_nlp_csv', ascending=False).reset_index(drop=True)\n",
        "        part1_df['rank_nlp_csv'] = part1_df.index + 1 # Ranks start from 1\n",
        "\n",
        "        print(\"\\nOriginal Ranking (from NLP.csv Overview):\")\n",
        "        print(part1_df)\n",
        "\n",
        "        # --- 2. Collect Full Wikipedia Pages for Target and its NLP.csv Neighbors ---\n",
        "        print(\"\\nStep 2: Fetching Wikipedia articles for the target and its NLP.csv neighbors...\")\n",
        "        wikip = wikipediaapi.Wikipedia(user_agent='my_nlp_project (student@example.com)') # Initialize Wikipedia API\n",
        "        all_wiki_texts = {} # Dictionary to store fetched Wikipedia content\n",
        "\n",
        "        # Fetch the target's Wikipedia page first\n",
        "        target_page = wikip.page(display_target_name)\n",
        "        if target_page.exists():\n",
        "            all_wiki_texts[display_target_name] = target_page.text\n",
        "            print(f\"  Fetched: {display_target_name}\")\n",
        "        else:\n",
        "            print(f\"Warning: Wikipedia page for '{display_target_name}' not found. Cannot perform Wikipedia-based comparison for this person.\")\n",
        "            return # Exit if the target's Wikipedia page is missing, as comparison won't be meaningful\n",
        "\n",
        "        # Fetch Wikipedia pages for each of the identified NLP.csv neighbors\n",
        "        for name in nlp_csv_neighbor_names:\n",
        "            page = wikip.page(name)\n",
        "            if page.exists():\n",
        "                all_wiki_texts[name] = page.text\n",
        "                print(f\"  Fetched: {name}\")\n",
        "            else:\n",
        "                print(f\"  Wikipedia page not found for '{name}'. This person will be excluded from Wikipedia-based ranking.\")\n",
        "                all_wiki_texts[name] = \"\" # Store empty string if not found, to indicate it was attempted\n",
        "\n",
        "        # --- 3. Determine New Nearness Ranking based on Full Wikipedia Page Content ---\n",
        "        print(\"\\nStep 3: Calculating new rankings based on full Wikipedia content (Part 2 Ranking)...\")\n",
        "\n",
        "        # Filter out names with empty Wikipedia text before TF-IDF vectorization\n",
        "        # This is crucial to avoid errors if some Wikipedia pages were not found.\n",
        "        filtered_wiki_corpus_names = [name for name, text in all_wiki_texts.items() if text]\n",
        "        filtered_wiki_corpus_documents = [text for name, text in all_wiki_texts.items() if text]\n",
        "\n",
        "        # Need at least the target person and one other person with Wikipedia content for comparison\n",
        "        if len(filtered_wiki_corpus_documents) < 2:\n",
        "            print(\"\\nNot enough Wikipedia content available for a meaningful comparison. (Need target + at least one neighbor with content).\")\n",
        "            return\n",
        "\n",
        "        # Initialize a new TF-IDF Vectorizer specifically for the collected Wikipedia corpus\n",
        "        tfidf_vectorizer_wiki = TfidfVectorizer(stop_words='english')\n",
        "        tfidf_matrix_wiki = tfidf_vectorizer_wiki.fit_transform(filtered_wiki_corpus_documents)\n",
        "\n",
        "        # Get the TF-IDF vector for the target person from the Wikipedia matrix\n",
        "        try:\n",
        "            target_wiki_vector_index = filtered_wiki_corpus_names.index(display_target_name)\n",
        "            target_wiki_vector = tfidf_matrix_wiki[target_wiki_vector_index]\n",
        "        except ValueError:\n",
        "            print(f\"Error: Target person '{display_target_name}' was not found in the collected Wikipedia texts for TF-IDF calculation. This shouldn't happen if the page exists.\")\n",
        "            return\n",
        "\n",
        "        new_wiki_rankings = []\n",
        "        # Calculate cosine similarity of the target's Wikipedia vector with all other vectors in the Wikipedia matrix\n",
        "        similarities_wiki = cosine_similarity(target_wiki_vector, tfidf_matrix_wiki).flatten()\n",
        "\n",
        "        # Compile data for the Wikipedia-based ranking DataFrame\n",
        "        for i, name in enumerate(filtered_wiki_corpus_names):\n",
        "            if name != display_target_name: # Exclude the target person from the neighbor list\n",
        "                similarity_score_wiki = similarities_wiki[i]\n",
        "                new_wiki_rankings.append({'name': name, 'similarity_wiki': similarity_score_wiki})\n",
        "\n",
        "        wiki_rank_df = pd.DataFrame(new_wiki_rankings)\n",
        "\n",
        "        if wiki_rank_df.empty:\n",
        "            print(\"\\nCould not calculate new Wikipedia rankings for comparison. No valid neighbors with Wikipedia content found.\")\n",
        "            return\n",
        "\n",
        "        # Sort by similarity and assign ranks for Wikipedia-based comparison\n",
        "        wiki_rank_df = wiki_rank_df.sort_values(by='similarity_wiki', ascending=False).reset_index(drop=True)\n",
        "        wiki_rank_df['rank_wiki'] = wiki_rank_df.index + 1 # Ranks start from 1\n",
        "\n",
        "        print(\"\\nNew Ranking (from Full Wikipedia Content):\")\n",
        "        print(wiki_rank_df)\n",
        "\n",
        "        # --- 4. Compare and Plot Rankings ---\n",
        "        print(\"\\nStep 4: Comparing and Plotting Ranks...\")\n",
        "\n",
        "        # Merge the two ranking DataFrames on the 'name' column.\n",
        "        # 'inner' join ensures only common neighbors (found in both rankings) are compared.\n",
        "        comparison_df = pd.merge(part1_df, wiki_rank_df, on='name', how='inner')\n",
        "\n",
        "        if comparison_df.empty:\n",
        "            print(\"\\nNo common neighbors found between NLP.csv and Wikipedia rankings for plotting. This can happen if Wikipedia pages were not found for the original neighbors.\")\n",
        "            return\n",
        "\n",
        "        # Calculate the difference in ranks: positive value means higher rank (numerically worse) in NLP.csv overview\n",
        "        comparison_df['rank_difference'] = comparison_df['rank_nlp_csv'] - comparison_df['rank_wiki']\n",
        "\n",
        "        # Sort the comparison DataFrame by the Part 1 rank for consistent plotting order\n",
        "        comparison_df = comparison_df.sort_values(by='rank_nlp_csv').reset_index(drop=True)\n",
        "\n",
        "        print(\"\\nComparison Table (NLP.csv Rank vs. Wikipedia Rank):\")\n",
        "        print(comparison_df[['name', 'rank_nlp_csv', 'rank_wiki', 'rank_difference']])\n",
        "\n",
        "        # Generate the comparative bar plot\n",
        "        plt.figure(figsize=(14, 8)) # Set figure size for better readability\n",
        "        bar_width = 0.35 # Width of each bar in the bar chart\n",
        "        index = np.arange(len(comparison_df)) # X-axis positions for the bars\n",
        "\n",
        "        # Plot bars for NLP.csv Overview ranks\n",
        "        plt.bar(index, comparison_df['rank_nlp_csv'], bar_width, label='Rank (NLP.csv Overview)', color='skyblue')\n",
        "        # Plot bars for Full Wikipedia Content ranks, offset by bar_width\n",
        "        plt.bar(index + bar_width, comparison_df['rank_wiki'], bar_width, label='Rank (Full Wikipedia Content)', color='lightcoral')\n",
        "\n",
        "        plt.xlabel('Neighbor')\n",
        "        plt.ylabel('Rank')\n",
        "        plt.title(f'Comparison of Nearest Neighbor Ranks for \"{display_target_name}\"\\n(NLP.csv Overview vs. Full Wikipedia Content)')\n",
        "        # Set X-axis ticks to neighbor names, rotated for readability\n",
        "        plt.xticks(index + bar_width / 2, comparison_df['name'], rotation=45, ha='right')\n",
        "        plt.legend() # Display legend for bar labels\n",
        "        plt.grid(axis='y', linestyle='--', alpha=0.7) # Add a horizontal grid\n",
        "        plt.tight_layout() # Adjust layout to prevent labels from overlapping\n",
        "        plt.show() # Display the plot within the output_area\n",
        "\n",
        "        print(\"\\nInteractive plot generated successfully.\")\n",
        "\n",
        "\n",
        "# --- Event Handling ---\n",
        "# Attach the `find_similar_people_and_plot` function to the button's click event\n",
        "def on_button_click(b):\n",
        "    find_similar_people_and_plot(input_box.value)\n",
        "\n",
        "search_button.on_click(on_button_click)\n",
        "\n",
        "\n",
        "# --- Display Interactive Elements ---\n",
        "# Arrange the input box, button, and output area vertically for display in the notebook\n",
        "display(widgets.VBox([input_box, search_button, output_area]))\n",
        "\n",
        "# Optional: Uncomment the line below to run an initial search with the default name\n",
        "# ('Dave Bautista') when the cell is first executed.\n",
        "# find_similar_people_and_plot(input_box.value)"
      ],
      "metadata": {
        "colab": {
          "base_uri": "https://localhost:8080/",
          "height": 1000,
          "referenced_widgets": [
            "d21e84a8b03e4c468c3bcf3cc98bfa76",
            "0493acd5bba040fca4688aae512101aa",
            "4e06ccfe495745fc817e4ab52ec6adb2",
            "3fbbb3e4d4884c088c870223d15b72d5",
            "bafe9f708a5644b38be528cb19c15009",
            "71bb10cd704c4b3bbbc40a3a833a891c",
            "48d7b3f01cfc4a5f98e3a6ff123f75e3",
            "866e666c971546d6b79efc1d85545fc1",
            "939cab90737145d3978b6a606a642811",
            "fbfed871427d49cb80bb18bf6c61aca0"
          ]
        },
        "id": "xcmDrSP_mOX7",
        "outputId": "1ab3a9b6-149d-441a-9243-afd62192aef5"
      },
      "execution_count": 44,
      "outputs": [
        {
          "output_type": "display_data",
          "data": {
            "text/plain": [
              "VBox(children=(Text(value='Dave Bautista', description='Person Name:', layout=Layout(width='auto'), placeholde…"
            ],
            "application/vnd.jupyter.widget-view+json": {
              "version_major": 2,
              "version_minor": 0,
              "model_id": "d21e84a8b03e4c468c3bcf3cc98bfa76"
            }
          },
          "metadata": {}
        }
      ]
    },
    {
      "cell_type": "code",
      "source": [],
      "metadata": {
        "id": "MPA9EmFIjz60"
      },
      "execution_count": 44,
      "outputs": []
    }
  ],
  "metadata": {
    "colab": {
      "provenance": [],
      "toc_visible": true,
      "include_colab_link": true
    },
    "kernelspec": {
      "display_name": "Python 3 (ipykernel)",
      "language": "python",
      "name": "python3"
    },
    "language_info": {
      "codemirror_mode": {
        "name": "ipython",
        "version": 3
      },
      "file_extension": ".py",
      "mimetype": "text/x-python",
      "name": "python",
      "nbconvert_exporter": "python",
      "pygments_lexer": "ipython3",
      "version": "3.10.12"
    },
    "widgets": {
      "application/vnd.jupyter.widget-state+json": {
        "d21e84a8b03e4c468c3bcf3cc98bfa76": {
          "model_module": "@jupyter-widgets/controls",
          "model_name": "VBoxModel",
          "model_module_version": "1.5.0",
          "state": {
            "_dom_classes": [],
            "_model_module": "@jupyter-widgets/controls",
            "_model_module_version": "1.5.0",
            "_model_name": "VBoxModel",
            "_view_count": null,
            "_view_module": "@jupyter-widgets/controls",
            "_view_module_version": "1.5.0",
            "_view_name": "VBoxView",
            "box_style": "",
            "children": [
              "IPY_MODEL_0493acd5bba040fca4688aae512101aa",
              "IPY_MODEL_4e06ccfe495745fc817e4ab52ec6adb2",
              "IPY_MODEL_3fbbb3e4d4884c088c870223d15b72d5"
            ],
            "layout": "IPY_MODEL_bafe9f708a5644b38be528cb19c15009"
          }
        },
        "0493acd5bba040fca4688aae512101aa": {
          "model_module": "@jupyter-widgets/controls",
          "model_name": "TextModel",
          "model_module_version": "1.5.0",
          "state": {
            "_dom_classes": [],
            "_model_module": "@jupyter-widgets/controls",
            "_model_module_version": "1.5.0",
            "_model_name": "TextModel",
            "_view_count": null,
            "_view_module": "@jupyter-widgets/controls",
            "_view_module_version": "1.5.0",
            "_view_name": "TextView",
            "continuous_update": true,
            "description": "Person Name:",
            "description_tooltip": null,
            "disabled": false,
            "layout": "IPY_MODEL_71bb10cd704c4b3bbbc40a3a833a891c",
            "placeholder": "Enter a person's name (e.g., John Cena, The Rock)",
            "style": "IPY_MODEL_48d7b3f01cfc4a5f98e3a6ff123f75e3",
            "value": "Oprah Winfrey"
          }
        },
        "4e06ccfe495745fc817e4ab52ec6adb2": {
          "model_module": "@jupyter-widgets/controls",
          "model_name": "ButtonModel",
          "model_module_version": "1.5.0",
          "state": {
            "_dom_classes": [],
            "_model_module": "@jupyter-widgets/controls",
            "_model_module_version": "1.5.0",
            "_model_name": "ButtonModel",
            "_view_count": null,
            "_view_module": "@jupyter-widgets/controls",
            "_view_module_version": "1.5.0",
            "_view_name": "ButtonView",
            "button_style": "success",
            "description": "Find Similar People and Compare Ranks",
            "disabled": false,
            "icon": "search",
            "layout": "IPY_MODEL_866e666c971546d6b79efc1d85545fc1",
            "style": "IPY_MODEL_939cab90737145d3978b6a606a642811",
            "tooltip": "Click to find similar people and compare their ranks from two data sources"
          }
        },
        "3fbbb3e4d4884c088c870223d15b72d5": {
          "model_module": "@jupyter-widgets/output",
          "model_name": "OutputModel",
          "model_module_version": "1.0.0",
          "state": {
            "_dom_classes": [],
            "_model_module": "@jupyter-widgets/output",
            "_model_module_version": "1.0.0",
            "_model_name": "OutputModel",
            "_view_count": null,
            "_view_module": "@jupyter-widgets/output",
            "_view_module_version": "1.0.0",
            "_view_name": "OutputView",
            "layout": "IPY_MODEL_fbfed871427d49cb80bb18bf6c61aca0",
            "msg_id": "",
            "outputs": [
              {
                "output_type": "stream",
                "name": "stdout",
                "text": [
                  "\n",
                  "--- Searching for people similar to: Oprah Winfrey ---\n",
                  "\n",
                  "Step 1: Finding neighbors based on NLP.csv Overview (Part 1 Ranking)...\n"
                ]
              },
              {
                "output_type": "stream",
                "name": "stdout",
                "text": [
                  "\n",
                  "Original Ranking (from NLP.csv Overview):\n",
                  "               name  similarity_nlp_csv  rank_nlp_csv\n",
                  "0   Ellen DeGeneres            0.118843             1\n",
                  "1         Mark Nepo            0.114619             2\n",
                  "2  Peter B. Collins            0.113600             3\n",
                  "3   Gretchen Massey            0.112990             4\n",
                  "4     Tererai Trent            0.107184             5\n",
                  "5      Barack Obama            0.102021             6\n",
                  "6        Omar Wasow            0.101719             7\n",
                  "7       Tyler Perry            0.098719             8\n",
                  "8           May Lee            0.096873             9\n",
                  "9  Kristine Carlson            0.096418            10\n",
                  "\n",
                  "Step 2: Fetching Wikipedia articles for the target and its NLP.csv neighbors...\n"
                ]
              },
              {
                "output_type": "stream",
                "name": "stdout",
                "text": [
                  "  Fetched: Oprah Winfrey\n"
                ]
              },
              {
                "output_type": "stream",
                "name": "stdout",
                "text": [
                  "  Fetched: Ellen DeGeneres\n",
                  "  Fetched: Mark Nepo\n"
                ]
              },
              {
                "output_type": "stream",
                "name": "stdout",
                "text": [
                  "  Fetched: Peter B. Collins\n",
                  "  Fetched: Gretchen Massey\n"
                ]
              },
              {
                "output_type": "stream",
                "name": "stdout",
                "text": [
                  "  Fetched: Tererai Trent\n"
                ]
              },
              {
                "output_type": "stream",
                "name": "stdout",
                "text": [
                  "  Fetched: Barack Obama\n",
                  "  Fetched: Omar Wasow\n"
                ]
              },
              {
                "output_type": "stream",
                "name": "stdout",
                "text": [
                  "  Fetched: Tyler Perry\n",
                  "  Fetched: May Lee\n"
                ]
              },
              {
                "output_type": "stream",
                "name": "stdout",
                "text": [
                  "  Fetched: Kristine Carlson\n",
                  "\n",
                  "Step 3: Calculating new rankings based on full Wikipedia content (Part 2 Ranking)...\n",
                  "\n",
                  "New Ranking (from Full Wikipedia Content):\n",
                  "               name  similarity_wiki  rank_wiki\n",
                  "0      Barack Obama         0.196476          1\n",
                  "1       Tyler Perry         0.184132          2\n",
                  "2     Tererai Trent         0.169073          3\n",
                  "3         Mark Nepo         0.147047          4\n",
                  "4   Ellen DeGeneres         0.145338          5\n",
                  "5           May Lee         0.138768          6\n",
                  "6  Kristine Carlson         0.103594          7\n",
                  "7  Peter B. Collins         0.083083          8\n",
                  "8        Omar Wasow         0.060236          9\n",
                  "9   Gretchen Massey         0.059258         10\n",
                  "\n",
                  "Step 4: Comparing and Plotting Ranks...\n",
                  "\n",
                  "Comparison Table (NLP.csv Rank vs. Wikipedia Rank):\n",
                  "               name  rank_nlp_csv  rank_wiki  rank_difference\n",
                  "0   Ellen DeGeneres             1          5               -4\n",
                  "1         Mark Nepo             2          4               -2\n",
                  "2  Peter B. Collins             3          8               -5\n",
                  "3   Gretchen Massey             4         10               -6\n",
                  "4     Tererai Trent             5          3                2\n",
                  "5      Barack Obama             6          1                5\n",
                  "6        Omar Wasow             7          9               -2\n",
                  "7       Tyler Perry             8          2                6\n",
                  "8           May Lee             9          6                3\n",
                  "9  Kristine Carlson            10          7                3\n"
                ]
              },
              {
                "output_type": "display_data",
                "data": {
                  "text/plain": "<Figure size 1400x800 with 1 Axes>",
                  "image/png": "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\n"
                },
                "metadata": {}
              },
              {
                "output_type": "stream",
                "name": "stdout",
                "text": [
                  "\n",
                  "Interactive plot generated successfully.\n"
                ]
              }
            ]
          }
        },
        "bafe9f708a5644b38be528cb19c15009": {
          "model_module": "@jupyter-widgets/base",
          "model_name": "LayoutModel",
          "model_module_version": "1.2.0",
          "state": {
            "_model_module": "@jupyter-widgets/base",
            "_model_module_version": "1.2.0",
            "_model_name": "LayoutModel",
            "_view_count": null,
            "_view_module": "@jupyter-widgets/base",
            "_view_module_version": "1.2.0",
            "_view_name": "LayoutView",
            "align_content": null,
            "align_items": null,
            "align_self": null,
            "border": null,
            "bottom": null,
            "display": null,
            "flex": null,
            "flex_flow": null,
            "grid_area": null,
            "grid_auto_columns": null,
            "grid_auto_flow": null,
            "grid_auto_rows": null,
            "grid_column": null,
            "grid_gap": null,
            "grid_row": null,
            "grid_template_areas": null,
            "grid_template_columns": null,
            "grid_template_rows": null,
            "height": null,
            "justify_content": null,
            "justify_items": null,
            "left": null,
            "margin": null,
            "max_height": null,
            "max_width": null,
            "min_height": null,
            "min_width": null,
            "object_fit": null,
            "object_position": null,
            "order": null,
            "overflow": null,
            "overflow_x": null,
            "overflow_y": null,
            "padding": null,
            "right": null,
            "top": null,
            "visibility": null,
            "width": null
          }
        },
        "71bb10cd704c4b3bbbc40a3a833a891c": {
          "model_module": "@jupyter-widgets/base",
          "model_name": "LayoutModel",
          "model_module_version": "1.2.0",
          "state": {
            "_model_module": "@jupyter-widgets/base",
            "_model_module_version": "1.2.0",
            "_model_name": "LayoutModel",
            "_view_count": null,
            "_view_module": "@jupyter-widgets/base",
            "_view_module_version": "1.2.0",
            "_view_name": "LayoutView",
            "align_content": null,
            "align_items": null,
            "align_self": null,
            "border": null,
            "bottom": null,
            "display": null,
            "flex": null,
            "flex_flow": null,
            "grid_area": null,
            "grid_auto_columns": null,
            "grid_auto_flow": null,
            "grid_auto_rows": null,
            "grid_column": null,
            "grid_gap": null,
            "grid_row": null,
            "grid_template_areas": null,
            "grid_template_columns": null,
            "grid_template_rows": null,
            "height": null,
            "justify_content": null,
            "justify_items": null,
            "left": null,
            "margin": null,
            "max_height": null,
            "max_width": null,
            "min_height": null,
            "min_width": null,
            "object_fit": null,
            "object_position": null,
            "order": null,
            "overflow": null,
            "overflow_x": null,
            "overflow_y": null,
            "padding": null,
            "right": null,
            "top": null,
            "visibility": null,
            "width": "auto"
          }
        },
        "48d7b3f01cfc4a5f98e3a6ff123f75e3": {
          "model_module": "@jupyter-widgets/controls",
          "model_name": "DescriptionStyleModel",
          "model_module_version": "1.5.0",
          "state": {
            "_model_module": "@jupyter-widgets/controls",
            "_model_module_version": "1.5.0",
            "_model_name": "DescriptionStyleModel",
            "_view_count": null,
            "_view_module": "@jupyter-widgets/base",
            "_view_module_version": "1.2.0",
            "_view_name": "StyleView",
            "description_width": ""
          }
        },
        "866e666c971546d6b79efc1d85545fc1": {
          "model_module": "@jupyter-widgets/base",
          "model_name": "LayoutModel",
          "model_module_version": "1.2.0",
          "state": {
            "_model_module": "@jupyter-widgets/base",
            "_model_module_version": "1.2.0",
            "_model_name": "LayoutModel",
            "_view_count": null,
            "_view_module": "@jupyter-widgets/base",
            "_view_module_version": "1.2.0",
            "_view_name": "LayoutView",
            "align_content": null,
            "align_items": null,
            "align_self": null,
            "border": null,
            "bottom": null,
            "display": null,
            "flex": null,
            "flex_flow": null,
            "grid_area": null,
            "grid_auto_columns": null,
            "grid_auto_flow": null,
            "grid_auto_rows": null,
            "grid_column": null,
            "grid_gap": null,
            "grid_row": null,
            "grid_template_areas": null,
            "grid_template_columns": null,
            "grid_template_rows": null,
            "height": null,
            "justify_content": null,
            "justify_items": null,
            "left": null,
            "margin": null,
            "max_height": null,
            "max_width": null,
            "min_height": null,
            "min_width": null,
            "object_fit": null,
            "object_position": null,
            "order": null,
            "overflow": null,
            "overflow_x": null,
            "overflow_y": null,
            "padding": null,
            "right": null,
            "top": null,
            "visibility": null,
            "width": "auto"
          }
        },
        "939cab90737145d3978b6a606a642811": {
          "model_module": "@jupyter-widgets/controls",
          "model_name": "ButtonStyleModel",
          "model_module_version": "1.5.0",
          "state": {
            "_model_module": "@jupyter-widgets/controls",
            "_model_module_version": "1.5.0",
            "_model_name": "ButtonStyleModel",
            "_view_count": null,
            "_view_module": "@jupyter-widgets/base",
            "_view_module_version": "1.2.0",
            "_view_name": "StyleView",
            "button_color": null,
            "font_weight": ""
          }
        },
        "fbfed871427d49cb80bb18bf6c61aca0": {
          "model_module": "@jupyter-widgets/base",
          "model_name": "LayoutModel",
          "model_module_version": "1.2.0",
          "state": {
            "_model_module": "@jupyter-widgets/base",
            "_model_module_version": "1.2.0",
            "_model_name": "LayoutModel",
            "_view_count": null,
            "_view_module": "@jupyter-widgets/base",
            "_view_module_version": "1.2.0",
            "_view_name": "LayoutView",
            "align_content": null,
            "align_items": null,
            "align_self": null,
            "border": null,
            "bottom": null,
            "display": null,
            "flex": null,
            "flex_flow": null,
            "grid_area": null,
            "grid_auto_columns": null,
            "grid_auto_flow": null,
            "grid_auto_rows": null,
            "grid_column": null,
            "grid_gap": null,
            "grid_row": null,
            "grid_template_areas": null,
            "grid_template_columns": null,
            "grid_template_rows": null,
            "height": null,
            "justify_content": null,
            "justify_items": null,
            "left": null,
            "margin": null,
            "max_height": null,
            "max_width": null,
            "min_height": null,
            "min_width": null,
            "object_fit": null,
            "object_position": null,
            "order": null,
            "overflow": null,
            "overflow_x": null,
            "overflow_y": null,
            "padding": null,
            "right": null,
            "top": null,
            "visibility": null,
            "width": null
          }
        }
      }
    }
  },
  "nbformat": 4,
  "nbformat_minor": 0
}
