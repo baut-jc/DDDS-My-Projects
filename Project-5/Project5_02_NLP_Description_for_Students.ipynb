{
  "cells": [
    {
      "cell_type": "markdown",
      "metadata": {
        "id": "view-in-github",
        "colab_type": "text"
      },
      "source": [
        "<a href=\"https://colab.research.google.com/github/baut-jc/DDDS-My-Projects/blob/main/Project-5/Project5_02_NLP_Description_for_Students.ipynb\" target=\"_parent\"><img src=\"https://colab.research.google.com/assets/colab-badge.svg\" alt=\"Open In Colab\"/></a>"
      ]
    },
    {
      "cell_type": "code",
      "source": [
        "%%capture output\n",
        "#install Wikipedia API\n",
        "!pip3 install wikipedia-api"
      ],
      "metadata": {
        "id": "NgAGLWCV-M7A"
      },
      "execution_count": 1,
      "outputs": []
    },
    {
      "cell_type": "code",
      "source": [
        "import pandas as pd\n",
        "import numpy as np\n",
        "import re\n",
        "\n",
        "from textblob import TextBlob\n",
        "from sklearn.feature_extraction.text import CountVectorizer\n",
        "from sklearn.feature_extraction.text import TfidfTransformer\n",
        "from sklearn.feature_extraction.text import TfidfVectorizer\n",
        "from sklearn.metrics.pairwise import cosine_similarity\n",
        "from sklearn.neighbors import NearestNeighbors\n",
        "\n",
        "import matplotlib.pyplot as plt\n",
        "import seaborn as sns\n",
        "\n",
        "import wikipediaapi\n",
        "import ipywidgets as widgets # ipywidgets are used for creating interactive user interface elements in Jupyter Notebooks.\n",
        "import nltk\n",
        "\n",
        "nltk.download('punkt_tab')\n",
        "pd.options.display.max_columns = 100\n"
      ],
      "metadata": {
        "colab": {
          "base_uri": "https://localhost:8080/"
        },
        "id": "5SUBhs6G55Fi",
        "outputId": "f398b7b0-b6e1-4502-9019-cd044d171753"
      },
      "execution_count": 74,
      "outputs": [
        {
          "output_type": "stream",
          "name": "stderr",
          "text": [
            "[nltk_data] Downloading package punkt_tab to /root/nltk_data...\n",
            "[nltk_data]   Package punkt_tab is already up-to-date!\n"
          ]
        }
      ]
    },
    {
      "cell_type": "markdown",
      "source": [
        "##Data Collection and Sources"
      ],
      "metadata": {
        "id": "FIvFDd5iq45Q"
      }
    },
    {
      "cell_type": "code",
      "source": [
        "df=pd.read_csv('https://ddc-datascience.s3.amazonaws.com/Projects/Project.5-NLP/Data/NLP.csv')"
      ],
      "metadata": {
        "id": "Ek2V9Qgb6Be_"
      },
      "execution_count": null,
      "outputs": []
    },
    {
      "cell_type": "code",
      "source": [
        "df.shape, df.info()"
      ],
      "metadata": {
        "colab": {
          "base_uri": "https://localhost:8080/"
        },
        "id": "ATV-_x-86HxW",
        "outputId": "0294775d-0f73-4f33-c25b-6198b2d9f51d"
      },
      "execution_count": null,
      "outputs": [
        {
          "output_type": "stream",
          "name": "stdout",
          "text": [
            "<class 'pandas.core.frame.DataFrame'>\n",
            "RangeIndex: 42786 entries, 0 to 42785\n",
            "Data columns (total 3 columns):\n",
            " #   Column  Non-Null Count  Dtype \n",
            "---  ------  --------------  ----- \n",
            " 0   URI     42786 non-null  object\n",
            " 1   name    42786 non-null  object\n",
            " 2   text    42786 non-null  object\n",
            "dtypes: object(3)\n",
            "memory usage: 1002.9+ KB\n"
          ]
        },
        {
          "output_type": "execute_result",
          "data": {
            "text/plain": [
              "((42786, 3), None)"
            ]
          },
          "metadata": {},
          "execution_count": 4
        }
      ]
    },
    {
      "cell_type": "code",
      "source": [
        "df.head()"
      ],
      "metadata": {
        "colab": {
          "base_uri": "https://localhost:8080/",
          "height": 206
        },
        "id": "w4t3s4tg6Eaw",
        "outputId": "6fc30b03-9d19-459e-a443-a27e33d3c89b"
      },
      "execution_count": null,
      "outputs": [
        {
          "output_type": "execute_result",
          "data": {
            "text/plain": [
              "                                                 URI                 name  \\\n",
              "0        <http://dbpedia.org/resource/Digby_Morrell>        Digby Morrell   \n",
              "1       <http://dbpedia.org/resource/Alfred_J._Lewy>       Alfred J. Lewy   \n",
              "2        <http://dbpedia.org/resource/Harpdog_Brown>        Harpdog Brown   \n",
              "3  <http://dbpedia.org/resource/Franz_Rottensteiner>  Franz Rottensteiner   \n",
              "4               <http://dbpedia.org/resource/G-Enka>               G-Enka   \n",
              "\n",
              "                                                text  \n",
              "0  digby morrell born 10 october 1979 is a former...  \n",
              "1  alfred j lewy aka sandy lewy graduated from un...  \n",
              "2  harpdog brown is a singer and harmonica player...  \n",
              "3  franz rottensteiner born in waidmannsfeld lowe...  \n",
              "4  henry krvits born 30 december 1974 in tallinn ...  "
            ],
            "text/html": [
              "\n",
              "  <div id=\"df-b091f129-7af0-44f9-85d5-47e0fe1f3292\" class=\"colab-df-container\">\n",
              "    <div>\n",
              "<style scoped>\n",
              "    .dataframe tbody tr th:only-of-type {\n",
              "        vertical-align: middle;\n",
              "    }\n",
              "\n",
              "    .dataframe tbody tr th {\n",
              "        vertical-align: top;\n",
              "    }\n",
              "\n",
              "    .dataframe thead th {\n",
              "        text-align: right;\n",
              "    }\n",
              "</style>\n",
              "<table border=\"1\" class=\"dataframe\">\n",
              "  <thead>\n",
              "    <tr style=\"text-align: right;\">\n",
              "      <th></th>\n",
              "      <th>URI</th>\n",
              "      <th>name</th>\n",
              "      <th>text</th>\n",
              "    </tr>\n",
              "  </thead>\n",
              "  <tbody>\n",
              "    <tr>\n",
              "      <th>0</th>\n",
              "      <td>&lt;http://dbpedia.org/resource/Digby_Morrell&gt;</td>\n",
              "      <td>Digby Morrell</td>\n",
              "      <td>digby morrell born 10 october 1979 is a former...</td>\n",
              "    </tr>\n",
              "    <tr>\n",
              "      <th>1</th>\n",
              "      <td>&lt;http://dbpedia.org/resource/Alfred_J._Lewy&gt;</td>\n",
              "      <td>Alfred J. Lewy</td>\n",
              "      <td>alfred j lewy aka sandy lewy graduated from un...</td>\n",
              "    </tr>\n",
              "    <tr>\n",
              "      <th>2</th>\n",
              "      <td>&lt;http://dbpedia.org/resource/Harpdog_Brown&gt;</td>\n",
              "      <td>Harpdog Brown</td>\n",
              "      <td>harpdog brown is a singer and harmonica player...</td>\n",
              "    </tr>\n",
              "    <tr>\n",
              "      <th>3</th>\n",
              "      <td>&lt;http://dbpedia.org/resource/Franz_Rottensteiner&gt;</td>\n",
              "      <td>Franz Rottensteiner</td>\n",
              "      <td>franz rottensteiner born in waidmannsfeld lowe...</td>\n",
              "    </tr>\n",
              "    <tr>\n",
              "      <th>4</th>\n",
              "      <td>&lt;http://dbpedia.org/resource/G-Enka&gt;</td>\n",
              "      <td>G-Enka</td>\n",
              "      <td>henry krvits born 30 december 1974 in tallinn ...</td>\n",
              "    </tr>\n",
              "  </tbody>\n",
              "</table>\n",
              "</div>\n",
              "    <div class=\"colab-df-buttons\">\n",
              "\n",
              "  <div class=\"colab-df-container\">\n",
              "    <button class=\"colab-df-convert\" onclick=\"convertToInteractive('df-b091f129-7af0-44f9-85d5-47e0fe1f3292')\"\n",
              "            title=\"Convert this dataframe to an interactive table.\"\n",
              "            style=\"display:none;\">\n",
              "\n",
              "  <svg xmlns=\"http://www.w3.org/2000/svg\" height=\"24px\" viewBox=\"0 -960 960 960\">\n",
              "    <path d=\"M120-120v-720h720v720H120Zm60-500h600v-160H180v160Zm220 220h160v-160H400v160Zm0 220h160v-160H400v160ZM180-400h160v-160H180v160Zm440 0h160v-160H620v160ZM180-180h160v-160H180v160Zm440 0h160v-160H620v160Z\"/>\n",
              "  </svg>\n",
              "    </button>\n",
              "\n",
              "  <style>\n",
              "    .colab-df-container {\n",
              "      display:flex;\n",
              "      gap: 12px;\n",
              "    }\n",
              "\n",
              "    .colab-df-convert {\n",
              "      background-color: #E8F0FE;\n",
              "      border: none;\n",
              "      border-radius: 50%;\n",
              "      cursor: pointer;\n",
              "      display: none;\n",
              "      fill: #1967D2;\n",
              "      height: 32px;\n",
              "      padding: 0 0 0 0;\n",
              "      width: 32px;\n",
              "    }\n",
              "\n",
              "    .colab-df-convert:hover {\n",
              "      background-color: #E2EBFA;\n",
              "      box-shadow: 0px 1px 2px rgba(60, 64, 67, 0.3), 0px 1px 3px 1px rgba(60, 64, 67, 0.15);\n",
              "      fill: #174EA6;\n",
              "    }\n",
              "\n",
              "    .colab-df-buttons div {\n",
              "      margin-bottom: 4px;\n",
              "    }\n",
              "\n",
              "    [theme=dark] .colab-df-convert {\n",
              "      background-color: #3B4455;\n",
              "      fill: #D2E3FC;\n",
              "    }\n",
              "\n",
              "    [theme=dark] .colab-df-convert:hover {\n",
              "      background-color: #434B5C;\n",
              "      box-shadow: 0px 1px 3px 1px rgba(0, 0, 0, 0.15);\n",
              "      filter: drop-shadow(0px 1px 2px rgba(0, 0, 0, 0.3));\n",
              "      fill: #FFFFFF;\n",
              "    }\n",
              "  </style>\n",
              "\n",
              "    <script>\n",
              "      const buttonEl =\n",
              "        document.querySelector('#df-b091f129-7af0-44f9-85d5-47e0fe1f3292 button.colab-df-convert');\n",
              "      buttonEl.style.display =\n",
              "        google.colab.kernel.accessAllowed ? 'block' : 'none';\n",
              "\n",
              "      async function convertToInteractive(key) {\n",
              "        const element = document.querySelector('#df-b091f129-7af0-44f9-85d5-47e0fe1f3292');\n",
              "        const dataTable =\n",
              "          await google.colab.kernel.invokeFunction('convertToInteractive',\n",
              "                                                    [key], {});\n",
              "        if (!dataTable) return;\n",
              "\n",
              "        const docLinkHtml = 'Like what you see? Visit the ' +\n",
              "          '<a target=\"_blank\" href=https://colab.research.google.com/notebooks/data_table.ipynb>data table notebook</a>'\n",
              "          + ' to learn more about interactive tables.';\n",
              "        element.innerHTML = '';\n",
              "        dataTable['output_type'] = 'display_data';\n",
              "        await google.colab.output.renderOutput(dataTable, element);\n",
              "        const docLink = document.createElement('div');\n",
              "        docLink.innerHTML = docLinkHtml;\n",
              "        element.appendChild(docLink);\n",
              "      }\n",
              "    </script>\n",
              "  </div>\n",
              "\n",
              "\n",
              "    <div id=\"df-aa127c95-9ed3-49fb-b761-30b0313b0551\">\n",
              "      <button class=\"colab-df-quickchart\" onclick=\"quickchart('df-aa127c95-9ed3-49fb-b761-30b0313b0551')\"\n",
              "                title=\"Suggest charts\"\n",
              "                style=\"display:none;\">\n",
              "\n",
              "<svg xmlns=\"http://www.w3.org/2000/svg\" height=\"24px\"viewBox=\"0 0 24 24\"\n",
              "     width=\"24px\">\n",
              "    <g>\n",
              "        <path d=\"M19 3H5c-1.1 0-2 .9-2 2v14c0 1.1.9 2 2 2h14c1.1 0 2-.9 2-2V5c0-1.1-.9-2-2-2zM9 17H7v-7h2v7zm4 0h-2V7h2v10zm4 0h-2v-4h2v4z\"/>\n",
              "    </g>\n",
              "</svg>\n",
              "      </button>\n",
              "\n",
              "<style>\n",
              "  .colab-df-quickchart {\n",
              "      --bg-color: #E8F0FE;\n",
              "      --fill-color: #1967D2;\n",
              "      --hover-bg-color: #E2EBFA;\n",
              "      --hover-fill-color: #174EA6;\n",
              "      --disabled-fill-color: #AAA;\n",
              "      --disabled-bg-color: #DDD;\n",
              "  }\n",
              "\n",
              "  [theme=dark] .colab-df-quickchart {\n",
              "      --bg-color: #3B4455;\n",
              "      --fill-color: #D2E3FC;\n",
              "      --hover-bg-color: #434B5C;\n",
              "      --hover-fill-color: #FFFFFF;\n",
              "      --disabled-bg-color: #3B4455;\n",
              "      --disabled-fill-color: #666;\n",
              "  }\n",
              "\n",
              "  .colab-df-quickchart {\n",
              "    background-color: var(--bg-color);\n",
              "    border: none;\n",
              "    border-radius: 50%;\n",
              "    cursor: pointer;\n",
              "    display: none;\n",
              "    fill: var(--fill-color);\n",
              "    height: 32px;\n",
              "    padding: 0;\n",
              "    width: 32px;\n",
              "  }\n",
              "\n",
              "  .colab-df-quickchart:hover {\n",
              "    background-color: var(--hover-bg-color);\n",
              "    box-shadow: 0 1px 2px rgba(60, 64, 67, 0.3), 0 1px 3px 1px rgba(60, 64, 67, 0.15);\n",
              "    fill: var(--button-hover-fill-color);\n",
              "  }\n",
              "\n",
              "  .colab-df-quickchart-complete:disabled,\n",
              "  .colab-df-quickchart-complete:disabled:hover {\n",
              "    background-color: var(--disabled-bg-color);\n",
              "    fill: var(--disabled-fill-color);\n",
              "    box-shadow: none;\n",
              "  }\n",
              "\n",
              "  .colab-df-spinner {\n",
              "    border: 2px solid var(--fill-color);\n",
              "    border-color: transparent;\n",
              "    border-bottom-color: var(--fill-color);\n",
              "    animation:\n",
              "      spin 1s steps(1) infinite;\n",
              "  }\n",
              "\n",
              "  @keyframes spin {\n",
              "    0% {\n",
              "      border-color: transparent;\n",
              "      border-bottom-color: var(--fill-color);\n",
              "      border-left-color: var(--fill-color);\n",
              "    }\n",
              "    20% {\n",
              "      border-color: transparent;\n",
              "      border-left-color: var(--fill-color);\n",
              "      border-top-color: var(--fill-color);\n",
              "    }\n",
              "    30% {\n",
              "      border-color: transparent;\n",
              "      border-left-color: var(--fill-color);\n",
              "      border-top-color: var(--fill-color);\n",
              "      border-right-color: var(--fill-color);\n",
              "    }\n",
              "    40% {\n",
              "      border-color: transparent;\n",
              "      border-right-color: var(--fill-color);\n",
              "      border-top-color: var(--fill-color);\n",
              "    }\n",
              "    60% {\n",
              "      border-color: transparent;\n",
              "      border-right-color: var(--fill-color);\n",
              "    }\n",
              "    80% {\n",
              "      border-color: transparent;\n",
              "      border-right-color: var(--fill-color);\n",
              "      border-bottom-color: var(--fill-color);\n",
              "    }\n",
              "    90% {\n",
              "      border-color: transparent;\n",
              "      border-bottom-color: var(--fill-color);\n",
              "    }\n",
              "  }\n",
              "</style>\n",
              "\n",
              "      <script>\n",
              "        async function quickchart(key) {\n",
              "          const quickchartButtonEl =\n",
              "            document.querySelector('#' + key + ' button');\n",
              "          quickchartButtonEl.disabled = true;  // To prevent multiple clicks.\n",
              "          quickchartButtonEl.classList.add('colab-df-spinner');\n",
              "          try {\n",
              "            const charts = await google.colab.kernel.invokeFunction(\n",
              "                'suggestCharts', [key], {});\n",
              "          } catch (error) {\n",
              "            console.error('Error during call to suggestCharts:', error);\n",
              "          }\n",
              "          quickchartButtonEl.classList.remove('colab-df-spinner');\n",
              "          quickchartButtonEl.classList.add('colab-df-quickchart-complete');\n",
              "        }\n",
              "        (() => {\n",
              "          let quickchartButtonEl =\n",
              "            document.querySelector('#df-aa127c95-9ed3-49fb-b761-30b0313b0551 button');\n",
              "          quickchartButtonEl.style.display =\n",
              "            google.colab.kernel.accessAllowed ? 'block' : 'none';\n",
              "        })();\n",
              "      </script>\n",
              "    </div>\n",
              "\n",
              "    </div>\n",
              "  </div>\n"
            ],
            "application/vnd.google.colaboratory.intrinsic+json": {
              "type": "dataframe",
              "variable_name": "df",
              "summary": "{\n  \"name\": \"df\",\n  \"rows\": 42786,\n  \"fields\": [\n    {\n      \"column\": \"URI\",\n      \"properties\": {\n        \"dtype\": \"string\",\n        \"num_unique_values\": 42786,\n        \"samples\": [\n          \"<http://dbpedia.org/resource/Tom_Bancroft>\",\n          \"<http://dbpedia.org/resource/Bart_Zeller>\",\n          \"<http://dbpedia.org/resource/Caitlin_Morrall>\"\n        ],\n        \"semantic_type\": \"\",\n        \"description\": \"\"\n      }\n    },\n    {\n      \"column\": \"name\",\n      \"properties\": {\n        \"dtype\": \"string\",\n        \"num_unique_values\": 42785,\n        \"samples\": [\n          \"Tom Bancroft\",\n          \"James Holt (scholar)\",\n          \"Chen Tze-chung\"\n        ],\n        \"semantic_type\": \"\",\n        \"description\": \"\"\n      }\n    },\n    {\n      \"column\": \"text\",\n      \"properties\": {\n        \"dtype\": \"string\",\n        \"num_unique_values\": 42786,\n        \"samples\": [\n          \"tom bancroft born 1967 london is a british jazz drummer and composer he began drumming aged seven and started off playing jazz with his father and identical twin brother phil after studying medicine at cambridge university he spent a year studying composition and arranging at mcgill university in montreal canada qualifying as a doctor in 1992 he then worked as a jazz musician and composer supporting his music income with locum work as a hospital doctor until 1998 when he began starting music related companies he is married to singer gina rae and has two children sam and sophie in 2004 he received the creative scotland awardin 1998 he launched caber music with support from the national lottery fund which went on to release over thirty cds over the next seven years to critical acclaim including two bbc jazz awards for best cd and numerous album of the year placings he has subsequently started the company abc creative music with his twin brother phil bancroft which develops creative music education resources which are now being used in more than 500 schools in scotlandas a drummer he has studied with jo morello joey baron and andrew cyrille and played with many musicians including sun ra joakim milder charlie mariano hamiett bluiett liane carroll oliver lake george colligan david berkman tommy smith julian argelles emil vicklicky martin taylor sheila jordan shooglenifty karen mathieson reid anderson billy jenkins bill wells geri allen mr mcfalls chamber and martyn bennetthe is currently the drummer with the dave milligan trio the chick lyall trio and kevin mackenzies vital signs the laura macdonald quartet and octet and plays in an improvising duo with the italian guitarist enzo roccohe is drummer and coleader of trio aab whose first album cold fusion was named an album of 1999 by bbc radio 3 and whose second album wherever i lay my home thats my hat was an album of 2001 in the guardian and picked in a list of 100 essential all time jazz albums by mojo magazine in 2001 they also released stranger things happen at c in 2002 reactivated in 2011 trio aab performed at the delhi jazz festivalas a band leader and composer he has led orchestro interrupto formerly the tom bancroft orchestra a contemporary jazz big band producing the album pieology in 1998 many festival performances a uk tour and a live concert broadcast on bbc radio 3 in 2004 the band toured the uk with geri allen and the tour was broadcast on bbc radio 3 and received five star reviews in the guardian and the scotsman and was voted jazz gig of the year in manchesters city limits and londons time out magazines orchestri interrupto released a cd in 2009 of the music from the geri allen tour with chick lyall on piano entitled the ballad of linda crawford bancroft has also composed for smaller groups including the orange ear ensemble octet and kilt couture a collaboration with french group arfi in 2006 he launched the new tom bancroft 6 pack as well as a spinoff childrens focussed band from the orchestra called kidsamonium which premiered at the gateshead international jazz festival at the sage gateshead and also at the cheltenham jazz festival in 2006 and went on to perform all over europebancrofts compositions have been used in radio film dance television and theatre he has been commissioned by bbc scotland bbc radio 3 glasgow international jazz festival assembly direct birmingham jazz and the national youth jazz orchestra of scotland he has danced in played and composed music for life on the planets surface with kelsey michael and a case for a picnic pt2 tracing houdini and hoops hats acrobats with the choreographer ruby worthhe has led many large scale community and education projects including 150 primary school children performing at the london jazz festival 200 at perth concert hall with classical percussionist colin currie and 100 parents grandparents and children playing drums and percussion at the big stix project at the gateshead jazz festivalbancroft is an active teacher and educator from private drum students to teaching composition and leading big bands he is an apple distinguished educator he has always been active in setting up new ways to promote jazz and improvisation he curated a series of mini festivals for uk and european musicians inside the glasgow jazz festival in the 1990s called clandemonium and europhonium he was active in setting up the scottish jazz federationin 2010 he was musical director of major dance show off kilter which played in major venues across scotland toured scotland with the dave milligan trio and premiered the band of eden malefemale big band to critical acclaimin late 2010 in his role at abc creative music bancroft launched the website abc creative music online to allow scottish schools to teach creative music by smartboard\",\n          \"barton wallace zeller born july 22 1941 is a former professional baseball catcher he played one game in major league baseball in 1970 for the st louis cardinals he recently served as manager of the joliet slammers of the frontier league but was released on september 10 2012zeller was signed by the cardinals in 1963 and spent four years in the cardinals farm system after missing the 1967 season he spent 1968 and 1969 with the lewiston broncs and arkansas travelers respectively zeller played in his only major league game on may 21 1970 against the philadelphia phillies he was inserted to catch the bottom of the ninth inning zeller never had a plate appearance but was credited with one put out on billy mccools strikeout of jim hutto zeller batted and threw righthanded his jersey number was 29 at the time of play he was 6 ft 1 in tall and weighed 185 lbzeller was released as an active player by the cardinals on june 8 but stayed on as a coach for the balance of the 1970 season he played in the minors in 1971 in the milwaukee brewers and new york yankees organizationszeller was the hitting coachthird base coach for the southern illinois miners of the frontier league an independent baseball league zeller began working for the miners in their inaugural 2007 season before coming to the miners zeller spent two seasons with the sioux falls canaries as a bench coach zeller was named as the first manager of slammers in january 2011zeller is currently managing the washington wild things of the frontier league\",\n          \"caitlin shea morrall machol born may 2 1983 is a beauty queen from burlington wisconsin who competed in the 2008 miss usa pageantmorrall who had previously competed in the miss wisconsin america system won the miss wisconsin usa 2007 title in the state pageant held at richland center on 2 september 2006 she competed in the nationally televised miss usa 2007 pageant which was broadcast live from the kodak theatre in hollywood california on march 23 2007 where she placed in top 15 this was the best finish by a contestant from wisconsin in 28 yearsin june 2006 morrall placed first runnerup in the miss wisconsin competition where she competed as miss burlington area chocolatefest she had previously placed 3rd runnerup in 2004 1st runnerup in 2003 and 2nd runnerup in 2002 morrall has held other local titles such as miss racine in 2002 miss milwaukee in 2003 and miss southern wisconsin in 2004 despite being eligible to compete in the miss america system for one more year morrall made the decision to compete in the miss wisconsin usa pageant one week before applications for the pageant closedmorrall is a 2001 graduate of burlington high school wisconsin and is a 2008 graduate of alverno college in milwaukee with a bachelor of arts degree in professional communicationcaitlin is currently the traffic reporter in the morning for wtmjtv 4\"\n        ],\n        \"semantic_type\": \"\",\n        \"description\": \"\"\n      }\n    }\n  ]\n}"
            }
          },
          "metadata": {},
          "execution_count": 5
        }
      ]
    },
    {
      "cell_type": "code",
      "source": [
        "df['name'].unique()[:10] # Displaying first 10 for brevity"
      ],
      "metadata": {
        "colab": {
          "base_uri": "https://localhost:8080/"
        },
        "id": "OtL7hM_d6ZUA",
        "outputId": "e20fb5b8-2043-4468-d51a-cb6865cf36a2"
      },
      "execution_count": null,
      "outputs": [
        {
          "output_type": "execute_result",
          "data": {
            "text/plain": [
              "array(['Digby Morrell', 'Alfred J. Lewy', 'Harpdog Brown',\n",
              "       'Franz Rottensteiner', 'G-Enka', 'Sam Henderson', 'Aaron LaCrate',\n",
              "       'Trevor Ferguson', 'Grant Nelson', 'Cathy Caruth'], dtype=object)"
            ]
          },
          "metadata": {},
          "execution_count": 6
        }
      ]
    },
    {
      "cell_type": "markdown",
      "source": [
        "## Data Cleaning"
      ],
      "metadata": {
        "id": "B_TrTRLzrBu9"
      }
    },
    {
      "cell_type": "code",
      "source": [
        "# Making a copy of 'original_column' (name) for potential later use.\n",
        "df['copied_name'] = df['name'].copy()"
      ],
      "metadata": {
        "id": "ZxOzMwhjsZDB"
      },
      "execution_count": null,
      "outputs": []
    },
    {
      "cell_type": "code",
      "source": [
        "# Create a copy of the DataFrame to store cleaned text, preserving the original.\n",
        "df_cleaned = df.copy()"
      ],
      "metadata": {
        "id": "WZ7rn43_svu_"
      },
      "execution_count": null,
      "outputs": []
    },
    {
      "cell_type": "code",
      "source": [
        "# Select the target person\n",
        "# target_names = df_cleaned['name'].sample() #random famous person\n",
        "\n",
        "target_name = \"Dave Bautista\" # --> just another 'Bautista ;)'\n",
        "target_index = df_cleaned[df['name'] == target_name].index[0]"
      ],
      "metadata": {
        "id": "kMAGaW21o4H2"
      },
      "execution_count": null,
      "outputs": []
    },
    {
      "cell_type": "code",
      "source": [
        "# Define the `clean_text` function to preprocess text strings. --> 2b-Text.Representation\n",
        "def clean_text(text):\n",
        "    text = str(text).lower()                            # Convert text to string and lowercase for normalization (2b-Text.Representation.end (1).ipynb)\n",
        "    text = re.sub(r'\\[.*?\\]', '', text)                 # Remove text within square brackets (e.g., citations)\n",
        "    text = re.sub(r'https?://\\S+|www\\.\\S+', '', text)   # Remove URLs\n",
        "    text = re.sub(r'<.*?>+', '', text)                  # Remove HTML tags\n",
        "    text = re.sub(r'[%s]' % re.escape('!\"#$%&\\'()*+,-./:;<=>?@[\\\\]^_`{|}~'), '', text)  # Remove punctuation (general text cleaning, aligns with concepts in 2b-Text.Representation.end (1).ipynb on tokenization)\n",
        "    text = re.sub(r'\\n', '', text)                      # Remove newline characters\n",
        "    text = re.sub(r'\\w*\\d\\w*', '', text)\n",
        "    return text"
      ],
      "metadata": {
        "id": "bhpTf4Zfs54h"
      },
      "execution_count": null,
      "outputs": []
    },
    {
      "cell_type": "code",
      "source": [
        "# Apply the cleaning function to the 'text' column to create 'cleaned_text'.\n",
        "df_cleaned['Overview'] = df_cleaned['text'].apply(clean_text)"
      ],
      "metadata": {
        "id": "0tg8L8X9tpu_"
      },
      "execution_count": null,
      "outputs": []
    },
    {
      "cell_type": "markdown",
      "metadata": {
        "id": "CxYSWPCsM0YU"
      },
      "source": [
        "# Natural Language Processing\n",
        "\n"
      ]
    },
    {
      "cell_type": "markdown",
      "metadata": {
        "id": "FGQCPUEuNezI"
      },
      "source": [
        "This project will give you practical experience using Natural Language Processing techniques. This project is in three parts:\n",
        "- in part 1) you will use a dataset in a CSV file\n",
        "- in part 2) you will use the Wikipedia API to directly access content\n",
        "on Wikipedia.\n",
        "- in part 3) you will make your notebook interactive\n"
      ]
    },
    {
      "cell_type": "markdown",
      "metadata": {
        "id": "IP5iaS9lNamW"
      },
      "source": [
        "## Part 1: Processing DS for NLP"
      ]
    },
    {
      "cell_type": "markdown",
      "metadata": {
        "id": "twaXGmp6OAPK"
      },
      "source": [
        "- The CSV file is available at https://ddc-datascience.s3.amazonaws.com/Projects/Project.5-NLP/Data/NLP.csv\n",
        "- The file contains a list of famous people and a brief overview.\n",
        "- The goal of part 1) is to ...\n",
        "  1. Pick one person from the list ( the target person ) and output 10 other people who's overview are \"closest\" to the target person in a Natural Language Processing sense\n",
        "  1. Also output the sentiment of the overview of the target person\n",
        "\n"
      ]
    },
    {
      "cell_type": "markdown",
      "source": [
        "### 1.1 Natural Language Processing"
      ],
      "metadata": {
        "id": "wlvP6dD33tcK"
      }
    },
    {
      "cell_type": "code",
      "source": [
        "# ----> Bag of Words\n",
        "# Perform the count transformation\n",
        "vectorizer = CountVectorizer(stop_words='english')\n",
        "bow_vec = vectorizer.fit_transform(df_cleaned['Overview'])\n",
        "bow_vec # <Compressed Sparse Row sparse matrix of dtype 'int64' with 5372283 stored elements and shape (42786, 397235)>\n",
        "# bow_vec.toarray() ---> too dense for the RAM with the .shape of things!!"
      ],
      "metadata": {
        "colab": {
          "base_uri": "https://localhost:8080/"
        },
        "id": "Gy1wIUYt34WD",
        "outputId": "dd687a9b-63bd-44db-9fb4-939e9b2dcf9a"
      },
      "execution_count": 12,
      "outputs": [
        {
          "output_type": "execute_result",
          "data": {
            "text/plain": [
              "<Compressed Sparse Row sparse matrix of dtype 'int64'\n",
              "\twith 5372283 stored elements and shape (42786, 397235)>"
            ]
          },
          "metadata": {},
          "execution_count": 12
        }
      ]
    },
    {
      "cell_type": "code",
      "source": [
        "# Perform the TF-IDF transformation - Option 1 (TfidfVectorizer)\n",
        "tf_idf_vec = TfidfVectorizer(stop_words = 'english')\n",
        "tf_idf_fame = tf_idf_vec.fit_transform(df_cleaned['Overview'])\n",
        "tf_idf_fame"
      ],
      "metadata": {
        "colab": {
          "base_uri": "https://localhost:8080/"
        },
        "id": "3tbj0CN0zzO1",
        "outputId": "fca68047-1c5d-4208-c2ea-2753c6985e99"
      },
      "execution_count": 13,
      "outputs": [
        {
          "output_type": "execute_result",
          "data": {
            "text/plain": [
              "<Compressed Sparse Row sparse matrix of dtype 'float64'\n",
              "\twith 5372283 stored elements and shape (42786, 397235)>"
            ]
          },
          "metadata": {},
          "execution_count": 13
        }
      ]
    },
    {
      "cell_type": "code",
      "source": [
        "# Get a data frame with the TF-IDF values sorted for document 0\n",
        "df = pd.DataFrame(tf_idf_fame[0].T.todense(), index=tf_idf_vec.get_feature_names_out(), columns=[\"TF-IDF\"])\n",
        "df = df.sort_values('TF-IDF', ascending=False)\n",
        "df"
      ],
      "metadata": {
        "colab": {
          "base_uri": "https://localhost:8080/",
          "height": 424
        },
        "id": "IiawcdBt2Qh5",
        "outputId": "fc6eaa6b-f68c-499e-b3ed-90f5de434417"
      },
      "execution_count": 14,
      "outputs": [
        {
          "output_type": "execute_result",
          "data": {
            "text/plain": [
              "             TF-IDF\n",
              "morrell    0.568121\n",
              "football   0.394940\n",
              "kangaroos  0.261344\n",
              "club       0.177284\n",
              "carlton    0.140973\n",
              "...             ...\n",
              "galion     0.000000\n",
              "galinsky   0.000000\n",
              "galinhas   0.000000\n",
              "galing     0.000000\n",
              "galla      0.000000\n",
              "\n",
              "[397235 rows x 1 columns]"
            ],
            "text/html": [
              "\n",
              "  <div id=\"df-f315e88d-6f7b-4ae1-a1c9-0e03be107074\" class=\"colab-df-container\">\n",
              "    <div>\n",
              "<style scoped>\n",
              "    .dataframe tbody tr th:only-of-type {\n",
              "        vertical-align: middle;\n",
              "    }\n",
              "\n",
              "    .dataframe tbody tr th {\n",
              "        vertical-align: top;\n",
              "    }\n",
              "\n",
              "    .dataframe thead th {\n",
              "        text-align: right;\n",
              "    }\n",
              "</style>\n",
              "<table border=\"1\" class=\"dataframe\">\n",
              "  <thead>\n",
              "    <tr style=\"text-align: right;\">\n",
              "      <th></th>\n",
              "      <th>TF-IDF</th>\n",
              "    </tr>\n",
              "  </thead>\n",
              "  <tbody>\n",
              "    <tr>\n",
              "      <th>morrell</th>\n",
              "      <td>0.568121</td>\n",
              "    </tr>\n",
              "    <tr>\n",
              "      <th>football</th>\n",
              "      <td>0.394940</td>\n",
              "    </tr>\n",
              "    <tr>\n",
              "      <th>kangaroos</th>\n",
              "      <td>0.261344</td>\n",
              "    </tr>\n",
              "    <tr>\n",
              "      <th>club</th>\n",
              "      <td>0.177284</td>\n",
              "    </tr>\n",
              "    <tr>\n",
              "      <th>carlton</th>\n",
              "      <td>0.140973</td>\n",
              "    </tr>\n",
              "    <tr>\n",
              "      <th>...</th>\n",
              "      <td>...</td>\n",
              "    </tr>\n",
              "    <tr>\n",
              "      <th>galion</th>\n",
              "      <td>0.000000</td>\n",
              "    </tr>\n",
              "    <tr>\n",
              "      <th>galinsky</th>\n",
              "      <td>0.000000</td>\n",
              "    </tr>\n",
              "    <tr>\n",
              "      <th>galinhas</th>\n",
              "      <td>0.000000</td>\n",
              "    </tr>\n",
              "    <tr>\n",
              "      <th>galing</th>\n",
              "      <td>0.000000</td>\n",
              "    </tr>\n",
              "    <tr>\n",
              "      <th>galla</th>\n",
              "      <td>0.000000</td>\n",
              "    </tr>\n",
              "  </tbody>\n",
              "</table>\n",
              "<p>397235 rows × 1 columns</p>\n",
              "</div>\n",
              "    <div class=\"colab-df-buttons\">\n",
              "\n",
              "  <div class=\"colab-df-container\">\n",
              "    <button class=\"colab-df-convert\" onclick=\"convertToInteractive('df-f315e88d-6f7b-4ae1-a1c9-0e03be107074')\"\n",
              "            title=\"Convert this dataframe to an interactive table.\"\n",
              "            style=\"display:none;\">\n",
              "\n",
              "  <svg xmlns=\"http://www.w3.org/2000/svg\" height=\"24px\" viewBox=\"0 -960 960 960\">\n",
              "    <path d=\"M120-120v-720h720v720H120Zm60-500h600v-160H180v160Zm220 220h160v-160H400v160Zm0 220h160v-160H400v160ZM180-400h160v-160H180v160Zm440 0h160v-160H620v160ZM180-180h160v-160H180v160Zm440 0h160v-160H620v160Z\"/>\n",
              "  </svg>\n",
              "    </button>\n",
              "\n",
              "  <style>\n",
              "    .colab-df-container {\n",
              "      display:flex;\n",
              "      gap: 12px;\n",
              "    }\n",
              "\n",
              "    .colab-df-convert {\n",
              "      background-color: #E8F0FE;\n",
              "      border: none;\n",
              "      border-radius: 50%;\n",
              "      cursor: pointer;\n",
              "      display: none;\n",
              "      fill: #1967D2;\n",
              "      height: 32px;\n",
              "      padding: 0 0 0 0;\n",
              "      width: 32px;\n",
              "    }\n",
              "\n",
              "    .colab-df-convert:hover {\n",
              "      background-color: #E2EBFA;\n",
              "      box-shadow: 0px 1px 2px rgba(60, 64, 67, 0.3), 0px 1px 3px 1px rgba(60, 64, 67, 0.15);\n",
              "      fill: #174EA6;\n",
              "    }\n",
              "\n",
              "    .colab-df-buttons div {\n",
              "      margin-bottom: 4px;\n",
              "    }\n",
              "\n",
              "    [theme=dark] .colab-df-convert {\n",
              "      background-color: #3B4455;\n",
              "      fill: #D2E3FC;\n",
              "    }\n",
              "\n",
              "    [theme=dark] .colab-df-convert:hover {\n",
              "      background-color: #434B5C;\n",
              "      box-shadow: 0px 1px 3px 1px rgba(0, 0, 0, 0.15);\n",
              "      filter: drop-shadow(0px 1px 2px rgba(0, 0, 0, 0.3));\n",
              "      fill: #FFFFFF;\n",
              "    }\n",
              "  </style>\n",
              "\n",
              "    <script>\n",
              "      const buttonEl =\n",
              "        document.querySelector('#df-f315e88d-6f7b-4ae1-a1c9-0e03be107074 button.colab-df-convert');\n",
              "      buttonEl.style.display =\n",
              "        google.colab.kernel.accessAllowed ? 'block' : 'none';\n",
              "\n",
              "      async function convertToInteractive(key) {\n",
              "        const element = document.querySelector('#df-f315e88d-6f7b-4ae1-a1c9-0e03be107074');\n",
              "        const dataTable =\n",
              "          await google.colab.kernel.invokeFunction('convertToInteractive',\n",
              "                                                    [key], {});\n",
              "        if (!dataTable) return;\n",
              "\n",
              "        const docLinkHtml = 'Like what you see? Visit the ' +\n",
              "          '<a target=\"_blank\" href=https://colab.research.google.com/notebooks/data_table.ipynb>data table notebook</a>'\n",
              "          + ' to learn more about interactive tables.';\n",
              "        element.innerHTML = '';\n",
              "        dataTable['output_type'] = 'display_data';\n",
              "        await google.colab.output.renderOutput(dataTable, element);\n",
              "        const docLink = document.createElement('div');\n",
              "        docLink.innerHTML = docLinkHtml;\n",
              "        element.appendChild(docLink);\n",
              "      }\n",
              "    </script>\n",
              "  </div>\n",
              "\n",
              "\n",
              "    <div id=\"df-9a2acb18-83cf-4b9a-993e-bb84343c2008\">\n",
              "      <button class=\"colab-df-quickchart\" onclick=\"quickchart('df-9a2acb18-83cf-4b9a-993e-bb84343c2008')\"\n",
              "                title=\"Suggest charts\"\n",
              "                style=\"display:none;\">\n",
              "\n",
              "<svg xmlns=\"http://www.w3.org/2000/svg\" height=\"24px\"viewBox=\"0 0 24 24\"\n",
              "     width=\"24px\">\n",
              "    <g>\n",
              "        <path d=\"M19 3H5c-1.1 0-2 .9-2 2v14c0 1.1.9 2 2 2h14c1.1 0 2-.9 2-2V5c0-1.1-.9-2-2-2zM9 17H7v-7h2v7zm4 0h-2V7h2v10zm4 0h-2v-4h2v4z\"/>\n",
              "    </g>\n",
              "</svg>\n",
              "      </button>\n",
              "\n",
              "<style>\n",
              "  .colab-df-quickchart {\n",
              "      --bg-color: #E8F0FE;\n",
              "      --fill-color: #1967D2;\n",
              "      --hover-bg-color: #E2EBFA;\n",
              "      --hover-fill-color: #174EA6;\n",
              "      --disabled-fill-color: #AAA;\n",
              "      --disabled-bg-color: #DDD;\n",
              "  }\n",
              "\n",
              "  [theme=dark] .colab-df-quickchart {\n",
              "      --bg-color: #3B4455;\n",
              "      --fill-color: #D2E3FC;\n",
              "      --hover-bg-color: #434B5C;\n",
              "      --hover-fill-color: #FFFFFF;\n",
              "      --disabled-bg-color: #3B4455;\n",
              "      --disabled-fill-color: #666;\n",
              "  }\n",
              "\n",
              "  .colab-df-quickchart {\n",
              "    background-color: var(--bg-color);\n",
              "    border: none;\n",
              "    border-radius: 50%;\n",
              "    cursor: pointer;\n",
              "    display: none;\n",
              "    fill: var(--fill-color);\n",
              "    height: 32px;\n",
              "    padding: 0;\n",
              "    width: 32px;\n",
              "  }\n",
              "\n",
              "  .colab-df-quickchart:hover {\n",
              "    background-color: var(--hover-bg-color);\n",
              "    box-shadow: 0 1px 2px rgba(60, 64, 67, 0.3), 0 1px 3px 1px rgba(60, 64, 67, 0.15);\n",
              "    fill: var(--button-hover-fill-color);\n",
              "  }\n",
              "\n",
              "  .colab-df-quickchart-complete:disabled,\n",
              "  .colab-df-quickchart-complete:disabled:hover {\n",
              "    background-color: var(--disabled-bg-color);\n",
              "    fill: var(--disabled-fill-color);\n",
              "    box-shadow: none;\n",
              "  }\n",
              "\n",
              "  .colab-df-spinner {\n",
              "    border: 2px solid var(--fill-color);\n",
              "    border-color: transparent;\n",
              "    border-bottom-color: var(--fill-color);\n",
              "    animation:\n",
              "      spin 1s steps(1) infinite;\n",
              "  }\n",
              "\n",
              "  @keyframes spin {\n",
              "    0% {\n",
              "      border-color: transparent;\n",
              "      border-bottom-color: var(--fill-color);\n",
              "      border-left-color: var(--fill-color);\n",
              "    }\n",
              "    20% {\n",
              "      border-color: transparent;\n",
              "      border-left-color: var(--fill-color);\n",
              "      border-top-color: var(--fill-color);\n",
              "    }\n",
              "    30% {\n",
              "      border-color: transparent;\n",
              "      border-left-color: var(--fill-color);\n",
              "      border-top-color: var(--fill-color);\n",
              "      border-right-color: var(--fill-color);\n",
              "    }\n",
              "    40% {\n",
              "      border-color: transparent;\n",
              "      border-right-color: var(--fill-color);\n",
              "      border-top-color: var(--fill-color);\n",
              "    }\n",
              "    60% {\n",
              "      border-color: transparent;\n",
              "      border-right-color: var(--fill-color);\n",
              "    }\n",
              "    80% {\n",
              "      border-color: transparent;\n",
              "      border-right-color: var(--fill-color);\n",
              "      border-bottom-color: var(--fill-color);\n",
              "    }\n",
              "    90% {\n",
              "      border-color: transparent;\n",
              "      border-bottom-color: var(--fill-color);\n",
              "    }\n",
              "  }\n",
              "</style>\n",
              "\n",
              "      <script>\n",
              "        async function quickchart(key) {\n",
              "          const quickchartButtonEl =\n",
              "            document.querySelector('#' + key + ' button');\n",
              "          quickchartButtonEl.disabled = true;  // To prevent multiple clicks.\n",
              "          quickchartButtonEl.classList.add('colab-df-spinner');\n",
              "          try {\n",
              "            const charts = await google.colab.kernel.invokeFunction(\n",
              "                'suggestCharts', [key], {});\n",
              "          } catch (error) {\n",
              "            console.error('Error during call to suggestCharts:', error);\n",
              "          }\n",
              "          quickchartButtonEl.classList.remove('colab-df-spinner');\n",
              "          quickchartButtonEl.classList.add('colab-df-quickchart-complete');\n",
              "        }\n",
              "        (() => {\n",
              "          let quickchartButtonEl =\n",
              "            document.querySelector('#df-9a2acb18-83cf-4b9a-993e-bb84343c2008 button');\n",
              "          quickchartButtonEl.style.display =\n",
              "            google.colab.kernel.accessAllowed ? 'block' : 'none';\n",
              "        })();\n",
              "      </script>\n",
              "    </div>\n",
              "\n",
              "  <div id=\"id_d416a036-945f-4c5e-9651-99a65730dbc2\">\n",
              "    <style>\n",
              "      .colab-df-generate {\n",
              "        background-color: #E8F0FE;\n",
              "        border: none;\n",
              "        border-radius: 50%;\n",
              "        cursor: pointer;\n",
              "        display: none;\n",
              "        fill: #1967D2;\n",
              "        height: 32px;\n",
              "        padding: 0 0 0 0;\n",
              "        width: 32px;\n",
              "      }\n",
              "\n",
              "      .colab-df-generate:hover {\n",
              "        background-color: #E2EBFA;\n",
              "        box-shadow: 0px 1px 2px rgba(60, 64, 67, 0.3), 0px 1px 3px 1px rgba(60, 64, 67, 0.15);\n",
              "        fill: #174EA6;\n",
              "      }\n",
              "\n",
              "      [theme=dark] .colab-df-generate {\n",
              "        background-color: #3B4455;\n",
              "        fill: #D2E3FC;\n",
              "      }\n",
              "\n",
              "      [theme=dark] .colab-df-generate:hover {\n",
              "        background-color: #434B5C;\n",
              "        box-shadow: 0px 1px 3px 1px rgba(0, 0, 0, 0.15);\n",
              "        filter: drop-shadow(0px 1px 2px rgba(0, 0, 0, 0.3));\n",
              "        fill: #FFFFFF;\n",
              "      }\n",
              "    </style>\n",
              "    <button class=\"colab-df-generate\" onclick=\"generateWithVariable('df')\"\n",
              "            title=\"Generate code using this dataframe.\"\n",
              "            style=\"display:none;\">\n",
              "\n",
              "  <svg xmlns=\"http://www.w3.org/2000/svg\" height=\"24px\"viewBox=\"0 0 24 24\"\n",
              "       width=\"24px\">\n",
              "    <path d=\"M7,19H8.4L18.45,9,17,7.55,7,17.6ZM5,21V16.75L18.45,3.32a2,2,0,0,1,2.83,0l1.4,1.43a1.91,1.91,0,0,1,.58,1.4,1.91,1.91,0,0,1-.58,1.4L9.25,21ZM18.45,9,17,7.55Zm-12,3A5.31,5.31,0,0,0,4.9,8.1,5.31,5.31,0,0,0,1,6.5,5.31,5.31,0,0,0,4.9,4.9,5.31,5.31,0,0,0,6.5,1,5.31,5.31,0,0,0,8.1,4.9,5.31,5.31,0,0,0,12,6.5,5.46,5.46,0,0,0,6.5,12Z\"/>\n",
              "  </svg>\n",
              "    </button>\n",
              "    <script>\n",
              "      (() => {\n",
              "      const buttonEl =\n",
              "        document.querySelector('#id_d416a036-945f-4c5e-9651-99a65730dbc2 button.colab-df-generate');\n",
              "      buttonEl.style.display =\n",
              "        google.colab.kernel.accessAllowed ? 'block' : 'none';\n",
              "\n",
              "      buttonEl.onclick = () => {\n",
              "        google.colab.notebook.generateWithVariable('df');\n",
              "      }\n",
              "      })();\n",
              "    </script>\n",
              "  </div>\n",
              "\n",
              "    </div>\n",
              "  </div>\n"
            ],
            "application/vnd.google.colaboratory.intrinsic+json": {
              "type": "dataframe",
              "variable_name": "df"
            }
          },
          "metadata": {},
          "execution_count": 14
        }
      ]
    },
    {
      "cell_type": "code",
      "source": [
        "# # Initialize TF-IDF Vectorizer as demonstrated in 2b-Text.Representation.end (1).ipynb and 4a-NLP.KNN.clustering.end (1).ipynb\n",
        "# tfidf_vectorizer = TfidfVectorizer(\n",
        "#     min_df=5,           # Filter out terms that appear in less than 5 documents (2b-Text.Representation.end (1).ipynb)\n",
        "#     max_df=0.8,         # Filter out terms that appear in more than 80% of documents (2b-Text.Representation.end (1).ipynb)\n",
        "#     stop_words='english', # Remove common English stop words (2b-Text.Representation.end (1).ipynb)\n",
        "#     ngram_range=(1,2)   # Include both unigrams and bigrams for richer context (2b-Text.Representation.end (1).ipynb, 4a-NLP.KNN.clustering.end (1).ipynb)\n",
        "# )\n",
        "# tfidf_matrix = tfidf_vectorizer.fit_transform(df_cleaned['cleaned_text'])\n",
        "\n",
        "# tfidf_matrix.shape"
      ],
      "metadata": {
        "id": "zrzyAjO8yW1k"
      },
      "execution_count": 15,
      "outputs": []
    },
    {
      "cell_type": "code",
      "source": [
        "# Pick one person from the list ( the target person )\n",
        "target_text = df_cleaned.iloc[target_index]['Overview']"
      ],
      "metadata": {
        "collapsed": true,
        "id": "TQj7wULcX7FF"
      },
      "execution_count": 16,
      "outputs": []
    },
    {
      "cell_type": "code",
      "source": [
        "#  K-Nearest --> 10 other people who's overview are \"closest\" to the target person\n",
        "nn = NearestNeighbors().fit(tf_idf_fame)"
      ],
      "metadata": {
        "id": "lVKU3ZXc-USV"
      },
      "execution_count": 17,
      "outputs": []
    },
    {
      "cell_type": "code",
      "source": [
        "fame_person = tf_idf_fame[target_index]\n",
        "fame_person.shape"
      ],
      "metadata": {
        "colab": {
          "base_uri": "https://localhost:8080/"
        },
        "collapsed": true,
        "id": "I8X-MYyDAyI8",
        "outputId": "46d3fefc-fe1f-4fe0-a46d-99624bfc1f3a"
      },
      "execution_count": 18,
      "outputs": [
        {
          "output_type": "execute_result",
          "data": {
            "text/plain": [
              "(1, 397235)"
            ]
          },
          "metadata": {},
          "execution_count": 18
        }
      ]
    },
    {
      "cell_type": "code",
      "source": [
        "distances, indices = nn.kneighbors(\n",
        "  X = fame_person,\n",
        "  n_neighbors = 11,\n",
        ")\n",
        "\n",
        "distances, indices"
      ],
      "metadata": {
        "colab": {
          "base_uri": "https://localhost:8080/"
        },
        "collapsed": true,
        "id": "fsdQUA5_BBlg",
        "outputId": "138f7f23-7aa7-4344-8bb4-1fa7ebaf1a26"
      },
      "execution_count": 19,
      "outputs": [
        {
          "output_type": "execute_result",
          "data": {
            "text/plain": [
              "(array([[0.        , 1.09164226, 1.09427749, 1.09709832, 1.10704627,\n",
              "         1.10878842, 1.11770999, 1.11959947, 1.12000911, 1.14675295,\n",
              "         1.14697472]]),\n",
              " array([[ 5327,  6879, 29541, 32332, 15787, 42003, 25656, 33284, 38664,\n",
              "         36932, 13862]]))"
            ]
          },
          "metadata": {},
          "execution_count": 19
        }
      ]
    },
    {
      "cell_type": "code",
      "source": [
        "for i, idx in enumerate(indices[0]):\n",
        "        if idx != target_index:  # Exclude the target person itself, as their distance to themselves is 0.\n",
        "            similarity = 1 - distances[0][i]  # Convert cosine distance to similarity score (3c-K-Nearest.Neighbors.end (1).ipynb)\n",
        "            print(f\"  {df_cleaned.iloc[idx]['name']} (Similarity Score: {similarity:.4f})\")"
      ],
      "metadata": {
        "colab": {
          "base_uri": "https://localhost:8080/"
        },
        "id": "7wPW9QYfxVyr",
        "outputId": "ea05d133-cf98-4143-da5c-17fe7b1d01ca"
      },
      "execution_count": 36,
      "outputs": [
        {
          "output_type": "stream",
          "name": "stdout",
          "text": [
            "  CM Punk (Similarity Score: -0.0916)\n",
            "  John Cena (Similarity Score: -0.0943)\n",
            "  Edge (wrestler) (Similarity Score: -0.0971)\n",
            "  Rey Mysterio (Similarity Score: -0.1070)\n",
            "  The Miz (Similarity Score: -0.1088)\n",
            "  Randy Orton (Similarity Score: -0.1177)\n",
            "  Big Show (Similarity Score: -0.1196)\n",
            "  Daniel Bryan (Similarity Score: -0.1200)\n",
            "  Beth Phoenix (Similarity Score: -0.1468)\n",
            "  Kane (wrestler) (Similarity Score: -0.1470)\n"
          ]
        }
      ]
    },
    {
      "cell_type": "code",
      "source": [
        "print(df_cleaned.iloc[idx]['name'])"
      ],
      "metadata": {
        "colab": {
          "base_uri": "https://localhost:8080/"
        },
        "id": "gyj7sLgz8Ntl",
        "outputId": "3868d439-40c8-4aef-f4e2-f398c0a4bfe8"
      },
      "execution_count": 39,
      "outputs": [
        {
          "output_type": "stream",
          "name": "stdout",
          "text": [
            "Kane (wrestler)\n"
          ]
        }
      ]
    },
    {
      "cell_type": "markdown",
      "source": [
        "### 1.3.3 Sentiment"
      ],
      "metadata": {
        "id": "Jg5KyZDsAunx"
      }
    },
    {
      "cell_type": "code",
      "source": [
        "df_cleaned.iloc[target_index]['name']"
      ],
      "metadata": {
        "colab": {
          "base_uri": "https://localhost:8080/",
          "height": 35
        },
        "id": "G5epvx1myRra",
        "outputId": "fbc55d0e-c6ce-4919-d117-0fd9f663eee8"
      },
      "execution_count": 21,
      "outputs": [
        {
          "output_type": "execute_result",
          "data": {
            "text/plain": [
              "'Dave Bautista'"
            ],
            "application/vnd.google.colaboratory.intrinsic+json": {
              "type": "string"
            }
          },
          "metadata": {},
          "execution_count": 21
        }
      ]
    },
    {
      "cell_type": "code",
      "source": [
        "sentiment = TextBlob(target_text).sentiment\n",
        "f'Sentiment for {target_name} is {sentiment}!'"
      ],
      "metadata": {
        "colab": {
          "base_uri": "https://localhost:8080/",
          "height": 53
        },
        "id": "YznQYH3B14pP",
        "outputId": "fb9f522d-49fa-4e59-a87e-6a520a420cb8"
      },
      "execution_count": 22,
      "outputs": [
        {
          "output_type": "execute_result",
          "data": {
            "text/plain": [
              "'Sentiment for Dave Bautista is Sentiment(polarity=0.13480392156862744, subjectivity=0.20735294117647057)!'"
            ],
            "application/vnd.google.colaboratory.intrinsic+json": {
              "type": "string"
            }
          },
          "metadata": {},
          "execution_count": 22
        }
      ]
    },
    {
      "cell_type": "markdown",
      "metadata": {
        "id": "SyoC6PWeN9un"
      },
      "source": [
        "## Part 2: Using Wikipedia API\n",
        "\n"
      ]
    },
    {
      "cell_type": "markdown",
      "metadata": {
        "id": "AJxfrb48N-v9"
      },
      "source": [
        "- For the same target person that you chose in Part 1), use the Wikipedia API to access the whole content of the target person's Wikipedia page.\n",
        "- The goal of Part 2) is to ...\n",
        "  1. Print out the text of the Wikipedia article for the target person\n",
        "  1. Determine the sentiment of the text of the Wikipedia page for the target person\n",
        "  1. Collect the text of the Wikipedia pages from the 10 nearest neighbors from Part 1)\n",
        "  1. Determine the nearness ranking of these 10 people to your target person based on their entire Wikipedia page\n",
        "  1. Compare, i.e. plot,  the nearest ranking from Step 1) with the Wikipedia page nearness ranking.  A difference of the rank is one means of comparison.\n",
        "\n"
      ]
    },
    {
      "cell_type": "markdown",
      "source": [
        "### 2.1 Target's Article"
      ],
      "metadata": {
        "id": "6Yh9lcbXAD4q"
      }
    },
    {
      "cell_type": "code",
      "source": [
        "# Pull out the Dave Bautista page from wikipedia - https://en.wikipedia.org/wiki/\n",
        "topic = 'Dave Bautista'\n",
        "target_index = df_cleaned[df_cleaned['name'] == topic].index[0]\n",
        "wikip = wikipediaapi.Wikipedia(user_agent = 'foobar')\n",
        "page_ex = wikip.page(topic)\n",
        "wiki_text = page_ex.text\n",
        "wiki_text"
      ],
      "metadata": {
        "colab": {
          "base_uri": "https://localhost:8080/",
          "height": 192
        },
        "id": "7unpvDudU7Ow",
        "outputId": "e4c4f596-b059-454e-bd79-b5e9ddcc1f09"
      },
      "execution_count": 43,
      "outputs": [
        {
          "output_type": "execute_result",
          "data": {
            "text/plain": [
              "'David Michael Bautista Jr. (born January 18, 1969) is an American actor and retired professional wrestler. Regarded as one of the most prolific professional wrestlers of his generation, he rose to fame for his multiple stints in WWE between 2002 and 2019.\\nBautista began his wrestling career in 1999 and signed with WWE (then WWF) in 2000. From 2002 to 2010, he gained fame under the ring name Batista, initially as a member of Evolution. He would go on to win the WWE Championship twice, the World Heavyweight Championship four times (with his first reign remaining the longest in history at 282 days), the World Tag Team Championship three times (twice with Ric Flair and once with John Cena), and the WWE Tag Team Championship once (with Rey Mysterio). He also won the 2005 and 2014 Royal Rumble matches and subsequently headlined WrestleMania 21 and WrestleMania XXX, with the former being one of the top five highest-grossing PPV events in wrestling history. He retired from professional wrestling after WrestleMania 35 in 2019.\\nAs an actor, Bautista is known for portraying Drax in the Marvel Cinematic Universe (2014–2023) and Rabban in Dune (2021) and its 2024 sequel. Bautista has additionally starred in Spectre (2015), Blade Runner 2049 (2017), Final Score, Master Z: Ip Man Legacy (both 2018), Army of the Dead (2021), Glass Onion: A Knives Out Mystery (2022), Knock at the Cabin, and Parachute (both 2023).\\n\\nEarly life\\nDavid Michael Bautista Jr. was born in Washington, D.C., on January 18, 1969, the son of Donna Raye (née Mullins) and hairdresser David Michael Bautista. His mother is of Greek descent, while his father was born to Filipino immigrants. His paternal grandfather served in the Philippine military, worked as a taxi driver and barber, and held other jobs to feed the family. Bautista\\'s mother later came out as a lesbian. He has said that he lived in poverty and had a hard life which included exposure to violent crime at an early age. Before reaching the age of nine, two bodies had been found on his front lawn and another one nearby. As young as age 13, he had begun stealing cars. By age 17, he was estranged from his parents and living on his own. However, he later said, \"I am proud of my parents. They are good, honest, hard-working folks. They taught me the values of working hard.\"\\n\\nBautista worked as a nightclub bouncer until he was arrested after a fight that left two patrons injured, one of whom was knocked unconscious. After a trial, he was sentenced to one year of probation. He worked as a lifeguard before deciding to pursue a career in bodybuilding, which he credits with saving his life. At the age of 30, after having a breakdown from the shame he felt for having to ask a co-worker to lend him money so he could buy Christmas presents for his children, he saw how lucrative a career in professional wrestling could be and decided to pursue it.\\n\\nProfessional wrestling career\\nTraining and early career (1999–2000)\\nBautista tried out at World Championship Wrestling\\'s Power Plant, where trainer DeWayne Bruce told him he would never make it in the wrestling business. He then went to the World Wrestling Federation (WWF), who advised him to train with Afa Anoaʻi at the Wild Samoan Training Center, where he trained and later competed in Anoaʻi\\'s World Xtreme Wrestling (WXW) promotion. He wrestled his debut match under the ring name Khan on October 30, 1999, less than three months before his 31st birthday. He also trained with Marrese Crump in Muay Thai and Eskrima.\\n\\nWorld Wrestling Federation / World Wrestling Entertainment / WWE (2000–2010)\\nOhio Valley Wrestling (2000–2002)\\nUpon signing with the WWF in 2000, Bautista was sent to Ohio Valley Wrestling (OVW), a WWF developmental territory. He made his OVW debut later that year under the ring name Leviathan, where he immediately joined forces with Synn. As a member of the \"Disciples of Synn\" stable, he went undefeated until being beaten at Christmas Chaos by Kane with help from Stone Cold Steve Austin. He later won the OVW Heavyweight Championship from \"The Machine\" Doug Basham before losing the belt to The Prototype. A few months later, Bautista left OVW after he was promoted to WWE\\'s main roster.\\n\\nEarly storylines (2002–2003)\\nWhile still in OVW, Bautista began appearing on non-televised WWE events. He began his televised WWE career on May 9, 2002, on an episode of SmackDown! as Deacon Batista, a heel enforcer for Reverend D-Von. He made his WWE in-ring debut in a tag team match teaming with D-Von against Faarooq and Randy Orton, pinning Orton. Over several weeks, Orton tried to beat D-Von and Batista with different partners, but ultimately lost each time. Batista suffered his first loss in a match against Rikishi after D-Von accidentally punched him, allowing Rikishi to take advantage and pin Batista. Batista and D-Von argued over the forthcoming weeks, with Batista eventually turning on D-Von. On the November 14 episode of SmackDown!, Batista defeated D-Von to end their feud. After splitting with D-Von, he was assigned to the Raw brand and was renamed Batista. He aligned himself with Ric Flair and feuded with Kane, whom he defeated at Armageddon on December 15.\\n\\nEvolution (2003–2005)\\nIn January 2003, Batista joined Triple H, Ric Flair and Randy Orton to form the heel stable Evolution. Batista, however, was sidelined for much of 2003 after he tore his right triceps muscle at a Raw live event in a tag team match alongside Orton against The Dudley Boyz. While training after the injury, Batista re-tore his triceps, extending his stay on the sidelines. Batista made his return on the October 20 episode of Raw, interfering in a match between Goldberg and Shawn Michaels. At Armageddon on December 14, Batista and Ric Flair became the World Tag Team Champions after winning a Tag Team Turmoil match, while Triple H won the World Heavyweight Championship and Randy Orton the Intercontinental Championship. Batista and Flair held the titles until the February 16, 2004, episode of Raw, when they were defeated by Booker T and Rob Van Dam. They later defeated Booker T and Van Dam on the March 22 episode of Raw to regain the titles before losing them to Chris Benoit and Edge on the April 19 episode of Raw.\\nIn late 2004, the relationship between Batista and Triple H began to deteriorate in kayfabe. After a loss to Chris Jericho, Triple H verbally insulted Batista. Batista teased leaving Evolution that night, but declared that he was still part of Evolution and that they tricked everyone. Despite this ploy, Batista began behaving more like a face over the next few weeks in comparison to Evolution\\'s heel tactics. One particular moment saw Batista express disgust as Triple H and Ric Flair boasted about how they had intimidated and/or beat up Jim Ross, Danny Hodge, and Stacy Keibler. Regardless, he continued to show his loyalty to Triple H and Evolution by running down to the ring and assisting them in matches.\\nAs 2005 began, Triple H realized the possibility of Batista becoming a threat to his World Heavyweight Championship. Triple H suggested that he not enter the Royal Rumble on January 30, claiming that it would be selfish of him to do so, and to simply focus on Triple H retaining the title. Batista entered anyway and went on to win the Rumble earning the right to participate in the main event of WrestleMania 21 on April 3 against the World Champion of his choice. On the February 14 episode of Raw, in an attempt to persuade Batista to challenge WWE Champion John \"Bradshaw\" Layfield (JBL) and challenger John Cena in a triple-threat match rather than him, Triple H concocted a scheme to have Batista run over in a limousine resembling the one used by JBL. Initially, Batista did not want help from Evolution and wanted to confront JBL by himself. Triple H insisted that Evolution stick together and accompanied Batista anyway, saving him from the oncoming vehicle. Batista became aware of the plot while sneakily eavesdropping on fellow Evolution members and signed a contract guaranteeing him a match with the World Heavyweight Champion Triple H at WrestleMania 21, thus leaving Evolution and officially turning face. Batista initially pretended that he would sign with SmackDown!, giving Triple H and Flair the \"thumbs up\", but turned it into a \"thumbs down\" before attacking the pair. He emphasized his departure by powerbombing Triple H through the table used for the contract signing.\\n\\nWorld Heavyweight Champion (2005–2008)\\nBatista won the World Heavyweight Championship on April 3 by defeating Triple H in the main event of WrestleMania 21. WrestleMania 21 received 1.09 million pay-per-view buys worldwide – the then-highest ever number of buys for any non-boxing pay-per-view. Batista\\'s match with Triple H was described by sports journalist Dave Meltzer as \"the peak of one of [WWE\\'s] best storylines in years\". Batista won a rematch with Triple H for the World Heavyweight Championship at Backlash on May 1. After Batista retained his title against Edge on the May 23 episode of Raw, he was betrayed by Ric Flair, who helped Triple H viciously attack Batista as Triple H challenged Batista to a Hell in a Cell match at Vengeance on June 26. Batista won the match at Vengeance, retaining his title yet again. With this win, Batista became the first wrestler to pin Triple H in a Hell in a Cell match.\\nOn the June 30 episode of SmackDown!, Batista was drafted to the SmackDown! brand as the last pick in the 2005 WWE Draft Lottery, making a surprise appearance to thwart John \"Bradshaw\" Layfield (JBL), who was celebrating his victory in a six-man elimination match to crown the inaugural \"SmackDown! Champion\". This resulted in Batista bringing the World Heavyweight Championship to SmackDown!. JBL defeated Batista at The Great American Bash on July 24 by disqualification after the referee saw Batista use a steel chair. They had a rematch at SummerSlam on August 21 in a No Holds Barred match in which Batista pinned JBL. The feud culminated in a Texas Bull Rope match on the September 9 episode of SmackDown! with Batista retaining his championship. Soon after retaining the title in a feud with Eddie Guerrero at No Mercy on October 9, WWE.com reported that Batista suffered a muscle tear in his back at the taping for the November 11 episode of SmackDown! due to a double chokeslam from Big Show and Kane. Plans had been made for Batista to defend the title in a Triple Threat match with Eddie Guerrero and Randy Orton on the November 18 episode of SmackDown!, but the match did not take place as Guerrero unexpectedly died on November 13, the date of the taping. Batista paid homage to Guerrero during the Raw and SmackDown! tribute shows dedicated to Guerrero\\'s memory.\\nBatista led Team SmackDown! against Team Raw in an inter-brand feud before Survivor Series on November 27. The feud saw Big Show and Kane chokeslamming Batista several more times in the weeks leading up to Survivor Series in an on-camera explanation for Batista\\'s injury. Batista ultimately helped his team win the match at Survivor Series. After Batista saved Rey Mysterio from Big Show and Kane on the December 2 episode of SmackDown!, leading to a match with Mysterio teaming with Batista to face Big Show and Kane at Armageddon on December 18.\\nOn the December 16 episode of SmackDown!, Batista and Mysterio defeated WWE Tag Team Champions MNM to win the titles in a match they dedicated to Eddie Guerrero, and thus Batista became a double champion. After this, the clash with Big Show and Kane at Armageddon turned into a Champions vs. Champions encounter. Batista and Mysterio lost to Big Show and Kane at Armageddon. Two weeks later on the December 30 episode of SmackDown!, MNM defeated Batista and Mysterio after help from the returning Mark Henry to regain the WWE Tag Team Championship. During the interference, Henry attacked Batista, and performed his World\\'s Strongest Slam. The teams met again in a steel cage match on the January 6, 2006 episode of SmackDown! that Henry also became involved in, and Batista and Mysterio were defeated again. Batista tore his right triceps during a match with Mark Henry at a house show on January 6, forcing him to vacate the World Heavyweight Championship at the SmackDown! tapings on January 13, two days after surpassing Triple H\\'s previous mark of 280 days for longest reigning champion. In his book, Batista Unleashed, Batista said that he believed that Henry was \"careless\" during their match as he never gave Batista any warning that the move was coming. Batista went on to have successful surgery on his arm on January 12.\\n\\nBatista made an appearance at No Way Out on February 19 and told the crowd that once his arm had healed he would return to regain the World Heavyweight Championship. At WrestleMania 22 on April 2, he interrupted a Randy Orton interview, putting SmackDown! on notice that the World Heavyweight Championship would return to him by WrestleMania 23.\\nBatista made his official return during the July 7 episode of SmackDown! immediately calling out and entering into a feud with Mark Henry. At Saturday Night\\'s Main Event XXXIII, Batista won a six-man tag match with teammates Rey Mysterio and Bobby Lashley, defeating World Heavyweight Champion King Booker, Finlay, and Mark Henry. Henry was legitimately injured and was ruled out of the scheduled match between the two at The Great American Bash on July 23, thus further delaying a potential feud between the two after being delayed by Batista\\'s initial injury.\\nBatista put out an open challenge to replace the injured Henry, which was answered by Mr. Kennedy. At The Great American Bash, Batista lost this match via disqualification for failing to stop choking Kennedy into the turnbuckle with his boot, but continued to attack Kennedy resulting in a laceration on his forehead so severe that it exposed his cranium and required more than 20 stitches to close. Batista lost another match with Kennedy via count out in a rematch on the July 28 episode of SmackDown! before finally defeating Kennedy by pinfall on the August 4 episode of SmackDown!.\\nBatista faced Big Show for the ECW World Championship on the August 1 episode of ECW, winning the match by disqualification but failing to win the championship as titles cannot change hands by disqualification. He then set his sights on King Booker\\'s World Heavyweight Championship, with the two facing in a match for the title at 2006 SummerSlam on August 20. However, Batista also won this match by disqualification. During a commercial shoot for the SummerSlam pay-per-view, Booker T and Batista reportedly got into a legitimate fistfight, with Booker T accusing Batista of considering himself superior to the rest of the roster due to his quick climb to main-event status. It was also reported that some wrestlers on the SmackDown brand agreed with Booker T. Batista continued his pursuit of the championship, failing to capture it once again in a fatal-four way at No Mercy on October 8 also involving Finlay and Bobby Lashley, before finally defeating King Booker to regain the World Heavyweight Championship at Survivor Series on November 26. The following month at Armageddon on December 17, Batista teamed with John Cena to defeat King Booker and Finlay, putting an end to the rivalry.\\n\\nGoing into 2007, Batista began a short feud with Mr. Kennedy over the championship. Batista retained the championship over Kennedy at the Royal Rumble on January 28. Batista\\'s next challenger was The Undertaker, the winner of the Royal Rumble match. The two formed a reluctant alliance to face John Cena and Shawn Michaels at No Way Out on February 18, which they lost after Batista turned on The Undertaker midway through the match. At WrestleMania 23 on April 1, Batista lost the World Heavyweight Championship to The Undertaker. They continued their feud with a Last Man Standing match at Backlash on April 29, which ended in a draw. The two wrestled again in a Steel Cage Match on the May 11 episode of SmackDown!, which also ended in a draw. Following the match, Edge took advantage and won the title from The Undertaker by cashing in his Money in the Bank contract. Afterward, Batista challenged Edge unsuccessfully for the World Heavyweight Championship at Judgment Day on May 20, One Night Stand on June 3 (in a Steel Cage Match), and Vengeance: Night of Champions on June 24 (in a Last Chance match). The loss at Vengeance stipulated that Batista could no longer get another chance at the World Heavyweight Championship while Edge remained champion.\\nBatista accepted an open challenge from The Great Khali at The Great American Bash on July 22. Edge relinquished the title due to an injury the week before The Great American Bash, and Khali became the new World Heavyweight Champion, winning a Battle Royal and eliminating Batista. Batista and Kane, Edge\\'s title opponent, faced Khali at The Great American Bash in a Triple Threat match where Khali retained the title. Batista received a disqualification victory against Khali at SummerSlam on August 26 after Khali used a steel chair, thus Khali retained the title again. Batista finally claimed his third World Heavyweight Championship after eight consecutive attempts, by defeating Khali in a triple threat match that included Rey Mysterio at Unforgiven on September 16. His first challenge was from The Great Khali in a Punjabi Prison Match at No Mercy on October 7 where Batista retained his title. He won the match by leaping from the inner bamboo structure to the outer one, shortening his escape route and beating Khali to the floor.\\nAfter the return of The Undertaker at Unforgiven, the duo reignited their feud at Cyber Sunday on October 28 where the fans chose Stone Cold Steve Austin as the Special Guest Referee. Batista pinned The Undertaker after two Batista Bombs. The feud continued with a Hell in a Cell match at Survivor Series on November 18. During the match, Edge returned and interfered by giving The Undertaker a con-chair-to. He then pulled an unconscious Batista on top of The Undertaker for the pinfall to retain the World Heavyweight Championship. At Armageddon on December 16, Edge won a Triple Threat match, alongside The Undertaker for Batista\\'s World Heavyweight Championship.\\n\\nBatista appeared in the Royal Rumble on January 27, 2008 and made the final three before being eliminated by Triple H. At No Way Out on February 17, he was part of the SmackDown Elimination Chamber Match and eliminated Big Daddy V, but was last eliminated by The Undertaker. At WrestleMania XXIV on March 30, he defeated Umaga in an interpromotional match. After Shawn Michaels defeated Ric Flair in a Career Threatening match (forcing Flair to retire) later that night, Batista began a feud with Michaels, calling him selfish and egotistical. The two faced off at Backlash on April 27 with Chris Jericho as the special guest referee. Michaels won after faking a knee injury and performing Sweet Chin Music. Batista then defeated Michaels at One Night Stand on June 1 in a stretcher match, thus ending their feud.\\nOn the June 23 episode of Raw, Batista was drafted to the Raw brand during the 2008 WWE Draft. After failing to win the World Heavyweight Championship from Edge at Night of Champions on June 29, Batista attacked Edge the following night on Raw, allowing CM Punk to cash in his Money in the Bank contract on Edge and win the World Heavyweight Championship. This set up a title match between Batista and Punk at The Great American Bash on July 20 which ended in a double disqualification after Kane interfered and attacked both men. The following night on Raw, Batista and Punk had a rematch, Batista won by disqualification after he was attacked by JBL. As John Cena came to the ring to fight JBL, he inadvertently punched Batista as JBL ducked. This started a program between Cena and Batista leading up to SummerSlam on August 17, for which a match was made official by Raw general manager Mike Adamle. This was the first time a match between the two would occur as they had each been on separate brands since they both debuted in 2002. On the August 4 episode of Raw, Batista and Cena won the World Tag Team Championship from Cody Rhodes and Ted DiBiase, making Batista a three-time World Tag Team Champion. The next week on Raw, Batista and Cena lost the World Tag Team Championship back to Rhodes and DiBiase. After losing the titles, the two had to be separated by multiple officials. Batista defeated Cena at SummerSlam, legitimating injuring Cena\\'s neck in the process. \\nBatista then competed in the World Heavyweight Championship championship scramble match at Unforgiven on September 7 and was eight seconds away from being a four-time world champion, but Chris Jericho snuck in and pinned Kane in the waning seconds. On October 26 at Cyber Sunday on October 26, Batista defeated Jericho for his fourth World Heavyweight Championship in a match in which Stone Cold Steve Austin was voted in as the special guest referee. Batista\\'s reign, however, only lasted eight days when Jericho won the title back in a Steel Cage match on the 800th episode of Raw on November 3.\\nBatista then entered a feud with former Evolution partner, Randy Orton; at Survivor Series on November 23, Batista led a team of himself, CM Punk, Kofi Kingston, Matt Hardy, and R-Truth to face the team of Randy Orton, Shelton Benjamin, William Regal, Cody Rhodes, and Mark Henry. Orton\\'s team won with Orton pinning Batista, winning the match for his team. His feud with Orton continued up to Armageddon on December 14 where Batista defeated Orton. On the December 15 episode of Raw, Batista was put into a handicap match against The Legacy with John Cena as his partner. During the match, Orton struck Batista with a punt to the head. Batista was knocked out and put out of action indefinitely due to a storyline head injury. WWE.com later reported that Batista elected to undergo surgery to repair a hamstring tear. His hamstring was injured at SummerSlam, in the same match that John Cena was forced out of action with a neck injury. He was expected to be out of action for six to eight months.\\n\\nWWE Champion (2009–2010)\\nBatista returned on the Raw after WrestleMania 25, to save Triple H, Shane McMahon, and Vince McMahon from The Legacy (Randy Orton, Cody Rhodes and Ted DiBiase). Vince McMahon then scheduled Batista to team up with WWE Champion Triple H and Shane McMahon to face The Legacy at Backlash. During the match, Batista had brought out a chair, but Triple H tried to stop him, so they would not get disqualified (which would have cost Triple H the championship). This distraction, however, cost Triple H his championship, after he lost it to Orton. The following night on Raw, Batista won a singles match against Big Show due to a distraction by John Cena, to become the number one contender for the WWE Championship at Judgment Day, which he won by disqualification. Batista went on to defeat Orton in a rematch at Extreme Rules in a Steel Cage match to capture his first WWE Championship. However, on the June 8 episode of Raw, Batista was to vacate the title due to a staged brutal attack by Orton and the Legacy. It was later revealed that Batista had suffered a legitimate torn left biceps similar to what he suffered in 2006. Legacy was given on-screen credit for his injury.\\nBatista returned on the September 14 episode of Raw with his arm still in a vice. Randy Orton, assuming Batista was retiring, claimed that he ended Batista\\'s career. Batista then removed his arm vice, which turned to be fake, and attacked Orton. He then stated that he would not retire, but move to SmackDown instead. Later that night, he defeated Orton in a no-holds barred match which was to be his last match on Raw.\\nFollowing his return to SmackDown, Batista defeated Unified WWE Tag Team Champions Jeri-Show (Chris Jericho and Big Show) in singles competition. These two victories culminated in a tag team title match against Jeri-Show with his partner Rey Mysterio on October 4 at Hell in a Cell, which Jeri-Show won. That same month at Bragging Rights, Batista was unsuccessful in winning the World Heavyweight Championship in a Fatal Four-Way match including CM Punk, Rey Mysterio, and champion The Undertaker. \\nDuring the match, Mysterio broke up Batista\\'s pin on The Undertaker costing him the match and the title. After the match (which The Undertaker won), Batista and Mysterio appeared to patch things up, but Batista said he was tired of coming so close only to be stabbed in the back and told Mysterio he was going to rip his head off. Batista proceeded to brutally attack Mysterio, turning heel for the first time since 2005. \\nBatista faced Mysterio on November 22 at Survivor Series, where Batista won via referee stoppage after delivering three Batista Bombs to Mysterio. Batista defeated Mysterio again in a street fight on the December 11 episode of SmackDown. On December 13 at TLC: Tables, Ladders & Chairs, Batista faced The Undertaker for the World Heavyweight Championship in a Chairs match. Batista initially won the match and the title, but SmackDown General Manager Theodore Long reversed the decision because Batista had hit Undertaker with a low blow behind the referee\\'s back. The match was restarted with The Undertaker winning and retaining the championship. Five days later, Batista lost to Mysterio in a number one contenders match for the World Heavyweight Championship; Mysterio\\'s title match against The Undertaker on the December 25 episode of SmackDown ended as a no-contest after interference from Batista.\\nAt the Royal Rumble in January 2010, Batista entered the Royal Rumble match at number 30, but failed to win as he was eliminated by John Cena. Batista then became involved in WWE Chairman Vince McMahon and Bret Hart\\'s rivalry by assisting McMahon in attacking Hart; John Cena attempted to save Hart, but was assaulted by Batista. On February 21 at Elimination Chamber, as payment for Batista attacking Hart, McMahon allowed Batista to face Cena for the WWE Championship immediately after Cena won the title in an Elimination Chamber match. Batista won the match and thus his second WWE Championship, which resulted in Batista moving back to Raw. On March 28 at WrestleMania XXVI, Batista lost the WWE Championship to John Cena in a rematch, ending his reign at 35 days. Batista received his rematch for the title in a Last Man Standing match on April 25 at Extreme Rules, but was defeated by Cena after Cena duct-taped his legs around a ring post, preventing him from standing up. Batista and Cena faced off once again for the WWE Championship on May 23 at Over the Limit, but he failed again to regain the title from Cena in an \"I Quit\" match, quitting as Cena threatened to give him the Attitude Adjustment off the roof of a car. Cena did so anyway, throwing Batista off of the car and through the stage below.\\nThe following night on Raw, Batista opened the show in a wheelchair and claimed that he would be pursuing legal action against Cena and WWE for his injuries (which he revealed in 2014 to be a legitimate compression fracture of his L1 spine). His promo was interrupted by new Raw General Manager Bret Hart, who ordered he face an injured Randy Orton to qualify for a shot at WWE Championship against Cena again at the new Fatal 4-Way pay-per-view. Batista refused and quit the company after Hart named Orton winner by forfeit. His profile was subsequently moved to the alumni page on WWE\\'s website. He later said in an interview that he left WWE because he \"did not like the direction the company was going in\".\\n\\nReturn to WWE (2014)\\nBatista made his return to WWE on the January 20, 2014, episode of Raw. Despite returning as a face and winning the Royal Rumble, the live crowd reacted negatively towards Batista\\'s win, as Daniel Bryan did not take part in the match. Despite a positive reaction initially upon his return, the fans in attendance at the Royal Rumble rejected Batista in favor of Bryan and continued to boo him after Roman Reigns was last eliminated. After the show went off the air, Batista mocked Bryan and gestured his middle finger at the crowd. According to Batista, he thought a return as a face was a bad idea because of the fans being so invested in Daniel Bryan\\'s \"Yes Movement\" storyline. At the Elimination Chamber event and on the February 24 episode of Raw, Batista was heavily booed by the fans during matches against Alberto Del Rio, thus resulting in Batista turning heel on the February 28 episode of SmackDown. The main event of WrestleMania XXX, originally Batista versus Randy Orton for the WWE World Heavyweight Championship, was changed to a triple threat match after Bryan defeated Triple H at WrestleMania. At WrestleMania, Bryan forced Batista to submit to win the title.\\n\\nThe next night on Raw, Batista and Orton teamed together to face The Usos for the WWE Tag Team Championship, but the match ended in a double count out. Later that night, Batista and Orton, along with Kane, attacked Bryan before he was set to defend his title against Triple H. Before Triple H could defeat Bryan, The Shield interrupted by spearing Triple H and taking out Batista, Orton and Kane, causing the match to end in a no-contest. On the April 14 episode of Raw, Batista, Triple H and Randy Orton came down to the ring to attack The Shield after their 11-on-3 handicap match, using the name and the theme of Evolution. At both Extreme Rules and Payback, Evolution lost to The Shield. On the June 2 episode of Raw, Batista quit WWE after Triple H denied him a shot at the WWE World Heavyweight Championship. Batista legitimately quit the WWE due to creative differences soon after.\\n\\nSecond return to WWE (2018–2019)\\nOn October 16, 2018, Batista reunited with the rest of Evolution for an appearance on SmackDown\\'s 1000th episode, where Batista teased a match with Triple H, as Triple H had never beaten Batista in singles competition. The storyline between them started on February 25, 2019, when Batista viciously attacked Ric Flair and repeatedly demanded \"give me what I want\" to Triple H, which became a popular phrase associated with Batista. At WrestleMania 35, Batista and Triple H would face each other in a No Holds Barred with their careers on the line, where Batista lost after interference from Ric Flair. The next day, Batista announced his retirement from professional wrestling.\\nOn December 9, 2019, WWE officially announced that Batista would be inducted into the WWE Hall of Fame as a part of the Class of 2020. The event was postponed due to the COVID-19 pandemic and it was announced that the class of 2020 would be inducted alongside the class of 2021 at the 2021 event. Prior to the event, however, he was removed from the list. He tweeted to confirm his removal, citing previous obligations as the reason why he could not attend the 2021 event. He also said that WWE honored his request to induct him at a future ceremony.\\n\\nProfessional wrestling style and persona\\nUpon his return to WWE in 2014, Batista was heavily booed by the crowd after winning the Royal Rumble, despite playing a heroic character. In an interview with WWE.com, he said of the crowd reaction, \"It was weird. It wasn\\'t like a normal response. It was almost like a personal attack. It had to do with factors that were not in my control, factors and things that were going on in the company with other people, stuff that really had nothing to do with me. To me, it was a little frustrating, a little confusing, and, you know, I don\\'t want to say I completely took it personal, but I did somewhat.\" The fan reaction caused storyline changes, with Batista turning into a villainous character. Wrestling legend Mick Foley opined that Batista was \"simply the wrong guy in the wrong place at the wrong time. Unfortunately for Dave, his return happened to be part of the perfect storm – the night WWE fans wanted Daniel Bryan – WWE Universe to walk out as the winner of the 2014 #RoyalRumble ...and would settle for nothing less.\"\\nBatista was declared the 50th greatest wrestling villain of all time by a WWE article in 2012. WWE has also ranked him as the second best World Heavyweight Champion of all time. WWE advertised Batista as being 6 ft 6 in tall and weighing 290 pounds, both of which are different from his real height of 6 ft 4 in and unknown weight.\\n\\nMixed martial arts career\\nAfter leaving WWE, Bautista attended Strikeforce: Los Angeles on June 16, 2010, having previously registered an interest in competing in MMA. Five days later, he said that he would be embarking on an MMA career. He became a brown belt in Brazilian jiu-jitsu under Cesar Gracie. Bautista and Strikeforce agreed on a price and were negotiating a contract. However, in April 2011, Bautista stated that negotiations fell through when the organization was bought by the Zuffa company.\\nBautista was expected to make his MMA debut against Rashid Evans on October 6, 2012, at CES MMA: Real Pain in Providence, Rhode Island. However, on October 1, 2012, Evans was forced out of the bout after a probation violation landed him back in jail. Evans was replaced by journeyman and 40-fight veteran Vince Lucero. Bautista went on to win the fight by technical knockout (TKO) at 4:05 in the first round.\\n\\nMixed martial arts record\\nActing career\\nEarly career (2006–2013)\\nBautista has acted in several television shows as both himself and his wrestling character. He guest starred in the eighth episode of season 6 of Smallville as Aldar, an extraterrestrial who escaped from the Phantom Zone and who sucks the bones out of people for nourishment. In June 2009, he made a cameo appearance as himself on the Australian soap opera Neighbours. In 2010, he appeared in an episode of Chuck, and also made a cameo appearance in Relative Strangers. He starred in the 2010 action film Wrong Side of Town. Bautista appeared as the villainous Brass Body in the Universal Studios film The Man with the Iron Fists.\\n\\nBreakthrough (2014–2021)\\nHe played Drax the Destroyer in the 2014 Marvel Studios film Guardians of the Galaxy, which was a critical and commercial success. He played Mr. Hinx in the James Bond film Spectre (2015), and starred as the villain Tong Po in the reboot of the martial arts film Kickboxer. He was widely praised for his supporting role in Blade Runner 2049 (2017). He reprised his role as Drax in Guardians of the Galaxy Vol. 2 (2017), Avengers: Infinity War (2018), and Avengers: Endgame (2019).\\nIn 2018, Bautista joined his castmates in support of Guardians of the Galaxy director James Gunn after Gunn\\'s firing over old tweets joking about pedophilia and rape. He called Gunn\\'s firing \"nauseating\" and declared that he would ask to be recast if Disney, the parent company of Marvel Studios, did not use Gunn\\'s script for Guardians of the Galaxy Vol. 3. Gunn was reinstated as the film\\'s director in March 2019. In May 2021, he confirmed that the upcoming Guardians of the Galaxy Vol. 3 would be his final appearance as Drax.\\n\\nDiversification (2021–present)\\nBautista starred in Army of the Dead (2021). He had a villainous role in Dune, a film adaptation of the novel of the same name by Frank Herbert, which was released to critical and commercial success. He starred in M. Night Shyamalan\\'s horror film Knock at the Cabin (2023). He appeared in Glass Onion: A Knives Out Mystery as Duke and in the fantasy-adventure film In the Lost Lands with Milla Jovovich, directed by Paul W. S. Anderson.\\n\\nOther media\\nBautista appeared on the covers of the April 2005 Flex, and Muscle & Fitness for September 2008. Along with John Cena and Ashley Massaro, he appeared representing WWE on an episode of Extreme Makeover: Home Edition in January 2007, giving the kids of the family whose house was renovated WWE merchandise and eight tickets to WrestleMania 23.\\nAccording to the Wrestling Figure Checklist, Bautista had 171 action figures released in the 2000s and 2010s; most were released in the mid-to-late 2000s by Jakks Pacific. He remarked on his 2007 appearance on MTV Cribs, \"I was trying to collect my action figures, but I gave up, there became too many\".\\n\\nOn October 16, 2007, his autobiography, Batista Unleashed, was released. In an interview about it, he claimed, \"I didn\\'t want to tell my story unless it was honest... You have to go through three sets of lawyers: Simon & Schuster lawyers, WWE lawyers, my lawyers. Everything now being the way it is, you can be sued for the simplest thing.\" There was controversy over the book\\'s mention of Chris Benoit, a wrestler who killed his wife and strangled his son in a murder-suicide, and about whom other details were removed from the book. Bautista said, \"I loved the guy. I despise what he did, but that doesn\\'t erase him from my life. I fought to keep him in there and am glad they did.\"\\nWhen asked about his ex-wife, Angie, Bautista says, \"[We] have really become close again, which we really haven\\'t been in years. I really learned a lot about her, and she learned a lot about me from reading the book. She actually saw things from a different perspective from reading the book. So that was definitely therapeutic.\" Bautista held a campaign to raise money for Ovarian Cancer Research Alliance in 2010 because of Angie\\'s ovarian cancer battle.\\nDuring the week of November 5, 2007, Bautista appeared on Family Feud with several other WWE wrestlers.\\nOn September 7, 2008, he was a judge on an episode of Iron Chef America, with snails as the theme ingredient. Along with Candice Michelle, Shelton Benjamin, and Josh Mathews, he represented the WWE at the 2008 Democratic National Convention in an effort to persuade fans to register to vote in the 2008 presidential election. He has also appeared on MTV Cribs showing his house and cars. His first biographical DVD, Batista: I Walk Alone, was released through WWE Productions on October 20, 2009. A second DVD, WWE Batista: The Animal Unleashed (released June 2014) continued his life story, detailing his departure from WWE in 2010 and his return to it in 2014.\\n\\nPersonal life\\nBautista married his first wife, Glenda, in 1990. They had two daughters together, Keilani (b. 1990) and Athena (b. 1992), before they divorced in 1998. Bautista married his second wife, Angie, on October 13, 1998. They have a son together, Oliver, and divorced in 2006. Before the age of 40, Bautista already had two grandsons through Keilani. In October 2015, he married competitive pole dancer Sarah Jade. They separated in early 2019.\\nBautista is 6 feet 4 inches (1.93 m) tall and weighed around 275 pounds (125 kg) as of August 2020, later slimming down to around 240 pounds (110 kg) by September 2024. He has numerous tattoos, including a large dragon on his back, red kanji lettering on his upper left biceps which says \"Angel\" (in tribute to Angie), a signature design on his upper right biceps, and a small sun on his abdomen which encircles his navel. He also has a tattoo on his arm of the flags of Greece and the Philippines. While taking time off due to injury in 2009, he had both upper arms covered in large, tribal style tattoos, and the phrase \"DC soldier\" added to his right biceps. He once had a tattoo of a meteor on his arm, a logo associated with former friend Manny Pacquiao, but had it covered up with a sugar skull design after Pacquiao made homophobic remarks. Beginning in 2010, Bautista began eating a mostly plant-based, pescetarian diet, and in 2021 planned to go completely vegan in the near future.\\nBautista suffers from asthma and by his own admission used to hide inhalers in several places under the ring during his wrestling matches.\\nA baseball fan, Bautista grew up following the New York Yankees, although he has since embraced the Washington Nationals, who play at Nationals Park blocks from Bautista\\'s childhood home.\\nBautista supported Bernie Sanders in the 2020 Democratic Party presidential primaries. He endorsed Joe Biden in the 2020 United States presidential election and appeared in an ad for his presidential campaign. In 2024, Bautista, who supported U.S. vice president and presidential candidate Kamala Harris, filmed a video demeaning her opponent, Donald Trump, for Jimmy Kimmel Live!\\n\\nFilmography\\nFilm\\nTelevision\\nVideo games\\nTheme park attractions\\nChampionships and accomplishments\\nProfessional wrestling\\nThe Baltimore Sun\\nFeud of the Year (2007) vs. The Undertaker\\nOhio Valley Wrestling\\nOVW Heavyweight Championship (1 time)\\nPro Wrestling Illustrated\\nMost Improved Wrestler of the Year (2005)\\nWrestler of the Year (2005)\\nRanked No. 1 of the top 500 singles wrestlers in the PWI 500 in 2005\\nPower Pro Wrestling\\nPPW Television Championship (1 time)\\nWorld Wrestling Entertainment/WWE\\nWWE Championship (2 times)\\nWorld Heavyweight Championship (4 times)\\nWorld Tag Team Championship (3 times) – with Ric Flair (2) and John Cena (1)\\nWWE Tag Team Championship (1 time) – with Rey Mysterio\\nRoyal Rumble (2005, 2014)\\nWorld Xtreme Wrestling\\nHall of Fame (2013)\\nWrestling Observer Newsletter\\nFeud of the Year (2005) vs. Triple H\\nFeud of the Year (2007) vs. The Undertaker\\nMost Overrated (2006)\\n\\nSee also\\nNotes\\n\\nReferences\\nExternal links\\n\\nBatista on WWE.com \\nDave Bautista at IMDb\\nDave Bautista\\'s profile at WWE.com , Cagematch.net , Wrestlingdata.com , Internet Wrestling Database'"
            ],
            "application/vnd.google.colaboratory.intrinsic+json": {
              "type": "string"
            }
          },
          "metadata": {},
          "execution_count": 43
        }
      ]
    },
    {
      "cell_type": "code",
      "source": [
        "# Replace newline chars with spaces before doing any processing. Strip the ' and \"s\" from possessives\n",
        "wiki_text_clean = (\n",
        "    wiki_text\n",
        "    .lower()\n",
        "    .replace(\"\\n\",\" \")\n",
        "    .replace(\"'s\",'')\n",
        "    .replace(\"'\",'')\n",
        ")\n",
        "wiki_text_clean"
      ],
      "metadata": {
        "colab": {
          "base_uri": "https://localhost:8080/",
          "height": 192
        },
        "id": "MwDZAOnE_UDW",
        "outputId": "60434753-f1b8-4c5f-ab19-f9b839b4eab2"
      },
      "execution_count": 44,
      "outputs": [
        {
          "output_type": "execute_result",
          "data": {
            "text/plain": [
              "'david michael bautista jr. (born january 18, 1969) is an american actor and retired professional wrestler. regarded as one of the most prolific professional wrestlers of his generation, he rose to fame for his multiple stints in wwe between 2002 and 2019. bautista began his wrestling career in 1999 and signed with wwe (then wwf) in 2000. from 2002 to 2010, he gained fame under the ring name batista, initially as a member of evolution. he would go on to win the wwe championship twice, the world heavyweight championship four times (with his first reign remaining the longest in history at 282 days), the world tag team championship three times (twice with ric flair and once with john cena), and the wwe tag team championship once (with rey mysterio). he also won the 2005 and 2014 royal rumble matches and subsequently headlined wrestlemania 21 and wrestlemania xxx, with the former being one of the top five highest-grossing ppv events in wrestling history. he retired from professional wrestling after wrestlemania 35 in 2019. as an actor, bautista is known for portraying drax in the marvel cinematic universe (2014–2023) and rabban in dune (2021) and its 2024 sequel. bautista has additionally starred in spectre (2015), blade runner 2049 (2017), final score, master z: ip man legacy (both 2018), army of the dead (2021), glass onion: a knives out mystery (2022), knock at the cabin, and parachute (both 2023).  early life david michael bautista jr. was born in washington, d.c., on january 18, 1969, the son of donna raye (née mullins) and hairdresser david michael bautista. his mother is of greek descent, while his father was born to filipino immigrants. his paternal grandfather served in the philippine military, worked as a taxi driver and barber, and held other jobs to feed the family. bautista mother later came out as a lesbian. he has said that he lived in poverty and had a hard life which included exposure to violent crime at an early age. before reaching the age of nine, two bodies had been found on his front lawn and another one nearby. as young as age 13, he had begun stealing cars. by age 17, he was estranged from his parents and living on his own. however, he later said, \"i am proud of my parents. they are good, honest, hard-working folks. they taught me the values of working hard.\"  bautista worked as a nightclub bouncer until he was arrested after a fight that left two patrons injured, one of whom was knocked unconscious. after a trial, he was sentenced to one year of probation. he worked as a lifeguard before deciding to pursue a career in bodybuilding, which he credits with saving his life. at the age of 30, after having a breakdown from the shame he felt for having to ask a co-worker to lend him money so he could buy christmas presents for his children, he saw how lucrative a career in professional wrestling could be and decided to pursue it.  professional wrestling career training and early career (1999–2000) bautista tried out at world championship wrestling power plant, where trainer dewayne bruce told him he would never make it in the wrestling business. he then went to the world wrestling federation (wwf), who advised him to train with afa anoaʻi at the wild samoan training center, where he trained and later competed in anoaʻi world xtreme wrestling (wxw) promotion. he wrestled his debut match under the ring name khan on october 30, 1999, less than three months before his 31st birthday. he also trained with marrese crump in muay thai and eskrima.  world wrestling federation / world wrestling entertainment / wwe (2000–2010) ohio valley wrestling (2000–2002) upon signing with the wwf in 2000, bautista was sent to ohio valley wrestling (ovw), a wwf developmental territory. he made his ovw debut later that year under the ring name leviathan, where he immediately joined forces with synn. as a member of the \"disciples of synn\" stable, he went undefeated until being beaten at christmas chaos by kane with help from stone cold steve austin. he later won the ovw heavyweight championship from \"the machine\" doug basham before losing the belt to the prototype. a few months later, bautista left ovw after he was promoted to wwe main roster.  early storylines (2002–2003) while still in ovw, bautista began appearing on non-televised wwe events. he began his televised wwe career on may 9, 2002, on an episode of smackdown! as deacon batista, a heel enforcer for reverend d-von. he made his wwe in-ring debut in a tag team match teaming with d-von against faarooq and randy orton, pinning orton. over several weeks, orton tried to beat d-von and batista with different partners, but ultimately lost each time. batista suffered his first loss in a match against rikishi after d-von accidentally punched him, allowing rikishi to take advantage and pin batista. batista and d-von argued over the forthcoming weeks, with batista eventually turning on d-von. on the november 14 episode of smackdown!, batista defeated d-von to end their feud. after splitting with d-von, he was assigned to the raw brand and was renamed batista. he aligned himself with ric flair and feuded with kane, whom he defeated at armageddon on december 15.  evolution (2003–2005) in january 2003, batista joined triple h, ric flair and randy orton to form the heel stable evolution. batista, however, was sidelined for much of 2003 after he tore his right triceps muscle at a raw live event in a tag team match alongside orton against the dudley boyz. while training after the injury, batista re-tore his triceps, extending his stay on the sidelines. batista made his return on the october 20 episode of raw, interfering in a match between goldberg and shawn michaels. at armageddon on december 14, batista and ric flair became the world tag team champions after winning a tag team turmoil match, while triple h won the world heavyweight championship and randy orton the intercontinental championship. batista and flair held the titles until the february 16, 2004, episode of raw, when they were defeated by booker t and rob van dam. they later defeated booker t and van dam on the march 22 episode of raw to regain the titles before losing them to chris benoit and edge on the april 19 episode of raw. in late 2004, the relationship between batista and triple h began to deteriorate in kayfabe. after a loss to chris jericho, triple h verbally insulted batista. batista teased leaving evolution that night, but declared that he was still part of evolution and that they tricked everyone. despite this ploy, batista began behaving more like a face over the next few weeks in comparison to evolution heel tactics. one particular moment saw batista express disgust as triple h and ric flair boasted about how they had intimidated and/or beat up jim ross, danny hodge, and stacy keibler. regardless, he continued to show his loyalty to triple h and evolution by running down to the ring and assisting them in matches. as 2005 began, triple h realized the possibility of batista becoming a threat to his world heavyweight championship. triple h suggested that he not enter the royal rumble on january 30, claiming that it would be selfish of him to do so, and to simply focus on triple h retaining the title. batista entered anyway and went on to win the rumble earning the right to participate in the main event of wrestlemania 21 on april 3 against the world champion of his choice. on the february 14 episode of raw, in an attempt to persuade batista to challenge wwe champion john \"bradshaw\" layfield (jbl) and challenger john cena in a triple-threat match rather than him, triple h concocted a scheme to have batista run over in a limousine resembling the one used by jbl. initially, batista did not want help from evolution and wanted to confront jbl by himself. triple h insisted that evolution stick together and accompanied batista anyway, saving him from the oncoming vehicle. batista became aware of the plot while sneakily eavesdropping on fellow evolution members and signed a contract guaranteeing him a match with the world heavyweight champion triple h at wrestlemania 21, thus leaving evolution and officially turning face. batista initially pretended that he would sign with smackdown!, giving triple h and flair the \"thumbs up\", but turned it into a \"thumbs down\" before attacking the pair. he emphasized his departure by powerbombing triple h through the table used for the contract signing.  world heavyweight champion (2005–2008) batista won the world heavyweight championship on april 3 by defeating triple h in the main event of wrestlemania 21. wrestlemania 21 received 1.09 million pay-per-view buys worldwide – the then-highest ever number of buys for any non-boxing pay-per-view. batista match with triple h was described by sports journalist dave meltzer as \"the peak of one of [wwe] best storylines in years\". batista won a rematch with triple h for the world heavyweight championship at backlash on may 1. after batista retained his title against edge on the may 23 episode of raw, he was betrayed by ric flair, who helped triple h viciously attack batista as triple h challenged batista to a hell in a cell match at vengeance on june 26. batista won the match at vengeance, retaining his title yet again. with this win, batista became the first wrestler to pin triple h in a hell in a cell match. on the june 30 episode of smackdown!, batista was drafted to the smackdown! brand as the last pick in the 2005 wwe draft lottery, making a surprise appearance to thwart john \"bradshaw\" layfield (jbl), who was celebrating his victory in a six-man elimination match to crown the inaugural \"smackdown! champion\". this resulted in batista bringing the world heavyweight championship to smackdown!. jbl defeated batista at the great american bash on july 24 by disqualification after the referee saw batista use a steel chair. they had a rematch at summerslam on august 21 in a no holds barred match in which batista pinned jbl. the feud culminated in a texas bull rope match on the september 9 episode of smackdown! with batista retaining his championship. soon after retaining the title in a feud with eddie guerrero at no mercy on october 9, wwe.com reported that batista suffered a muscle tear in his back at the taping for the november 11 episode of smackdown! due to a double chokeslam from big show and kane. plans had been made for batista to defend the title in a triple threat match with eddie guerrero and randy orton on the november 18 episode of smackdown!, but the match did not take place as guerrero unexpectedly died on november 13, the date of the taping. batista paid homage to guerrero during the raw and smackdown! tribute shows dedicated to guerrero memory. batista led team smackdown! against team raw in an inter-brand feud before survivor series on november 27. the feud saw big show and kane chokeslamming batista several more times in the weeks leading up to survivor series in an on-camera explanation for batista injury. batista ultimately helped his team win the match at survivor series. after batista saved rey mysterio from big show and kane on the december 2 episode of smackdown!, leading to a match with mysterio teaming with batista to face big show and kane at armageddon on december 18. on the december 16 episode of smackdown!, batista and mysterio defeated wwe tag team champions mnm to win the titles in a match they dedicated to eddie guerrero, and thus batista became a double champion. after this, the clash with big show and kane at armageddon turned into a champions vs. champions encounter. batista and mysterio lost to big show and kane at armageddon. two weeks later on the december 30 episode of smackdown!, mnm defeated batista and mysterio after help from the returning mark henry to regain the wwe tag team championship. during the interference, henry attacked batista, and performed his world strongest slam. the teams met again in a steel cage match on the january 6, 2006 episode of smackdown! that henry also became involved in, and batista and mysterio were defeated again. batista tore his right triceps during a match with mark henry at a house show on january 6, forcing him to vacate the world heavyweight championship at the smackdown! tapings on january 13, two days after surpassing triple h previous mark of 280 days for longest reigning champion. in his book, batista unleashed, batista said that he believed that henry was \"careless\" during their match as he never gave batista any warning that the move was coming. batista went on to have successful surgery on his arm on january 12.  batista made an appearance at no way out on february 19 and told the crowd that once his arm had healed he would return to regain the world heavyweight championship. at wrestlemania 22 on april 2, he interrupted a randy orton interview, putting smackdown! on notice that the world heavyweight championship would return to him by wrestlemania 23. batista made his official return during the july 7 episode of smackdown! immediately calling out and entering into a feud with mark henry. at saturday night main event xxxiii, batista won a six-man tag match with teammates rey mysterio and bobby lashley, defeating world heavyweight champion king booker, finlay, and mark henry. henry was legitimately injured and was ruled out of the scheduled match between the two at the great american bash on july 23, thus further delaying a potential feud between the two after being delayed by batista initial injury. batista put out an open challenge to replace the injured henry, which was answered by mr. kennedy. at the great american bash, batista lost this match via disqualification for failing to stop choking kennedy into the turnbuckle with his boot, but continued to attack kennedy resulting in a laceration on his forehead so severe that it exposed his cranium and required more than 20 stitches to close. batista lost another match with kennedy via count out in a rematch on the july 28 episode of smackdown! before finally defeating kennedy by pinfall on the august 4 episode of smackdown!. batista faced big show for the ecw world championship on the august 1 episode of ecw, winning the match by disqualification but failing to win the championship as titles cannot change hands by disqualification. he then set his sights on king booker world heavyweight championship, with the two facing in a match for the title at 2006 summerslam on august 20. however, batista also won this match by disqualification. during a commercial shoot for the summerslam pay-per-view, booker t and batista reportedly got into a legitimate fistfight, with booker t accusing batista of considering himself superior to the rest of the roster due to his quick climb to main-event status. it was also reported that some wrestlers on the smackdown brand agreed with booker t. batista continued his pursuit of the championship, failing to capture it once again in a fatal-four way at no mercy on october 8 also involving finlay and bobby lashley, before finally defeating king booker to regain the world heavyweight championship at survivor series on november 26. the following month at armageddon on december 17, batista teamed with john cena to defeat king booker and finlay, putting an end to the rivalry.  going into 2007, batista began a short feud with mr. kennedy over the championship. batista retained the championship over kennedy at the royal rumble on january 28. batista next challenger was the undertaker, the winner of the royal rumble match. the two formed a reluctant alliance to face john cena and shawn michaels at no way out on february 18, which they lost after batista turned on the undertaker midway through the match. at wrestlemania 23 on april 1, batista lost the world heavyweight championship to the undertaker. they continued their feud with a last man standing match at backlash on april 29, which ended in a draw. the two wrestled again in a steel cage match on the may 11 episode of smackdown!, which also ended in a draw. following the match, edge took advantage and won the title from the undertaker by cashing in his money in the bank contract. afterward, batista challenged edge unsuccessfully for the world heavyweight championship at judgment day on may 20, one night stand on june 3 (in a steel cage match), and vengeance: night of champions on june 24 (in a last chance match). the loss at vengeance stipulated that batista could no longer get another chance at the world heavyweight championship while edge remained champion. batista accepted an open challenge from the great khali at the great american bash on july 22. edge relinquished the title due to an injury the week before the great american bash, and khali became the new world heavyweight champion, winning a battle royal and eliminating batista. batista and kane, edge title opponent, faced khali at the great american bash in a triple threat match where khali retained the title. batista received a disqualification victory against khali at summerslam on august 26 after khali used a steel chair, thus khali retained the title again. batista finally claimed his third world heavyweight championship after eight consecutive attempts, by defeating khali in a triple threat match that included rey mysterio at unforgiven on september 16. his first challenge was from the great khali in a punjabi prison match at no mercy on october 7 where batista retained his title. he won the match by leaping from the inner bamboo structure to the outer one, shortening his escape route and beating khali to the floor. after the return of the undertaker at unforgiven, the duo reignited their feud at cyber sunday on october 28 where the fans chose stone cold steve austin as the special guest referee. batista pinned the undertaker after two batista bombs. the feud continued with a hell in a cell match at survivor series on november 18. during the match, edge returned and interfered by giving the undertaker a con-chair-to. he then pulled an unconscious batista on top of the undertaker for the pinfall to retain the world heavyweight championship. at armageddon on december 16, edge won a triple threat match, alongside the undertaker for batista world heavyweight championship.  batista appeared in the royal rumble on january 27, 2008 and made the final three before being eliminated by triple h. at no way out on february 17, he was part of the smackdown elimination chamber match and eliminated big daddy v, but was last eliminated by the undertaker. at wrestlemania xxiv on march 30, he defeated umaga in an interpromotional match. after shawn michaels defeated ric flair in a career threatening match (forcing flair to retire) later that night, batista began a feud with michaels, calling him selfish and egotistical. the two faced off at backlash on april 27 with chris jericho as the special guest referee. michaels won after faking a knee injury and performing sweet chin music. batista then defeated michaels at one night stand on june 1 in a stretcher match, thus ending their feud. on the june 23 episode of raw, batista was drafted to the raw brand during the 2008 wwe draft. after failing to win the world heavyweight championship from edge at night of champions on june 29, batista attacked edge the following night on raw, allowing cm punk to cash in his money in the bank contract on edge and win the world heavyweight championship. this set up a title match between batista and punk at the great american bash on july 20 which ended in a double disqualification after kane interfered and attacked both men. the following night on raw, batista and punk had a rematch, batista won by disqualification after he was attacked by jbl. as john cena came to the ring to fight jbl, he inadvertently punched batista as jbl ducked. this started a program between cena and batista leading up to summerslam on august 17, for which a match was made official by raw general manager mike adamle. this was the first time a match between the two would occur as they had each been on separate brands since they both debuted in 2002. on the august 4 episode of raw, batista and cena won the world tag team championship from cody rhodes and ted dibiase, making batista a three-time world tag team champion. the next week on raw, batista and cena lost the world tag team championship back to rhodes and dibiase. after losing the titles, the two had to be separated by multiple officials. batista defeated cena at summerslam, legitimating injuring cena neck in the process.  batista then competed in the world heavyweight championship championship scramble match at unforgiven on september 7 and was eight seconds away from being a four-time world champion, but chris jericho snuck in and pinned kane in the waning seconds. on october 26 at cyber sunday on october 26, batista defeated jericho for his fourth world heavyweight championship in a match in which stone cold steve austin was voted in as the special guest referee. batista reign, however, only lasted eight days when jericho won the title back in a steel cage match on the 800th episode of raw on november 3. batista then entered a feud with former evolution partner, randy orton; at survivor series on november 23, batista led a team of himself, cm punk, kofi kingston, matt hardy, and r-truth to face the team of randy orton, shelton benjamin, william regal, cody rhodes, and mark henry. orton team won with orton pinning batista, winning the match for his team. his feud with orton continued up to armageddon on december 14 where batista defeated orton. on the december 15 episode of raw, batista was put into a handicap match against the legacy with john cena as his partner. during the match, orton struck batista with a punt to the head. batista was knocked out and put out of action indefinitely due to a storyline head injury. wwe.com later reported that batista elected to undergo surgery to repair a hamstring tear. his hamstring was injured at summerslam, in the same match that john cena was forced out of action with a neck injury. he was expected to be out of action for six to eight months.  wwe champion (2009–2010) batista returned on the raw after wrestlemania 25, to save triple h, shane mcmahon, and vince mcmahon from the legacy (randy orton, cody rhodes and ted dibiase). vince mcmahon then scheduled batista to team up with wwe champion triple h and shane mcmahon to face the legacy at backlash. during the match, batista had brought out a chair, but triple h tried to stop him, so they would not get disqualified (which would have cost triple h the championship). this distraction, however, cost triple h his championship, after he lost it to orton. the following night on raw, batista won a singles match against big show due to a distraction by john cena, to become the number one contender for the wwe championship at judgment day, which he won by disqualification. batista went on to defeat orton in a rematch at extreme rules in a steel cage match to capture his first wwe championship. however, on the june 8 episode of raw, batista was to vacate the title due to a staged brutal attack by orton and the legacy. it was later revealed that batista had suffered a legitimate torn left biceps similar to what he suffered in 2006. legacy was given on-screen credit for his injury. batista returned on the september 14 episode of raw with his arm still in a vice. randy orton, assuming batista was retiring, claimed that he ended batista career. batista then removed his arm vice, which turned to be fake, and attacked orton. he then stated that he would not retire, but move to smackdown instead. later that night, he defeated orton in a no-holds barred match which was to be his last match on raw. following his return to smackdown, batista defeated unified wwe tag team champions jeri-show (chris jericho and big show) in singles competition. these two victories culminated in a tag team title match against jeri-show with his partner rey mysterio on october 4 at hell in a cell, which jeri-show won. that same month at bragging rights, batista was unsuccessful in winning the world heavyweight championship in a fatal four-way match including cm punk, rey mysterio, and champion the undertaker.  during the match, mysterio broke up batista pin on the undertaker costing him the match and the title. after the match (which the undertaker won), batista and mysterio appeared to patch things up, but batista said he was tired of coming so close only to be stabbed in the back and told mysterio he was going to rip his head off. batista proceeded to brutally attack mysterio, turning heel for the first time since 2005.  batista faced mysterio on november 22 at survivor series, where batista won via referee stoppage after delivering three batista bombs to mysterio. batista defeated mysterio again in a street fight on the december 11 episode of smackdown. on december 13 at tlc: tables, ladders & chairs, batista faced the undertaker for the world heavyweight championship in a chairs match. batista initially won the match and the title, but smackdown general manager theodore long reversed the decision because batista had hit undertaker with a low blow behind the referee back. the match was restarted with the undertaker winning and retaining the championship. five days later, batista lost to mysterio in a number one contenders match for the world heavyweight championship; mysterio title match against the undertaker on the december 25 episode of smackdown ended as a no-contest after interference from batista. at the royal rumble in january 2010, batista entered the royal rumble match at number 30, but failed to win as he was eliminated by john cena. batista then became involved in wwe chairman vince mcmahon and bret hart rivalry by assisting mcmahon in attacking hart; john cena attempted to save hart, but was assaulted by batista. on february 21 at elimination chamber, as payment for batista attacking hart, mcmahon allowed batista to face cena for the wwe championship immediately after cena won the title in an elimination chamber match. batista won the match and thus his second wwe championship, which resulted in batista moving back to raw. on march 28 at wrestlemania xxvi, batista lost the wwe championship to john cena in a rematch, ending his reign at 35 days. batista received his rematch for the title in a last man standing match on april 25 at extreme rules, but was defeated by cena after cena duct-taped his legs around a ring post, preventing him from standing up. batista and cena faced off once again for the wwe championship on may 23 at over the limit, but he failed again to regain the title from cena in an \"i quit\" match, quitting as cena threatened to give him the attitude adjustment off the roof of a car. cena did so anyway, throwing batista off of the car and through the stage below. the following night on raw, batista opened the show in a wheelchair and claimed that he would be pursuing legal action against cena and wwe for his injuries (which he revealed in 2014 to be a legitimate compression fracture of his l1 spine). his promo was interrupted by new raw general manager bret hart, who ordered he face an injured randy orton to qualify for a shot at wwe championship against cena again at the new fatal 4-way pay-per-view. batista refused and quit the company after hart named orton winner by forfeit. his profile was subsequently moved to the alumni page on wwe website. he later said in an interview that he left wwe because he \"did not like the direction the company was going in\".  return to wwe (2014) batista made his return to wwe on the january 20, 2014, episode of raw. despite returning as a face and winning the royal rumble, the live crowd reacted negatively towards batista win, as daniel bryan did not take part in the match. despite a positive reaction initially upon his return, the fans in attendance at the royal rumble rejected batista in favor of bryan and continued to boo him after roman reigns was last eliminated. after the show went off the air, batista mocked bryan and gestured his middle finger at the crowd. according to batista, he thought a return as a face was a bad idea because of the fans being so invested in daniel bryan \"yes movement\" storyline. at the elimination chamber event and on the february 24 episode of raw, batista was heavily booed by the fans during matches against alberto del rio, thus resulting in batista turning heel on the february 28 episode of smackdown. the main event of wrestlemania xxx, originally batista versus randy orton for the wwe world heavyweight championship, was changed to a triple threat match after bryan defeated triple h at wrestlemania. at wrestlemania, bryan forced batista to submit to win the title.  the next night on raw, batista and orton teamed together to face the usos for the wwe tag team championship, but the match ended in a double count out. later that night, batista and orton, along with kane, attacked bryan before he was set to defend his title against triple h. before triple h could defeat bryan, the shield interrupted by spearing triple h and taking out batista, orton and kane, causing the match to end in a no-contest. on the april 14 episode of raw, batista, triple h and randy orton came down to the ring to attack the shield after their 11-on-3 handicap match, using the name and the theme of evolution. at both extreme rules and payback, evolution lost to the shield. on the june 2 episode of raw, batista quit wwe after triple h denied him a shot at the wwe world heavyweight championship. batista legitimately quit the wwe due to creative differences soon after.  second return to wwe (2018–2019) on october 16, 2018, batista reunited with the rest of evolution for an appearance on smackdown 1000th episode, where batista teased a match with triple h, as triple h had never beaten batista in singles competition. the storyline between them started on february 25, 2019, when batista viciously attacked ric flair and repeatedly demanded \"give me what i want\" to triple h, which became a popular phrase associated with batista. at wrestlemania 35, batista and triple h would face each other in a no holds barred with their careers on the line, where batista lost after interference from ric flair. the next day, batista announced his retirement from professional wrestling. on december 9, 2019, wwe officially announced that batista would be inducted into the wwe hall of fame as a part of the class of 2020. the event was postponed due to the covid-19 pandemic and it was announced that the class of 2020 would be inducted alongside the class of 2021 at the 2021 event. prior to the event, however, he was removed from the list. he tweeted to confirm his removal, citing previous obligations as the reason why he could not attend the 2021 event. he also said that wwe honored his request to induct him at a future ceremony.  professional wrestling style and persona upon his return to wwe in 2014, batista was heavily booed by the crowd after winning the royal rumble, despite playing a heroic character. in an interview with wwe.com, he said of the crowd reaction, \"it was weird. it wasnt like a normal response. it was almost like a personal attack. it had to do with factors that were not in my control, factors and things that were going on in the company with other people, stuff that really had nothing to do with me. to me, it was a little frustrating, a little confusing, and, you know, i dont want to say i completely took it personal, but i did somewhat.\" the fan reaction caused storyline changes, with batista turning into a villainous character. wrestling legend mick foley opined that batista was \"simply the wrong guy in the wrong place at the wrong time. unfortunately for dave, his return happened to be part of the perfect storm – the night wwe fans wanted daniel bryan – wwe universe to walk out as the winner of the 2014 #royalrumble ...and would settle for nothing less.\" batista was declared the 50th greatest wrestling villain of all time by a wwe article in 2012. wwe has also ranked him as the second best world heavyweight champion of all time. wwe advertised batista as being 6 ft 6 in tall and weighing 290 pounds, both of which are different from his real height of 6 ft 4 in and unknown weight.  mixed martial arts career after leaving wwe, bautista attended strikeforce: los angeles on june 16, 2010, having previously registered an interest in competing in mma. five days later, he said that he would be embarking on an mma career. he became a brown belt in brazilian jiu-jitsu under cesar gracie. bautista and strikeforce agreed on a price and were negotiating a contract. however, in april 2011, bautista stated that negotiations fell through when the organization was bought by the zuffa company. bautista was expected to make his mma debut against rashid evans on october 6, 2012, at ces mma: real pain in providence, rhode island. however, on october 1, 2012, evans was forced out of the bout after a probation violation landed him back in jail. evans was replaced by journeyman and 40-fight veteran vince lucero. bautista went on to win the fight by technical knockout (tko) at 4:05 in the first round.  mixed martial arts record acting career early career (2006–2013) bautista has acted in several television shows as both himself and his wrestling character. he guest starred in the eighth episode of season 6 of smallville as aldar, an extraterrestrial who escaped from the phantom zone and who sucks the bones out of people for nourishment. in june 2009, he made a cameo appearance as himself on the australian soap opera neighbours. in 2010, he appeared in an episode of chuck, and also made a cameo appearance in relative strangers. he starred in the 2010 action film wrong side of town. bautista appeared as the villainous brass body in the universal studios film the man with the iron fists.  breakthrough (2014–2021) he played drax the destroyer in the 2014 marvel studios film guardians of the galaxy, which was a critical and commercial success. he played mr. hinx in the james bond film spectre (2015), and starred as the villain tong po in the reboot of the martial arts film kickboxer. he was widely praised for his supporting role in blade runner 2049 (2017). he reprised his role as drax in guardians of the galaxy vol. 2 (2017), avengers: infinity war (2018), and avengers: endgame (2019). in 2018, bautista joined his castmates in support of guardians of the galaxy director james gunn after gunn firing over old tweets joking about pedophilia and rape. he called gunn firing \"nauseating\" and declared that he would ask to be recast if disney, the parent company of marvel studios, did not use gunn script for guardians of the galaxy vol. 3. gunn was reinstated as the film director in march 2019. in may 2021, he confirmed that the upcoming guardians of the galaxy vol. 3 would be his final appearance as drax.  diversification (2021–present) bautista starred in army of the dead (2021). he had a villainous role in dune, a film adaptation of the novel of the same name by frank herbert, which was released to critical and commercial success. he starred in m. night shyamalan horror film knock at the cabin (2023). he appeared in glass onion: a knives out mystery as duke and in the fantasy-adventure film in the lost lands with milla jovovich, directed by paul w. s. anderson.  other media bautista appeared on the covers of the april 2005 flex, and muscle & fitness for september 2008. along with john cena and ashley massaro, he appeared representing wwe on an episode of extreme makeover: home edition in january 2007, giving the kids of the family whose house was renovated wwe merchandise and eight tickets to wrestlemania 23. according to the wrestling figure checklist, bautista had 171 action figures released in the 2000s and 2010s; most were released in the mid-to-late 2000s by jakks pacific. he remarked on his 2007 appearance on mtv cribs, \"i was trying to collect my action figures, but i gave up, there became too many\".  on october 16, 2007, his autobiography, batista unleashed, was released. in an interview about it, he claimed, \"i didnt want to tell my story unless it was honest... you have to go through three sets of lawyers: simon & schuster lawyers, wwe lawyers, my lawyers. everything now being the way it is, you can be sued for the simplest thing.\" there was controversy over the book mention of chris benoit, a wrestler who killed his wife and strangled his son in a murder-suicide, and about whom other details were removed from the book. bautista said, \"i loved the guy. i despise what he did, but that doesnt erase him from my life. i fought to keep him in there and am glad they did.\" when asked about his ex-wife, angie, bautista says, \"[we] have really become close again, which we really havent been in years. i really learned a lot about her, and she learned a lot about me from reading the book. she actually saw things from a different perspective from reading the book. so that was definitely therapeutic.\" bautista held a campaign to raise money for ovarian cancer research alliance in 2010 because of angie ovarian cancer battle. during the week of november 5, 2007, bautista appeared on family feud with several other wwe wrestlers. on september 7, 2008, he was a judge on an episode of iron chef america, with snails as the theme ingredient. along with candice michelle, shelton benjamin, and josh mathews, he represented the wwe at the 2008 democratic national convention in an effort to persuade fans to register to vote in the 2008 presidential election. he has also appeared on mtv cribs showing his house and cars. his first biographical dvd, batista: i walk alone, was released through wwe productions on october 20, 2009. a second dvd, wwe batista: the animal unleashed (released june 2014) continued his life story, detailing his departure from wwe in 2010 and his return to it in 2014.  personal life bautista married his first wife, glenda, in 1990. they had two daughters together, keilani (b. 1990) and athena (b. 1992), before they divorced in 1998. bautista married his second wife, angie, on october 13, 1998. they have a son together, oliver, and divorced in 2006. before the age of 40, bautista already had two grandsons through keilani. in october 2015, he married competitive pole dancer sarah jade. they separated in early 2019. bautista is 6 feet 4 inches (1.93 m) tall and weighed around 275 pounds (125 kg) as of august 2020, later slimming down to around 240 pounds (110 kg) by september 2024. he has numerous tattoos, including a large dragon on his back, red kanji lettering on his upper left biceps which says \"angel\" (in tribute to angie), a signature design on his upper right biceps, and a small sun on his abdomen which encircles his navel. he also has a tattoo on his arm of the flags of greece and the philippines. while taking time off due to injury in 2009, he had both upper arms covered in large, tribal style tattoos, and the phrase \"dc soldier\" added to his right biceps. he once had a tattoo of a meteor on his arm, a logo associated with former friend manny pacquiao, but had it covered up with a sugar skull design after pacquiao made homophobic remarks. beginning in 2010, bautista began eating a mostly plant-based, pescetarian diet, and in 2021 planned to go completely vegan in the near future. bautista suffers from asthma and by his own admission used to hide inhalers in several places under the ring during his wrestling matches. a baseball fan, bautista grew up following the new york yankees, although he has since embraced the washington nationals, who play at nationals park blocks from bautista childhood home. bautista supported bernie sanders in the 2020 democratic party presidential primaries. he endorsed joe biden in the 2020 united states presidential election and appeared in an ad for his presidential campaign. in 2024, bautista, who supported u.s. vice president and presidential candidate kamala harris, filmed a video demeaning her opponent, donald trump, for jimmy kimmel live!  filmography film television video games theme park attractions championships and accomplishments professional wrestling the baltimore sun feud of the year (2007) vs. the undertaker ohio valley wrestling ovw heavyweight championship (1 time) pro wrestling illustrated most improved wrestler of the year (2005) wrestler of the year (2005) ranked no. 1 of the top 500 singles wrestlers in the pwi 500 in 2005 power pro wrestling ppw television championship (1 time) world wrestling entertainment/wwe wwe championship (2 times) world heavyweight championship (4 times) world tag team championship (3 times) – with ric flair (2) and john cena (1) wwe tag team championship (1 time) – with rey mysterio royal rumble (2005, 2014) world xtreme wrestling hall of fame (2013) wrestling observer newsletter feud of the year (2005) vs. triple h feud of the year (2007) vs. the undertaker most overrated (2006)  see also notes  references external links  batista on wwe.com  dave bautista at imdb dave bautista profile at wwe.com , cagematch.net , wrestlingdata.com , internet wrestling database'"
            ],
            "application/vnd.google.colaboratory.intrinsic+json": {
              "type": "string"
            }
          },
          "metadata": {},
          "execution_count": 44
        }
      ]
    },
    {
      "cell_type": "code",
      "source": [
        "# Break up single string into separate sentences\n",
        "wiki_blob = TextBlob(wiki_text_clean)\n",
        "len(wiki_blob.sentences)"
      ],
      "metadata": {
        "colab": {
          "base_uri": "https://localhost:8080/"
        },
        "id": "Jt09Fi8Q-iT_",
        "outputId": "18f558aa-53b8-42bc-97e2-6805af9bc671"
      },
      "execution_count": 45,
      "outputs": [
        {
          "output_type": "execute_result",
          "data": {
            "text/plain": [
              "283"
            ]
          },
          "metadata": {},
          "execution_count": 45
        }
      ]
    },
    {
      "cell_type": "code",
      "source": [
        "# Only look at first 20 sentences\n",
        "target_blob = wiki_blob.sentences[0:20]\n",
        "target_blob"
      ],
      "metadata": {
        "colab": {
          "base_uri": "https://localhost:8080/"
        },
        "collapsed": true,
        "id": "hFZErMlP_YtA",
        "outputId": "96052ec8-9cc9-4526-d4b4-0000fa99d72e"
      },
      "execution_count": 46,
      "outputs": [
        {
          "output_type": "execute_result",
          "data": {
            "text/plain": [
              "[Sentence(\"david michael bautista jr. (born january 18, 1969) is an american actor and retired professional wrestler.\"),\n",
              " Sentence(\"regarded as one of the most prolific professional wrestlers of his generation, he rose to fame for his multiple stints in wwe between 2002 and 2019. bautista began his wrestling career in 1999 and signed with wwe (then wwf) in 2000. from 2002 to 2010, he gained fame under the ring name batista, initially as a member of evolution.\"),\n",
              " Sentence(\"he would go on to win the wwe championship twice, the world heavyweight championship four times (with his first reign remaining the longest in history at 282 days), the world tag team championship three times (twice with ric flair and once with john cena), and the wwe tag team championship once (with rey mysterio).\"),\n",
              " Sentence(\"he also won the 2005 and 2014 royal rumble matches and subsequently headlined wrestlemania 21 and wrestlemania xxx, with the former being one of the top five highest-grossing ppv events in wrestling history.\"),\n",
              " Sentence(\"he retired from professional wrestling after wrestlemania 35 in 2019. as an actor, bautista is known for portraying drax in the marvel cinematic universe (2014–2023) and rabban in dune (2021) and its 2024 sequel.\"),\n",
              " Sentence(\"bautista has additionally starred in spectre (2015), blade runner 2049 (2017), final score, master z: ip man legacy (both 2018), army of the dead (2021), glass onion: a knives out mystery (2022), knock at the cabin, and parachute (both 2023).\"),\n",
              " Sentence(\"early life david michael bautista jr. was born in washington, d.c., on january 18, 1969, the son of donna raye (née mullins) and hairdresser david michael bautista.\"),\n",
              " Sentence(\"his mother is of greek descent, while his father was born to filipino immigrants.\"),\n",
              " Sentence(\"his paternal grandfather served in the philippine military, worked as a taxi driver and barber, and held other jobs to feed the family.\"),\n",
              " Sentence(\"bautista mother later came out as a lesbian.\"),\n",
              " Sentence(\"he has said that he lived in poverty and had a hard life which included exposure to violent crime at an early age.\"),\n",
              " Sentence(\"before reaching the age of nine, two bodies had been found on his front lawn and another one nearby.\"),\n",
              " Sentence(\"as young as age 13, he had begun stealing cars.\"),\n",
              " Sentence(\"by age 17, he was estranged from his parents and living on his own.\"),\n",
              " Sentence(\"however, he later said, \"i am proud of my parents.\"),\n",
              " Sentence(\"they are good, honest, hard-working folks.\"),\n",
              " Sentence(\"they taught me the values of working hard.\"\"),\n",
              " Sentence(\"bautista worked as a nightclub bouncer until he was arrested after a fight that left two patrons injured, one of whom was knocked unconscious.\"),\n",
              " Sentence(\"after a trial, he was sentenced to one year of probation.\"),\n",
              " Sentence(\"he worked as a lifeguard before deciding to pursue a career in bodybuilding, which he credits with saving his life.\")]"
            ]
          },
          "metadata": {},
          "execution_count": 46
        }
      ]
    },
    {
      "cell_type": "markdown",
      "source": [
        "### 2.2 Target's Sentiment"
      ],
      "metadata": {
        "id": "dsSYLTEmAPNc"
      }
    },
    {
      "cell_type": "code",
      "source": [
        "# Sentiment Analysis using the same function from Part 1 (get_sentiment from 1b-Intro.to.NLP.using.TextBlob.end (1).ipynb)\n",
        "sentiment = TextBlob(wiki_text_clean).sentiment\n",
        "f'{sentiment} for {target_name}!'"
      ],
      "metadata": {
        "colab": {
          "base_uri": "https://localhost:8080/",
          "height": 35
        },
        "id": "ur-z6LRRAOol",
        "outputId": "92b30aed-f9d4-4413-f3ce-e6e5e34c0b4f"
      },
      "execution_count": 47,
      "outputs": [
        {
          "output_type": "execute_result",
          "data": {
            "text/plain": [
              "'Sentiment(polarity=0.059599167773986696, subjectivity=0.36244615556209775) for Dave Bautista!'"
            ],
            "application/vnd.google.colaboratory.intrinsic+json": {
              "type": "string"
            }
          },
          "metadata": {},
          "execution_count": 47
        }
      ]
    },
    {
      "cell_type": "markdown",
      "source": [
        "### 2.3 Nearest Neighbors"
      ],
      "metadata": {
        "id": "rjBpMjlPClMH"
      }
    },
    {
      "cell_type": "code",
      "source": [
        "# Names of the 10 nearest neighbors from Part 1 (extracted from your In[36] output)\n",
        "target_index = df_cleaned[df_cleaned['name'] == target_name].index[0]"
      ],
      "metadata": {
        "id": "IE3dZ6DrDWS6"
      },
      "execution_count": 48,
      "outputs": []
    },
    {
      "cell_type": "code",
      "source": [
        "neighbor_names = [\n",
        "    'CM Punk', 'John Cena', 'Edge (wrestler)', 'Rey Mysterio', 'The Miz',\n",
        "    'Randy Orton', 'Big Show', 'Daniel Bryan', 'Beth Phoenix', 'Kane (wrestler)'\n",
        "]"
      ],
      "metadata": {
        "id": "w3wTVLnwDd0X"
      },
      "execution_count": 49,
      "outputs": []
    },
    {
      "cell_type": "code",
      "source": [
        "# Create a dictionary to store Wikipedia texts for all relevant people (target + neighbors)\n",
        "all_wiki_texts = {topic: wiki_text} # 'wiki_text' is Dave Bautista's Wikipedia content\n"
      ],
      "metadata": {
        "id": "FG-x_FX4CnN6"
      },
      "execution_count": 63,
      "outputs": []
    },
    {
      "cell_type": "code",
      "source": [
        "for name in neighbor_names:\n",
        "    page = wikip.page(name)\n",
        "    if page.exists():\n",
        "        all_wiki_texts[name] = page.text\n",
        "        print(f\"  Fetched: {name}\")\n",
        "    else:\n",
        "        print(f\"  Wikipedia page not found for {name}. Storing empty string.\")\n",
        "        all_wiki_texts[name] = \"\""
      ],
      "metadata": {
        "colab": {
          "base_uri": "https://localhost:8080/"
        },
        "id": "D1L7sOW49Yi5",
        "outputId": "042a2dbf-c581-4299-88a6-d575634b4be3"
      },
      "execution_count": 51,
      "outputs": [
        {
          "output_type": "stream",
          "name": "stdout",
          "text": [
            "  Fetched: CM Punk\n",
            "  Fetched: John Cena\n",
            "  Fetched: Edge (wrestler)\n",
            "  Fetched: Rey Mysterio\n",
            "  Fetched: The Miz\n",
            "  Fetched: Randy Orton\n",
            "  Fetched: Big Show\n",
            "  Fetched: Daniel Bryan\n",
            "  Fetched: Beth Phoenix\n",
            "  Fetched: Kane (wrestler)\n"
          ]
        }
      ]
    },
    {
      "cell_type": "markdown",
      "source": [
        "### 2.4 Nearness Ranking"
      ],
      "metadata": {
        "id": "RWOcql6zER0b"
      }
    },
    {
      "cell_type": "code",
      "source": [
        "# Prepare the corpus for new TF-IDF vectorization\n",
        "wiki_corpus_documents = list(all_wiki_texts.values())\n",
        "wiki_corpus_names = list(all_wiki_texts.keys())"
      ],
      "metadata": {
        "id": "3VqTu1iaEREm"
      },
      "execution_count": 52,
      "outputs": []
    },
    {
      "cell_type": "code",
      "source": [
        "# Initialize a new TF-IDF Vectorizer for the Wikipedia corpus\n",
        "tfidf_vectorizer_wiki = TfidfVectorizer(stop_words='english')"
      ],
      "metadata": {
        "id": "REDFWhivEdIZ"
      },
      "execution_count": 53,
      "outputs": []
    },
    {
      "cell_type": "code",
      "source": [
        "# Fit and transform the Wikipedia corpus\n",
        "tfidf_matrix_wiki = tfidf_vectorizer_wiki.fit_transform(wiki_corpus_documents)"
      ],
      "metadata": {
        "id": "RWeNDGK8Egac"
      },
      "execution_count": 65,
      "outputs": []
    },
    {
      "cell_type": "code",
      "source": [
        "# Get the TF-IDF vector for the target person (Dave Bautista) from the new Wikipedia matrix\n",
        "try:\n",
        "    target_wiki_vector_index = wiki_corpus_names.index(target_name)\n",
        "    target_wiki_vector = tfidf_matrix_wiki[target_wiki_vector_index]\n",
        "except ValueError:\n",
        "    print(f\"Error: Target person '{target_name}' not found in the collected Wikipedia texts for TF-IDF calculation.\")\n",
        "    target_wiki_vector = None"
      ],
      "metadata": {
        "id": "7KMg66aBHTBr"
      },
      "execution_count": 66,
      "outputs": []
    },
    {
      "cell_type": "code",
      "source": [
        "new_wiki_rankings = []\n",
        "if target_wiki_vector is not None:\n",
        "    print(\"\\n--- Part 2.3: Calculating new rankings based on Wikipedia content ---\")\n",
        "    # Calculate cosine similarity of target_wiki_vector with all other vectors in tfidf_matrix_wiki\n",
        "    # The output will be a 1xN array of similarities\n",
        "    similarities = cosine_similarity(target_wiki_vector, tfidf_matrix_wiki).flatten()\n",
        "\n",
        "    for i, name in enumerate(wiki_corpus_names):\n",
        "        if name != target_name: # Exclude the target person from neighbor rankings\n",
        "            similarity_score_wiki = similarities[i]\n",
        "            new_wiki_rankings.append({'name': name, 'similarity_wiki': similarity_score_wiki})\n",
        "\n",
        "# Convert to DataFrame and rank by similarity\n",
        "wiki_rank_df = pd.DataFrame(new_wiki_rankings)"
      ],
      "metadata": {
        "colab": {
          "base_uri": "https://localhost:8080/"
        },
        "id": "cmew8NIwFl-Q",
        "outputId": "c39d13dc-bbf8-424e-8c57-33fbf3623a91"
      },
      "execution_count": 68,
      "outputs": [
        {
          "output_type": "stream",
          "name": "stdout",
          "text": [
            "\n",
            "--- Part 2.3: Calculating new rankings based on Wikipedia content ---\n"
          ]
        }
      ]
    },
    {
      "cell_type": "code",
      "source": [
        "if not wiki_rank_df.empty:\n",
        "    # Sort by similarity in descending order to get the closest ones as rank 1, 2, etc.\n",
        "    wiki_rank_df = wiki_rank_df.sort_values(by='similarity_wiki', ascending=False).reset_index(drop=True)\n",
        "    wiki_rank_df['rank_wiki'] = wiki_rank_df.index + 1\n",
        "\n",
        "    print(\"\\nNew Ranking based on Wikipedia Content:\")\n",
        "    print(wiki_rank_df)\n",
        "else:\n",
        "    print(\"\\nCould not calculate new Wikipedia rankings. Check if Wikipedia articles were fetched correctly or if there are enough neighbors.\")\n"
      ],
      "metadata": {
        "colab": {
          "base_uri": "https://localhost:8080/"
        },
        "id": "sUa0RmO2HwNZ",
        "outputId": "78dac68d-d6c2-4830-8552-b34f6b50c0b0"
      },
      "execution_count": 69,
      "outputs": [
        {
          "output_type": "stream",
          "name": "stdout",
          "text": [
            "\n",
            "New Ranking based on Wikipedia Content:\n",
            "              name  similarity_wiki  rank_wiki\n",
            "0      Randy Orton         0.474317          1\n",
            "1  Edge (wrestler)         0.433883          2\n",
            "2     Rey Mysterio         0.428493          3\n",
            "3        John Cena         0.425447          4\n",
            "4         Big Show         0.408944          5\n",
            "5  Kane (wrestler)         0.395238          6\n",
            "6          CM Punk         0.359426          7\n",
            "7     Daniel Bryan         0.338974          8\n",
            "8          The Miz         0.332097          9\n",
            "9     Beth Phoenix         0.235853         10\n"
          ]
        }
      ]
    },
    {
      "cell_type": "markdown",
      "source": [
        "### 2.5 Compare and Plot Rankings"
      ],
      "metadata": {
        "id": "MQjFwCXZH-4M"
      }
    },
    {
      "cell_type": "code",
      "source": [
        "# Create a DataFrame for Part 1's rankings using the names and similarity scores from your In[36] output\n",
        "part1_data = {\n",
        "    'name': ['CM Punk', 'John Cena', 'Edge (wrestler)', 'Rey Mysterio', 'The Miz',\n",
        "             'Randy Orton', 'Big Show', 'Daniel Bryan', 'Beth Phoenix', 'Kane (wrestler)'],\n",
        "    'similarity_nlp_csv': [-0.0916, -0.0943, -0.0971, -0.1070, -0.1088,\n",
        "                           -0.1177, -0.1196, -0.1200, -0.1468, -0.1470]\n",
        "}\n",
        "part1_df = pd.DataFrame(part1_data)\n",
        "# Rank them based on similarity_nlp_csv (higher similarity = lower rank number). Use 'min' for tie-breaking.\n",
        "part1_df['rank_nlp_csv'] = part1_df['similarity_nlp_csv'].rank(ascending=False, method='min').astype(int)\n",
        "part1_df = part1_df.sort_values(by='rank_nlp_csv').reset_index(drop=True)\n",
        "\n",
        "# print(\"\\n--- Part 2.4: Original Ranking based on NLP.csv ---\")\n",
        "# print(part1_df)\n",
        "df_part1 = pd.DataFrame(part1_df)\n",
        "df_part1"
      ],
      "metadata": {
        "colab": {
          "base_uri": "https://localhost:8080/",
          "height": 363
        },
        "id": "q8DQUwEHJExO",
        "outputId": "a3d4e6ec-c4e0-4f61-95ed-79e4a2d46652"
      },
      "execution_count": 73,
      "outputs": [
        {
          "output_type": "execute_result",
          "data": {
            "text/plain": [
              "              name  similarity_nlp_csv  rank_nlp_csv\n",
              "0          CM Punk             -0.0916             1\n",
              "1        John Cena             -0.0943             2\n",
              "2  Edge (wrestler)             -0.0971             3\n",
              "3     Rey Mysterio             -0.1070             4\n",
              "4          The Miz             -0.1088             5\n",
              "5      Randy Orton             -0.1177             6\n",
              "6         Big Show             -0.1196             7\n",
              "7     Daniel Bryan             -0.1200             8\n",
              "8     Beth Phoenix             -0.1468             9\n",
              "9  Kane (wrestler)             -0.1470            10"
            ],
            "text/html": [
              "\n",
              "  <div id=\"df-597e10e6-33fc-463d-ac30-bc8188bcd3bc\" class=\"colab-df-container\">\n",
              "    <div>\n",
              "<style scoped>\n",
              "    .dataframe tbody tr th:only-of-type {\n",
              "        vertical-align: middle;\n",
              "    }\n",
              "\n",
              "    .dataframe tbody tr th {\n",
              "        vertical-align: top;\n",
              "    }\n",
              "\n",
              "    .dataframe thead th {\n",
              "        text-align: right;\n",
              "    }\n",
              "</style>\n",
              "<table border=\"1\" class=\"dataframe\">\n",
              "  <thead>\n",
              "    <tr style=\"text-align: right;\">\n",
              "      <th></th>\n",
              "      <th>name</th>\n",
              "      <th>similarity_nlp_csv</th>\n",
              "      <th>rank_nlp_csv</th>\n",
              "    </tr>\n",
              "  </thead>\n",
              "  <tbody>\n",
              "    <tr>\n",
              "      <th>0</th>\n",
              "      <td>CM Punk</td>\n",
              "      <td>-0.0916</td>\n",
              "      <td>1</td>\n",
              "    </tr>\n",
              "    <tr>\n",
              "      <th>1</th>\n",
              "      <td>John Cena</td>\n",
              "      <td>-0.0943</td>\n",
              "      <td>2</td>\n",
              "    </tr>\n",
              "    <tr>\n",
              "      <th>2</th>\n",
              "      <td>Edge (wrestler)</td>\n",
              "      <td>-0.0971</td>\n",
              "      <td>3</td>\n",
              "    </tr>\n",
              "    <tr>\n",
              "      <th>3</th>\n",
              "      <td>Rey Mysterio</td>\n",
              "      <td>-0.1070</td>\n",
              "      <td>4</td>\n",
              "    </tr>\n",
              "    <tr>\n",
              "      <th>4</th>\n",
              "      <td>The Miz</td>\n",
              "      <td>-0.1088</td>\n",
              "      <td>5</td>\n",
              "    </tr>\n",
              "    <tr>\n",
              "      <th>5</th>\n",
              "      <td>Randy Orton</td>\n",
              "      <td>-0.1177</td>\n",
              "      <td>6</td>\n",
              "    </tr>\n",
              "    <tr>\n",
              "      <th>6</th>\n",
              "      <td>Big Show</td>\n",
              "      <td>-0.1196</td>\n",
              "      <td>7</td>\n",
              "    </tr>\n",
              "    <tr>\n",
              "      <th>7</th>\n",
              "      <td>Daniel Bryan</td>\n",
              "      <td>-0.1200</td>\n",
              "      <td>8</td>\n",
              "    </tr>\n",
              "    <tr>\n",
              "      <th>8</th>\n",
              "      <td>Beth Phoenix</td>\n",
              "      <td>-0.1468</td>\n",
              "      <td>9</td>\n",
              "    </tr>\n",
              "    <tr>\n",
              "      <th>9</th>\n",
              "      <td>Kane (wrestler)</td>\n",
              "      <td>-0.1470</td>\n",
              "      <td>10</td>\n",
              "    </tr>\n",
              "  </tbody>\n",
              "</table>\n",
              "</div>\n",
              "    <div class=\"colab-df-buttons\">\n",
              "\n",
              "  <div class=\"colab-df-container\">\n",
              "    <button class=\"colab-df-convert\" onclick=\"convertToInteractive('df-597e10e6-33fc-463d-ac30-bc8188bcd3bc')\"\n",
              "            title=\"Convert this dataframe to an interactive table.\"\n",
              "            style=\"display:none;\">\n",
              "\n",
              "  <svg xmlns=\"http://www.w3.org/2000/svg\" height=\"24px\" viewBox=\"0 -960 960 960\">\n",
              "    <path d=\"M120-120v-720h720v720H120Zm60-500h600v-160H180v160Zm220 220h160v-160H400v160Zm0 220h160v-160H400v160ZM180-400h160v-160H180v160Zm440 0h160v-160H620v160ZM180-180h160v-160H180v160Zm440 0h160v-160H620v160Z\"/>\n",
              "  </svg>\n",
              "    </button>\n",
              "\n",
              "  <style>\n",
              "    .colab-df-container {\n",
              "      display:flex;\n",
              "      gap: 12px;\n",
              "    }\n",
              "\n",
              "    .colab-df-convert {\n",
              "      background-color: #E8F0FE;\n",
              "      border: none;\n",
              "      border-radius: 50%;\n",
              "      cursor: pointer;\n",
              "      display: none;\n",
              "      fill: #1967D2;\n",
              "      height: 32px;\n",
              "      padding: 0 0 0 0;\n",
              "      width: 32px;\n",
              "    }\n",
              "\n",
              "    .colab-df-convert:hover {\n",
              "      background-color: #E2EBFA;\n",
              "      box-shadow: 0px 1px 2px rgba(60, 64, 67, 0.3), 0px 1px 3px 1px rgba(60, 64, 67, 0.15);\n",
              "      fill: #174EA6;\n",
              "    }\n",
              "\n",
              "    .colab-df-buttons div {\n",
              "      margin-bottom: 4px;\n",
              "    }\n",
              "\n",
              "    [theme=dark] .colab-df-convert {\n",
              "      background-color: #3B4455;\n",
              "      fill: #D2E3FC;\n",
              "    }\n",
              "\n",
              "    [theme=dark] .colab-df-convert:hover {\n",
              "      background-color: #434B5C;\n",
              "      box-shadow: 0px 1px 3px 1px rgba(0, 0, 0, 0.15);\n",
              "      filter: drop-shadow(0px 1px 2px rgba(0, 0, 0, 0.3));\n",
              "      fill: #FFFFFF;\n",
              "    }\n",
              "  </style>\n",
              "\n",
              "    <script>\n",
              "      const buttonEl =\n",
              "        document.querySelector('#df-597e10e6-33fc-463d-ac30-bc8188bcd3bc button.colab-df-convert');\n",
              "      buttonEl.style.display =\n",
              "        google.colab.kernel.accessAllowed ? 'block' : 'none';\n",
              "\n",
              "      async function convertToInteractive(key) {\n",
              "        const element = document.querySelector('#df-597e10e6-33fc-463d-ac30-bc8188bcd3bc');\n",
              "        const dataTable =\n",
              "          await google.colab.kernel.invokeFunction('convertToInteractive',\n",
              "                                                    [key], {});\n",
              "        if (!dataTable) return;\n",
              "\n",
              "        const docLinkHtml = 'Like what you see? Visit the ' +\n",
              "          '<a target=\"_blank\" href=https://colab.research.google.com/notebooks/data_table.ipynb>data table notebook</a>'\n",
              "          + ' to learn more about interactive tables.';\n",
              "        element.innerHTML = '';\n",
              "        dataTable['output_type'] = 'display_data';\n",
              "        await google.colab.output.renderOutput(dataTable, element);\n",
              "        const docLink = document.createElement('div');\n",
              "        docLink.innerHTML = docLinkHtml;\n",
              "        element.appendChild(docLink);\n",
              "      }\n",
              "    </script>\n",
              "  </div>\n",
              "\n",
              "\n",
              "    <div id=\"df-52db6ae5-75d4-488a-b414-1bff82e0cdc9\">\n",
              "      <button class=\"colab-df-quickchart\" onclick=\"quickchart('df-52db6ae5-75d4-488a-b414-1bff82e0cdc9')\"\n",
              "                title=\"Suggest charts\"\n",
              "                style=\"display:none;\">\n",
              "\n",
              "<svg xmlns=\"http://www.w3.org/2000/svg\" height=\"24px\"viewBox=\"0 0 24 24\"\n",
              "     width=\"24px\">\n",
              "    <g>\n",
              "        <path d=\"M19 3H5c-1.1 0-2 .9-2 2v14c0 1.1.9 2 2 2h14c1.1 0 2-.9 2-2V5c0-1.1-.9-2-2-2zM9 17H7v-7h2v7zm4 0h-2V7h2v10zm4 0h-2v-4h2v4z\"/>\n",
              "    </g>\n",
              "</svg>\n",
              "      </button>\n",
              "\n",
              "<style>\n",
              "  .colab-df-quickchart {\n",
              "      --bg-color: #E8F0FE;\n",
              "      --fill-color: #1967D2;\n",
              "      --hover-bg-color: #E2EBFA;\n",
              "      --hover-fill-color: #174EA6;\n",
              "      --disabled-fill-color: #AAA;\n",
              "      --disabled-bg-color: #DDD;\n",
              "  }\n",
              "\n",
              "  [theme=dark] .colab-df-quickchart {\n",
              "      --bg-color: #3B4455;\n",
              "      --fill-color: #D2E3FC;\n",
              "      --hover-bg-color: #434B5C;\n",
              "      --hover-fill-color: #FFFFFF;\n",
              "      --disabled-bg-color: #3B4455;\n",
              "      --disabled-fill-color: #666;\n",
              "  }\n",
              "\n",
              "  .colab-df-quickchart {\n",
              "    background-color: var(--bg-color);\n",
              "    border: none;\n",
              "    border-radius: 50%;\n",
              "    cursor: pointer;\n",
              "    display: none;\n",
              "    fill: var(--fill-color);\n",
              "    height: 32px;\n",
              "    padding: 0;\n",
              "    width: 32px;\n",
              "  }\n",
              "\n",
              "  .colab-df-quickchart:hover {\n",
              "    background-color: var(--hover-bg-color);\n",
              "    box-shadow: 0 1px 2px rgba(60, 64, 67, 0.3), 0 1px 3px 1px rgba(60, 64, 67, 0.15);\n",
              "    fill: var(--button-hover-fill-color);\n",
              "  }\n",
              "\n",
              "  .colab-df-quickchart-complete:disabled,\n",
              "  .colab-df-quickchart-complete:disabled:hover {\n",
              "    background-color: var(--disabled-bg-color);\n",
              "    fill: var(--disabled-fill-color);\n",
              "    box-shadow: none;\n",
              "  }\n",
              "\n",
              "  .colab-df-spinner {\n",
              "    border: 2px solid var(--fill-color);\n",
              "    border-color: transparent;\n",
              "    border-bottom-color: var(--fill-color);\n",
              "    animation:\n",
              "      spin 1s steps(1) infinite;\n",
              "  }\n",
              "\n",
              "  @keyframes spin {\n",
              "    0% {\n",
              "      border-color: transparent;\n",
              "      border-bottom-color: var(--fill-color);\n",
              "      border-left-color: var(--fill-color);\n",
              "    }\n",
              "    20% {\n",
              "      border-color: transparent;\n",
              "      border-left-color: var(--fill-color);\n",
              "      border-top-color: var(--fill-color);\n",
              "    }\n",
              "    30% {\n",
              "      border-color: transparent;\n",
              "      border-left-color: var(--fill-color);\n",
              "      border-top-color: var(--fill-color);\n",
              "      border-right-color: var(--fill-color);\n",
              "    }\n",
              "    40% {\n",
              "      border-color: transparent;\n",
              "      border-right-color: var(--fill-color);\n",
              "      border-top-color: var(--fill-color);\n",
              "    }\n",
              "    60% {\n",
              "      border-color: transparent;\n",
              "      border-right-color: var(--fill-color);\n",
              "    }\n",
              "    80% {\n",
              "      border-color: transparent;\n",
              "      border-right-color: var(--fill-color);\n",
              "      border-bottom-color: var(--fill-color);\n",
              "    }\n",
              "    90% {\n",
              "      border-color: transparent;\n",
              "      border-bottom-color: var(--fill-color);\n",
              "    }\n",
              "  }\n",
              "</style>\n",
              "\n",
              "      <script>\n",
              "        async function quickchart(key) {\n",
              "          const quickchartButtonEl =\n",
              "            document.querySelector('#' + key + ' button');\n",
              "          quickchartButtonEl.disabled = true;  // To prevent multiple clicks.\n",
              "          quickchartButtonEl.classList.add('colab-df-spinner');\n",
              "          try {\n",
              "            const charts = await google.colab.kernel.invokeFunction(\n",
              "                'suggestCharts', [key], {});\n",
              "          } catch (error) {\n",
              "            console.error('Error during call to suggestCharts:', error);\n",
              "          }\n",
              "          quickchartButtonEl.classList.remove('colab-df-spinner');\n",
              "          quickchartButtonEl.classList.add('colab-df-quickchart-complete');\n",
              "        }\n",
              "        (() => {\n",
              "          let quickchartButtonEl =\n",
              "            document.querySelector('#df-52db6ae5-75d4-488a-b414-1bff82e0cdc9 button');\n",
              "          quickchartButtonEl.style.display =\n",
              "            google.colab.kernel.accessAllowed ? 'block' : 'none';\n",
              "        })();\n",
              "      </script>\n",
              "    </div>\n",
              "\n",
              "  <div id=\"id_1a558b28-433b-4042-8415-b574de602aa1\">\n",
              "    <style>\n",
              "      .colab-df-generate {\n",
              "        background-color: #E8F0FE;\n",
              "        border: none;\n",
              "        border-radius: 50%;\n",
              "        cursor: pointer;\n",
              "        display: none;\n",
              "        fill: #1967D2;\n",
              "        height: 32px;\n",
              "        padding: 0 0 0 0;\n",
              "        width: 32px;\n",
              "      }\n",
              "\n",
              "      .colab-df-generate:hover {\n",
              "        background-color: #E2EBFA;\n",
              "        box-shadow: 0px 1px 2px rgba(60, 64, 67, 0.3), 0px 1px 3px 1px rgba(60, 64, 67, 0.15);\n",
              "        fill: #174EA6;\n",
              "      }\n",
              "\n",
              "      [theme=dark] .colab-df-generate {\n",
              "        background-color: #3B4455;\n",
              "        fill: #D2E3FC;\n",
              "      }\n",
              "\n",
              "      [theme=dark] .colab-df-generate:hover {\n",
              "        background-color: #434B5C;\n",
              "        box-shadow: 0px 1px 3px 1px rgba(0, 0, 0, 0.15);\n",
              "        filter: drop-shadow(0px 1px 2px rgba(0, 0, 0, 0.3));\n",
              "        fill: #FFFFFF;\n",
              "      }\n",
              "    </style>\n",
              "    <button class=\"colab-df-generate\" onclick=\"generateWithVariable('df_part1')\"\n",
              "            title=\"Generate code using this dataframe.\"\n",
              "            style=\"display:none;\">\n",
              "\n",
              "  <svg xmlns=\"http://www.w3.org/2000/svg\" height=\"24px\"viewBox=\"0 0 24 24\"\n",
              "       width=\"24px\">\n",
              "    <path d=\"M7,19H8.4L18.45,9,17,7.55,7,17.6ZM5,21V16.75L18.45,3.32a2,2,0,0,1,2.83,0l1.4,1.43a1.91,1.91,0,0,1,.58,1.4,1.91,1.91,0,0,1-.58,1.4L9.25,21ZM18.45,9,17,7.55Zm-12,3A5.31,5.31,0,0,0,4.9,8.1,5.31,5.31,0,0,0,1,6.5,5.31,5.31,0,0,0,4.9,4.9,5.31,5.31,0,0,0,6.5,1,5.31,5.31,0,0,0,8.1,4.9,5.31,5.31,0,0,0,12,6.5,5.46,5.46,0,0,0,6.5,12Z\"/>\n",
              "  </svg>\n",
              "    </button>\n",
              "    <script>\n",
              "      (() => {\n",
              "      const buttonEl =\n",
              "        document.querySelector('#id_1a558b28-433b-4042-8415-b574de602aa1 button.colab-df-generate');\n",
              "      buttonEl.style.display =\n",
              "        google.colab.kernel.accessAllowed ? 'block' : 'none';\n",
              "\n",
              "      buttonEl.onclick = () => {\n",
              "        google.colab.notebook.generateWithVariable('df_part1');\n",
              "      }\n",
              "      })();\n",
              "    </script>\n",
              "  </div>\n",
              "\n",
              "    </div>\n",
              "  </div>\n"
            ],
            "application/vnd.google.colaboratory.intrinsic+json": {
              "type": "dataframe",
              "variable_name": "df_part1",
              "summary": "{\n  \"name\": \"df_part1\",\n  \"rows\": 10,\n  \"fields\": [\n    {\n      \"column\": \"name\",\n      \"properties\": {\n        \"dtype\": \"string\",\n        \"num_unique_values\": 10,\n        \"samples\": [\n          \"Beth Phoenix\",\n          \"John Cena\",\n          \"Randy Orton\"\n        ],\n        \"semantic_type\": \"\",\n        \"description\": \"\"\n      }\n    },\n    {\n      \"column\": \"similarity_nlp_csv\",\n      \"properties\": {\n        \"dtype\": \"number\",\n        \"std\": 0.01968527086145601,\n        \"min\": -0.147,\n        \"max\": -0.0916,\n        \"num_unique_values\": 10,\n        \"samples\": [\n          -0.1468,\n          -0.0943,\n          -0.1177\n        ],\n        \"semantic_type\": \"\",\n        \"description\": \"\"\n      }\n    },\n    {\n      \"column\": \"rank_nlp_csv\",\n      \"properties\": {\n        \"dtype\": \"number\",\n        \"std\": 3,\n        \"min\": 1,\n        \"max\": 10,\n        \"num_unique_values\": 10,\n        \"samples\": [\n          9,\n          2,\n          6\n        ],\n        \"semantic_type\": \"\",\n        \"description\": \"\"\n      }\n    }\n  ]\n}"
            }
          },
          "metadata": {},
          "execution_count": 73
        }
      ]
    },
    {
      "cell_type": "code",
      "source": [
        "# Merge the two ranking DataFrames on the 'name' column\n",
        "comparison_df = pd.merge(part1_df, wiki_rank_df, on='name', how='inner')\n",
        "\n",
        "# Calculate the difference in ranks (positive means NLP.csv rank was numerically higher/worse)\n",
        "comparison_df['rank_difference'] = comparison_df['rank_nlp_csv'] - comparison_df['rank_wiki']\n",
        "\n",
        "# Sort the comparison DataFrame by the Part 1 rank for consistent plotting\n",
        "comparison_df = comparison_df.sort_values(by='rank_nlp_csv').reset_index(drop=True)\n",
        "\n",
        "print(\"\\nComparison Table (NLP.csv Rank vs. Wikipedia Rank):\")\n",
        "print(comparison_df[['name', 'rank_nlp_csv', 'rank_wiki', 'rank_difference']])\n",
        "\n",
        "# Plot the comparison\n",
        "plt.figure(figsize=(14, 8))\n",
        "bar_width = 0.35\n",
        "index = np.arange(len(comparison_df))\n",
        "\n",
        "plt.bar(index, comparison_df['rank_nlp_csv'], bar_width, label='Rank (NLP.csv)', color='skyblue')\n",
        "plt.bar(index + bar_width, comparison_df['rank_wiki'], bar_width, label='Rank (Wikipedia)', color='lightcoral')\n",
        "\n",
        "plt.xlabel('Neighbor')\n",
        "plt.ylabel('Rank')\n",
        "plt.title(f'Comparison of Nearest Neighbor Ranks for \"{target_name}\"\\n(NLP.csv Overview vs. Full Wikipedia Content)')\n",
        "plt.xticks(index + bar_width / 2, comparison_df['name'], rotation=45, ha='right')\n",
        "plt.legend()\n",
        "plt.grid(axis='y', linestyle='--', alpha=0.7)\n",
        "plt.tight_layout() # Adjust layout to prevent labels from overlapping\n",
        "plt.show()"
      ],
      "metadata": {
        "colab": {
          "base_uri": "https://localhost:8080/",
          "height": 765
        },
        "id": "wudldFXiKM14",
        "outputId": "c6c0a826-e973-4a55-8d16-2c207092e095"
      },
      "execution_count": 76,
      "outputs": [
        {
          "output_type": "stream",
          "name": "stdout",
          "text": [
            "\n",
            "Comparison Table (NLP.csv Rank vs. Wikipedia Rank):\n",
            "              name  rank_nlp_csv  rank_wiki  rank_difference\n",
            "0          CM Punk             1          7               -6\n",
            "1        John Cena             2          4               -2\n",
            "2  Edge (wrestler)             3          2                1\n",
            "3     Rey Mysterio             4          3                1\n",
            "4          The Miz             5          9               -4\n",
            "5      Randy Orton             6          1                5\n",
            "6         Big Show             7          5                2\n",
            "7     Daniel Bryan             8          8                0\n",
            "8     Beth Phoenix             9         10               -1\n",
            "9  Kane (wrestler)            10          6                4\n"
          ]
        },
        {
          "output_type": "display_data",
          "data": {
            "text/plain": [
              "<Figure size 1400x800 with 1 Axes>"
            ],
            "image/png": "[encoded data removed]"
          },
          "metadata": {}
        }
      ]
    },
    {
      "cell_type": "markdown",
      "metadata": {
        "id": "xEIw9hfFObw7"
      },
      "source": [
        "## Part 3: Interactive Notebook\n"
      ]
    },
    {
      "cell_type": "markdown",
      "metadata": {
        "id": "SVW0y4Axty7A"
      },
      "source": [
        "Make an interactive notebook where a user can choose or enter a name and the notebook displays the 10 closest individuals.\n",
        "\n",
        "In addition to presenting the project slides, at the end of the presentation each student will demonstrate their code using a famous person suggested by the other students that exists in the DBpedia set.\n"
      ]
    },
    {
      "cell_type": "code",
      "source": [
        "!curl -s https://ddc-datascience.s3.amazonaws.com/Projects/Project.5-NLP/Data/NLP.csv | wc -l"
      ],
      "metadata": {
        "colab": {
          "base_uri": "https://localhost:8080/"
        },
        "id": "t6dopgR3vfDU",
        "outputId": "6f5a7f71-f51a-456c-9feb-31c90146e862"
      },
      "execution_count": 98,
      "outputs": [
        {
          "output_type": "stream",
          "name": "stdout",
          "text": [
            "42786\n"
          ]
        }
      ]
    }
  ],
  "metadata": {
    "colab": {
      "provenance": [],
      "toc_visible": true,
      "include_colab_link": true
    },
    "kernelspec": {
      "display_name": "Python 3 (ipykernel)",
      "language": "python",
      "name": "python3"
    },
    "language_info": {
      "codemirror_mode": {
        "name": "ipython",
        "version": 3
      },
      "file_extension": ".py",
      "mimetype": "text/x-python",
      "name": "python",
      "nbconvert_exporter": "python",
      "pygments_lexer": "ipython3",
      "version": "3.10.12"
    }
  },
  "nbformat": 4,
  "nbformat_minor": 0
}